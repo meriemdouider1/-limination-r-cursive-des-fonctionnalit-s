{
  "nbformat": 4,
  "nbformat_minor": 0,
  "metadata": {
    "colab": {
      "name": "TP 1 ANN Q5 .ipynb",
      "provenance": [],
      "collapsed_sections": [],
      "authorship_tag": "ABX9TyMAtoMpsRL+yyHJpUUQXlvw",
      "include_colab_link": true
    },
    "kernelspec": {
      "name": "python3",
      "display_name": "Python 3"
    }
  },
  "cells": [
    {
      "cell_type": "markdown",
      "metadata": {
        "id": "view-in-github",
        "colab_type": "text"
      },
      "source": [
        "<a href=\"https://colab.research.google.com/github/meriemdouider1/tp-deep-learning/blob/main/TP_1_ANN_Q5_.ipynb\" target=\"_parent\"><img src=\"https://colab.research.google.com/assets/colab-badge.svg\" alt=\"Open In Colab\"/></a>"
      ]
    },
    {
      "cell_type": "markdown",
      "metadata": {
        "id": "gfJHcYnJdFbp"
      },
      "source": [
        "# **TP1 : ANN (Q5) **"
      ]
    },
    {
      "cell_type": "markdown",
      "metadata": {
        "id": "E3cx1BQ_ddZQ"
      },
      "source": [
        "# **Setup**"
      ]
    },
    {
      "cell_type": "code",
      "metadata": {
        "id": "jud4xB-iFrD-"
      },
      "source": [
        "# Common imports\n",
        "import numpy as np\n",
        "import os"
      ],
      "execution_count": null,
      "outputs": []
    },
    {
      "cell_type": "code",
      "metadata": {
        "id": "DjZNDzwkFw8m"
      },
      "source": [
        "# to make this notebook's output stable across runs\n",
        "np.random.seed(42)\n",
        "\n",
        "# To plot pretty figures\n",
        "%matplotlib inline\n",
        "import matplotlib as mpl\n",
        "import matplotlib.pyplot as plt\n",
        "mpl.rc('axes', labelsize=14)\n",
        "mpl.rc('xtick', labelsize=12)\n",
        "mpl.rc('ytick', labelsize=12)"
      ],
      "execution_count": null,
      "outputs": []
    },
    {
      "cell_type": "code",
      "metadata": {
        "colab": {
          "base_uri": "https://localhost:8080/",
          "height": 37
        },
        "id": "L31r9QDaF0GP",
        "outputId": "afb0ee5e-8625-48ed-95d4-fb633568a5a9"
      },
      "source": [
        "import tensorflow as tf\n",
        "from tensorflow import keras\n",
        "tf.__version__"
      ],
      "execution_count": null,
      "outputs": [
        {
          "output_type": "execute_result",
          "data": {
            "application/vnd.google.colaboratory.intrinsic+json": {
              "type": "string"
            },
            "text/plain": [
              "'2.3.0'"
            ]
          },
          "metadata": {
            "tags": []
          },
          "execution_count": 43
        }
      ]
    },
    {
      "cell_type": "markdown",
      "metadata": {
        "id": "URYMG3jhS0Br"
      },
      "source": [
        "Let's start by loading the MNIST digits dataset. Keras has a number of functions to load popular datasets in keras.datasets. The dataset is already split for you between a training set and a test set, but it can be useful to split the training set further to have a validation set:"
      ]
    },
    {
      "cell_type": "markdown",
      "metadata": {
        "id": "eBV5Qcr0Th3M"
      },
      "source": [
        "https://keras.io/api/datasets/mnist/"
      ]
    },
    {
      "cell_type": "code",
      "metadata": {
        "id": "k2mJk8PXGRhi"
      },
      "source": [
        "data = keras.datasets.mnist\n",
        "(X_train_full, y_train_full), (X_test, y_test) = data.load_data()"
      ],
      "execution_count": null,
      "outputs": []
    },
    {
      "cell_type": "code",
      "metadata": {
        "colab": {
          "base_uri": "https://localhost:8080/"
        },
        "id": "3ItGv3rYG_G5",
        "outputId": "455ece24-1fba-4910-f957-9d9c8b7315de"
      },
      "source": [
        "X_train_full.shape"
      ],
      "execution_count": null,
      "outputs": [
        {
          "output_type": "execute_result",
          "data": {
            "text/plain": [
              "(60000, 28, 28)"
            ]
          },
          "metadata": {
            "tags": []
          },
          "execution_count": 45
        }
      ]
    },
    {
      "cell_type": "code",
      "metadata": {
        "colab": {
          "base_uri": "https://localhost:8080/"
        },
        "id": "4h0RNonGIlXE",
        "outputId": "3dff844f-8b00-4409-dccb-e845a8633809"
      },
      "source": [
        "y_train_full"
      ],
      "execution_count": null,
      "outputs": [
        {
          "output_type": "execute_result",
          "data": {
            "text/plain": [
              "array([5, 0, 4, ..., 5, 6, 8], dtype=uint8)"
            ]
          },
          "metadata": {
            "tags": []
          },
          "execution_count": 46
        }
      ]
    },
    {
      "cell_type": "code",
      "metadata": {
        "id": "KVye4Jw9Ilaj"
      },
      "source": [
        "X_valid, X_train = X_train_full[:7000] / 255., X_train_full[7000:] / 255.\n",
        "y_valid, y_train = y_train_full[:7000], y_train_full[7000:]\n",
        "X_test = X_test / 255."
      ],
      "execution_count": null,
      "outputs": []
    },
    {
      "cell_type": "code",
      "metadata": {
        "colab": {
          "base_uri": "https://localhost:8080/"
        },
        "id": "hMToeBdbIldp",
        "outputId": "91061d31-7bfa-4b95-c98c-4332a6747766"
      },
      "source": [
        "X_valid.shape"
      ],
      "execution_count": null,
      "outputs": [
        {
          "output_type": "execute_result",
          "data": {
            "text/plain": [
              "(7000, 28, 28)"
            ]
          },
          "metadata": {
            "tags": []
          },
          "execution_count": 48
        }
      ]
    },
    {
      "cell_type": "code",
      "metadata": {
        "colab": {
          "base_uri": "https://localhost:8080/"
        },
        "id": "iLkYFp7dIlgw",
        "outputId": "5b27b4be-7532-4133-abaf-e4520f67e709"
      },
      "source": [
        "X_train.shape"
      ],
      "execution_count": null,
      "outputs": [
        {
          "output_type": "execute_result",
          "data": {
            "text/plain": [
              "(53000, 28, 28)"
            ]
          },
          "metadata": {
            "tags": []
          },
          "execution_count": 49
        }
      ]
    },
    {
      "cell_type": "code",
      "metadata": {
        "colab": {
          "base_uri": "https://localhost:8080/"
        },
        "id": "DKfE11GiIlkL",
        "outputId": "44245a34-67af-4dac-d807-8bdceb8842c2"
      },
      "source": [
        "X_test.shape"
      ],
      "execution_count": null,
      "outputs": [
        {
          "output_type": "execute_result",
          "data": {
            "text/plain": [
              "(10000, 28, 28)"
            ]
          },
          "metadata": {
            "tags": []
          },
          "execution_count": 50
        }
      ]
    },
    {
      "cell_type": "code",
      "metadata": {
        "colab": {
          "base_uri": "https://localhost:8080/",
          "height": 248
        },
        "id": "borYAA6tIlmz",
        "outputId": "8f8ccb47-bc45-4ce8-a619-70048c201040"
      },
      "source": [
        "plt.imshow(X_train[0], cmap=\"binary\")\n",
        "plt.axis('off')\n",
        "plt.show()"
      ],
      "execution_count": null,
      "outputs": [
        {
          "output_type": "display_data",
          "data": {
            "image/png": "[encoded data removed]",
            "text/plain": [
              "<Figure size 432x288 with 1 Axes>"
            ]
          },
          "metadata": {
            "tags": [],
            "needs_background": "light"
          }
        }
      ]
    },
    {
      "cell_type": "code",
      "metadata": {
        "colab": {
          "base_uri": "https://localhost:8080/",
          "height": 248
        },
        "id": "_UTkkMxuIlqD",
        "outputId": "cb5364e6-b1ce-4a7e-cead-380e7aeefbb4"
      },
      "source": [
        "plt.imshow(X_test[0], cmap=\"binary\")\n",
        "plt.axis('off')\n",
        "plt.show()"
      ],
      "execution_count": null,
      "outputs": [
        {
          "output_type": "display_data",
          "data": {
            "image/png": "[encoded data removed]",
            "text/plain": [
              "<Figure size 432x288 with 1 Axes>"
            ]
          },
          "metadata": {
            "tags": [],
            "needs_background": "light"
          }
        }
      ]
    },
    {
      "cell_type": "code",
      "metadata": {
        "colab": {
          "base_uri": "https://localhost:8080/",
          "height": 248
        },
        "id": "YwtcUnH5Ils0",
        "outputId": "90f3ec1c-c474-4238-d1fa-7babc24e8253"
      },
      "source": [
        "plt.imshow(X_valid[0], cmap=\"binary\")\n",
        "plt.axis('off')\n",
        "plt.show()"
      ],
      "execution_count": null,
      "outputs": [
        {
          "output_type": "display_data",
          "data": {
            "image/png": "[encoded data removed]",
            "text/plain": [
              "<Figure size 432x288 with 1 Axes>"
            ]
          },
          "metadata": {
            "tags": [],
            "needs_background": "light"
          }
        }
      ]
    },
    {
      "cell_type": "code",
      "metadata": {
        "id": "3CgN0r4NIlvq"
      },
      "source": [
        "class_names = [\"0\", \"1\", \"2\", \"3\", \"4\",\"5\", \"6\", \"7\", \"8\", \"9\"]"
      ],
      "execution_count": null,
      "outputs": []
    },
    {
      "cell_type": "code",
      "metadata": {
        "colab": {
          "base_uri": "https://localhost:8080/",
          "height": 37
        },
        "id": "mYbCl5tSIlyz",
        "outputId": "54baed3e-c352-4cf1-f8ce-c8ca47424cca"
      },
      "source": [
        "class_names[y_train[0]]"
      ],
      "execution_count": null,
      "outputs": [
        {
          "output_type": "execute_result",
          "data": {
            "application/vnd.google.colaboratory.intrinsic+json": {
              "type": "string"
            },
            "text/plain": [
              "'8'"
            ]
          },
          "metadata": {
            "tags": []
          },
          "execution_count": 55
        }
      ]
    },
    {
      "cell_type": "code",
      "metadata": {
        "colab": {
          "base_uri": "https://localhost:8080/",
          "height": 308
        },
        "id": "o4m4yPm-K_OD",
        "outputId": "204dae18-3fa2-4cb3-f6a0-42b8f570cb6d"
      },
      "source": [
        "n_rows = 4\n",
        "n_cols = 10\n",
        "plt.figure(figsize=(n_cols * 1.2, n_rows * 1.2))\n",
        "for row in range(n_rows):\n",
        "    for col in range(n_cols):\n",
        "        index = n_cols * row + col\n",
        "        plt.subplot(n_rows, n_cols, index + 1)\n",
        "        plt.imshow(X_train[index], cmap=\"binary\", interpolation=\"nearest\")\n",
        "        plt.axis('off')\n",
        "        plt.title(class_names[y_train[index]], fontsize=12)\n",
        "plt.subplots_adjust(wspace=0.1, hspace=0.5)\n",
        "plt.show()"
      ],
      "execution_count": null,
      "outputs": [
        {
          "output_type": "display_data",
          "data": {
            "image/png": "[encoded data removed]",
            "text/plain": [
              "<Figure size 864x345.6 with 40 Axes>"
            ]
          },
          "metadata": {
            "tags": [],
            "needs_background": "light"
          }
        }
      ]
    },
    {
      "cell_type": "markdown",
      "metadata": {
        "id": "IXmZIvhZLVS6"
      },
      "source": [
        "\n",
        "# **Construct a Model**\n"
      ]
    },
    {
      "cell_type": "code",
      "metadata": {
        "id": "iDOziI75LQ70"
      },
      "source": [
        "model = keras.models.Sequential()\n",
        "model.add(keras.layers.Flatten(input_shape=[28, 28]))\n",
        "model.add(keras.layers.Dense(200, activation=\"relu\"))\n",
        "model.add(keras.layers.Dense(100, activation=\"relu\"))\n",
        "model.add(keras.layers.Dense(10, activation=\"softmax\"))"
      ],
      "execution_count": null,
      "outputs": []
    },
    {
      "cell_type": "code",
      "metadata": {
        "id": "qrqzJr3jNFMf"
      },
      "source": [
        "keras.backend.clear_session()\n",
        "np.random.seed(42)"
      ],
      "execution_count": null,
      "outputs": []
    },
    {
      "cell_type": "code",
      "metadata": {
        "colab": {
          "base_uri": "https://localhost:8080/"
        },
        "id": "ZkO6QjbiNFVs",
        "outputId": "50975be2-fd09-40f9-f9c6-148157b7d245"
      },
      "source": [
        "model.layers"
      ],
      "execution_count": null,
      "outputs": [
        {
          "output_type": "execute_result",
          "data": {
            "text/plain": [
              "[<tensorflow.python.keras.layers.core.Flatten at 0x7feeea7f8128>,\n",
              " <tensorflow.python.keras.layers.core.Dense at 0x7feee02aa358>,\n",
              " <tensorflow.python.keras.layers.core.Dense at 0x7feee023c278>,\n",
              " <tensorflow.python.keras.layers.core.Dense at 0x7feee020fc88>]"
            ]
          },
          "metadata": {
            "tags": []
          },
          "execution_count": 60
        }
      ]
    },
    {
      "cell_type": "code",
      "metadata": {
        "colab": {
          "base_uri": "https://localhost:8080/"
        },
        "id": "QzFYttcZNFeK",
        "outputId": "aab1cb88-174b-46bf-dda5-8b5c75056a8e"
      },
      "source": [
        "model.summary()"
      ],
      "execution_count": null,
      "outputs": [
        {
          "output_type": "stream",
          "text": [
            "Model: \"sequential\"\n",
            "_________________________________________________________________\n",
            "Layer (type)                 Output Shape              Param #   \n",
            "=================================================================\n",
            "flatten (Flatten)            (None, 784)               0         \n",
            "_________________________________________________________________\n",
            "dense (Dense)                (None, 200)               157000    \n",
            "_________________________________________________________________\n",
            "dense_1 (Dense)              (None, 100)               20100     \n",
            "_________________________________________________________________\n",
            "dense_2 (Dense)              (None, 10)                1010      \n",
            "=================================================================\n",
            "Total params: 178,110\n",
            "Trainable params: 178,110\n",
            "Non-trainable params: 0\n",
            "_________________________________________________________________\n"
          ],
          "name": "stdout"
        }
      ]
    },
    {
      "cell_type": "code",
      "metadata": {
        "colab": {
          "base_uri": "https://localhost:8080/",
          "height": 37
        },
        "id": "iRXOwV28NFl7",
        "outputId": "3ad33e47-dc52-4f6a-dc39-2c0468e42c8c"
      },
      "source": [
        "hidden1 = model.layers[1]\n",
        "hidden1.name"
      ],
      "execution_count": null,
      "outputs": [
        {
          "output_type": "execute_result",
          "data": {
            "application/vnd.google.colaboratory.intrinsic+json": {
              "type": "string"
            },
            "text/plain": [
              "'dense'"
            ]
          },
          "metadata": {
            "tags": []
          },
          "execution_count": 62
        }
      ]
    },
    {
      "cell_type": "code",
      "metadata": {
        "colab": {
          "base_uri": "https://localhost:8080/"
        },
        "id": "4xIwrM5NNFo0",
        "outputId": "eae3fb2a-b4cd-4638-a9e0-b975cb3a63d3"
      },
      "source": [
        "model.get_layer(hidden1.name) is hidden1"
      ],
      "execution_count": null,
      "outputs": [
        {
          "output_type": "execute_result",
          "data": {
            "text/plain": [
              "True"
            ]
          },
          "metadata": {
            "tags": []
          },
          "execution_count": 63
        }
      ]
    },
    {
      "cell_type": "code",
      "metadata": {
        "id": "VvQhM1vjNFrR"
      },
      "source": [
        "weights, biases = hidden1.get_weights()"
      ],
      "execution_count": null,
      "outputs": []
    },
    {
      "cell_type": "code",
      "metadata": {
        "colab": {
          "base_uri": "https://localhost:8080/"
        },
        "id": "51fLqnW_OVZQ",
        "outputId": "870fa193-f667-4965-d8f2-4c1c4948410c"
      },
      "source": [
        "weights"
      ],
      "execution_count": null,
      "outputs": [
        {
          "output_type": "execute_result",
          "data": {
            "text/plain": [
              "array([[ 0.01617655,  0.0674751 ,  0.02052123, ...,  0.02189709,\n",
              "        -0.04827797, -0.05684905],\n",
              "       [ 0.06866451, -0.05491756, -0.07640453, ..., -0.04884448,\n",
              "        -0.05103448,  0.05897571],\n",
              "       [-0.07126424, -0.01215146, -0.01059245, ..., -0.03099586,\n",
              "         0.00530362, -0.02873022],\n",
              "       ...,\n",
              "       [-0.06098728, -0.06308863, -0.05908671, ..., -0.02309285,\n",
              "        -0.02039566,  0.01866676],\n",
              "       [-0.07290688, -0.02272022,  0.01936599, ..., -0.06894633,\n",
              "        -0.06021176,  0.0253728 ],\n",
              "       [-0.04675382, -0.03229852,  0.06977442, ..., -0.05044138,\n",
              "         0.06153715, -0.00549798]], dtype=float32)"
            ]
          },
          "metadata": {
            "tags": []
          },
          "execution_count": 65
        }
      ]
    },
    {
      "cell_type": "code",
      "metadata": {
        "colab": {
          "base_uri": "https://localhost:8080/"
        },
        "id": "MpGxE9DqOV0i",
        "outputId": "fa9f9f35-0563-475f-934c-21de7719dd9c"
      },
      "source": [
        "weights.shape"
      ],
      "execution_count": null,
      "outputs": [
        {
          "output_type": "execute_result",
          "data": {
            "text/plain": [
              "(784, 200)"
            ]
          },
          "metadata": {
            "tags": []
          },
          "execution_count": 66
        }
      ]
    },
    {
      "cell_type": "code",
      "metadata": {
        "colab": {
          "base_uri": "https://localhost:8080/"
        },
        "id": "a_hz-LK3OVfJ",
        "outputId": "b32bbe0b-6c77-4b53-d7dd-0fe4e8372d73"
      },
      "source": [
        "biases"
      ],
      "execution_count": null,
      "outputs": [
        {
          "output_type": "execute_result",
          "data": {
            "text/plain": [
              "array([0., 0., 0., 0., 0., 0., 0., 0., 0., 0., 0., 0., 0., 0., 0., 0., 0.,\n",
              "       0., 0., 0., 0., 0., 0., 0., 0., 0., 0., 0., 0., 0., 0., 0., 0., 0.,\n",
              "       0., 0., 0., 0., 0., 0., 0., 0., 0., 0., 0., 0., 0., 0., 0., 0., 0.,\n",
              "       0., 0., 0., 0., 0., 0., 0., 0., 0., 0., 0., 0., 0., 0., 0., 0., 0.,\n",
              "       0., 0., 0., 0., 0., 0., 0., 0., 0., 0., 0., 0., 0., 0., 0., 0., 0.,\n",
              "       0., 0., 0., 0., 0., 0., 0., 0., 0., 0., 0., 0., 0., 0., 0., 0., 0.,\n",
              "       0., 0., 0., 0., 0., 0., 0., 0., 0., 0., 0., 0., 0., 0., 0., 0., 0.,\n",
              "       0., 0., 0., 0., 0., 0., 0., 0., 0., 0., 0., 0., 0., 0., 0., 0., 0.,\n",
              "       0., 0., 0., 0., 0., 0., 0., 0., 0., 0., 0., 0., 0., 0., 0., 0., 0.,\n",
              "       0., 0., 0., 0., 0., 0., 0., 0., 0., 0., 0., 0., 0., 0., 0., 0., 0.,\n",
              "       0., 0., 0., 0., 0., 0., 0., 0., 0., 0., 0., 0., 0., 0., 0., 0., 0.,\n",
              "       0., 0., 0., 0., 0., 0., 0., 0., 0., 0., 0., 0., 0.], dtype=float32)"
            ]
          },
          "metadata": {
            "tags": []
          },
          "execution_count": 67
        }
      ]
    },
    {
      "cell_type": "code",
      "metadata": {
        "colab": {
          "base_uri": "https://localhost:8080/"
        },
        "id": "_H2eew3TOVzR",
        "outputId": "54cb52d6-03da-4b0f-a8a8-d25a3bf9ecf3"
      },
      "source": [
        "biases.shape"
      ],
      "execution_count": null,
      "outputs": [
        {
          "output_type": "execute_result",
          "data": {
            "text/plain": [
              "(200,)"
            ]
          },
          "metadata": {
            "tags": []
          },
          "execution_count": 68
        }
      ]
    },
    {
      "cell_type": "markdown",
      "metadata": {
        "id": "X59ezKqRdkZP"
      },
      "source": [
        "# **Plot learning Curves**"
      ]
    },
    {
      "cell_type": "code",
      "metadata": {
        "id": "97SsSMtOOVyE"
      },
      "source": [
        "model.compile(loss=\"sparse_categorical_crossentropy\",\n",
        "              optimizer=\"sgd\",\n",
        "              metrics=[\"accuracy\"])"
      ],
      "execution_count": null,
      "outputs": []
    },
    {
      "cell_type": "code",
      "metadata": {
        "colab": {
          "base_uri": "https://localhost:8080/"
        },
        "id": "xIoyCKD2OVtJ",
        "outputId": "6dfc4f02-3ef5-4eaf-e712-62c8e927d591"
      },
      "source": [
        "history = model.fit(X_train, y_train, batch_size=32, epochs=30,\n",
        "                    validation_data=(X_valid, y_valid))"
      ],
      "execution_count": null,
      "outputs": [
        {
          "output_type": "stream",
          "text": [
            "Epoch 1/30\n",
            "1657/1657 [==============================] - 4s 2ms/step - loss: 0.6643 - accuracy: 0.8297 - val_loss: 0.3152 - val_accuracy: 0.9150\n",
            "Epoch 2/30\n",
            "1657/1657 [==============================] - 4s 2ms/step - loss: 0.2960 - accuracy: 0.9153 - val_loss: 0.2435 - val_accuracy: 0.9313\n",
            "Epoch 3/30\n",
            "1657/1657 [==============================] - 4s 2ms/step - loss: 0.2431 - accuracy: 0.9311 - val_loss: 0.2112 - val_accuracy: 0.9409\n",
            "Epoch 4/30\n",
            "1657/1657 [==============================] - 4s 2ms/step - loss: 0.2084 - accuracy: 0.9411 - val_loss: 0.1851 - val_accuracy: 0.9479\n",
            "Epoch 5/30\n",
            "1657/1657 [==============================] - 4s 2ms/step - loss: 0.1825 - accuracy: 0.9480 - val_loss: 0.1695 - val_accuracy: 0.9503\n",
            "Epoch 6/30\n",
            "1657/1657 [==============================] - 4s 2ms/step - loss: 0.1630 - accuracy: 0.9528 - val_loss: 0.1542 - val_accuracy: 0.9560\n",
            "Epoch 7/30\n",
            "1657/1657 [==============================] - 4s 2ms/step - loss: 0.1471 - accuracy: 0.9576 - val_loss: 0.1438 - val_accuracy: 0.9587\n",
            "Epoch 8/30\n",
            "1657/1657 [==============================] - 4s 2ms/step - loss: 0.1341 - accuracy: 0.9618 - val_loss: 0.1324 - val_accuracy: 0.9650\n",
            "Epoch 9/30\n",
            "1657/1657 [==============================] - 4s 2ms/step - loss: 0.1228 - accuracy: 0.9647 - val_loss: 0.1253 - val_accuracy: 0.9660\n",
            "Epoch 10/30\n",
            "1657/1657 [==============================] - 4s 2ms/step - loss: 0.1127 - accuracy: 0.9676 - val_loss: 0.1192 - val_accuracy: 0.9683\n",
            "Epoch 11/30\n",
            "1657/1657 [==============================] - 4s 2ms/step - loss: 0.1046 - accuracy: 0.9700 - val_loss: 0.1148 - val_accuracy: 0.9690\n",
            "Epoch 12/30\n",
            "1657/1657 [==============================] - 4s 2ms/step - loss: 0.0971 - accuracy: 0.9720 - val_loss: 0.1101 - val_accuracy: 0.9674\n",
            "Epoch 13/30\n",
            "1657/1657 [==============================] - 4s 2ms/step - loss: 0.0904 - accuracy: 0.9740 - val_loss: 0.1071 - val_accuracy: 0.9693\n",
            "Epoch 14/30\n",
            "1657/1657 [==============================] - 4s 2ms/step - loss: 0.0842 - accuracy: 0.9761 - val_loss: 0.1036 - val_accuracy: 0.9713\n",
            "Epoch 15/30\n",
            "1657/1657 [==============================] - 4s 2ms/step - loss: 0.0789 - accuracy: 0.9774 - val_loss: 0.0996 - val_accuracy: 0.9716\n",
            "Epoch 16/30\n",
            "1657/1657 [==============================] - 4s 2ms/step - loss: 0.0737 - accuracy: 0.9793 - val_loss: 0.1014 - val_accuracy: 0.9716\n",
            "Epoch 17/30\n",
            "1657/1657 [==============================] - 4s 2ms/step - loss: 0.0692 - accuracy: 0.9805 - val_loss: 0.0964 - val_accuracy: 0.9709\n",
            "Epoch 18/30\n",
            "1657/1657 [==============================] - 4s 2ms/step - loss: 0.0651 - accuracy: 0.9819 - val_loss: 0.0959 - val_accuracy: 0.9726\n",
            "Epoch 19/30\n",
            "1657/1657 [==============================] - 4s 2ms/step - loss: 0.0613 - accuracy: 0.9830 - val_loss: 0.0932 - val_accuracy: 0.9737\n",
            "Epoch 20/30\n",
            "1657/1657 [==============================] - 4s 2ms/step - loss: 0.0577 - accuracy: 0.9843 - val_loss: 0.0940 - val_accuracy: 0.9734\n",
            "Epoch 21/30\n",
            "1657/1657 [==============================] - 4s 2ms/step - loss: 0.0544 - accuracy: 0.9854 - val_loss: 0.0910 - val_accuracy: 0.9719\n",
            "Epoch 22/30\n",
            "1657/1657 [==============================] - 4s 2ms/step - loss: 0.0510 - accuracy: 0.9864 - val_loss: 0.0858 - val_accuracy: 0.9754\n",
            "Epoch 23/30\n",
            "1657/1657 [==============================] - 4s 2ms/step - loss: 0.0484 - accuracy: 0.9873 - val_loss: 0.0852 - val_accuracy: 0.9749\n",
            "Epoch 24/30\n",
            "1657/1657 [==============================] - 4s 2ms/step - loss: 0.0455 - accuracy: 0.9882 - val_loss: 0.0834 - val_accuracy: 0.9749\n",
            "Epoch 25/30\n",
            "1657/1657 [==============================] - 4s 2ms/step - loss: 0.0431 - accuracy: 0.9891 - val_loss: 0.0846 - val_accuracy: 0.9751\n",
            "Epoch 26/30\n",
            "1657/1657 [==============================] - 4s 2ms/step - loss: 0.0408 - accuracy: 0.9895 - val_loss: 0.0830 - val_accuracy: 0.9746\n",
            "Epoch 27/30\n",
            "1657/1657 [==============================] - 4s 2ms/step - loss: 0.0387 - accuracy: 0.9906 - val_loss: 0.0810 - val_accuracy: 0.9751\n",
            "Epoch 28/30\n",
            "1657/1657 [==============================] - 4s 2ms/step - loss: 0.0365 - accuracy: 0.9909 - val_loss: 0.0807 - val_accuracy: 0.9771\n",
            "Epoch 29/30\n",
            "1657/1657 [==============================] - 4s 2ms/step - loss: 0.0345 - accuracy: 0.9919 - val_loss: 0.0805 - val_accuracy: 0.9763\n",
            "Epoch 30/30\n",
            "1657/1657 [==============================] - 4s 2ms/step - loss: 0.0328 - accuracy: 0.9926 - val_loss: 0.0798 - val_accuracy: 0.9759\n"
          ],
          "name": "stdout"
        }
      ]
    },
    {
      "cell_type": "code",
      "metadata": {
        "colab": {
          "base_uri": "https://localhost:8080/"
        },
        "id": "XBN8YGidOVr_",
        "outputId": "44d94ba7-4fa3-4ca4-91f9-1fcccb7ed8da"
      },
      "source": [
        "history.params"
      ],
      "execution_count": null,
      "outputs": [
        {
          "output_type": "execute_result",
          "data": {
            "text/plain": [
              "{'epochs': 30, 'steps': 1657, 'verbose': 1}"
            ]
          },
          "metadata": {
            "tags": []
          },
          "execution_count": 71
        }
      ]
    },
    {
      "cell_type": "code",
      "metadata": {
        "colab": {
          "base_uri": "https://localhost:8080/"
        },
        "id": "uDPeCTGeOVm-",
        "outputId": "0de64923-5174-4404-bc81-4e33796ceff3"
      },
      "source": [
        "print(history.epoch)"
      ],
      "execution_count": null,
      "outputs": [
        {
          "output_type": "stream",
          "text": [
            "[0, 1, 2, 3, 4, 5, 6, 7, 8, 9, 10, 11, 12, 13, 14, 15, 16, 17, 18, 19, 20, 21, 22, 23, 24, 25, 26, 27, 28, 29]\n"
          ],
          "name": "stdout"
        }
      ]
    },
    {
      "cell_type": "code",
      "metadata": {
        "colab": {
          "base_uri": "https://localhost:8080/"
        },
        "id": "elcIx79eOVl2",
        "outputId": "23536832-7ae9-4712-e5ea-cd44398b21e4"
      },
      "source": [
        "history.history.keys()"
      ],
      "execution_count": null,
      "outputs": [
        {
          "output_type": "execute_result",
          "data": {
            "text/plain": [
              "dict_keys(['loss', 'accuracy', 'val_loss', 'val_accuracy'])"
            ]
          },
          "metadata": {
            "tags": []
          },
          "execution_count": 73
        }
      ]
    },
    {
      "cell_type": "code",
      "metadata": {
        "colab": {
          "base_uri": "https://localhost:8080/",
          "height": 328
        },
        "id": "nkq6olVZOVkm",
        "outputId": "a1a8db2e-61a5-4eb5-edd3-7090eef2f66c"
      },
      "source": [
        "import pandas as pd\n",
        "\n",
        "pd.DataFrame(history.history).plot(figsize=(8, 5))\n",
        "plt.grid(True)\n",
        "plt.gca().set_ylim(0, 1)\n",
        "plt.show()"
      ],
      "execution_count": null,
      "outputs": [
        {
          "output_type": "display_data",
          "data": {
            "image/png": "[encoded data removed]",
            "text/plain": [
              "<Figure size 576x360 with 1 Axes>"
            ]
          },
          "metadata": {
            "tags": [],
            "needs_background": "light"
          }
        }
      ]
    },
    {
      "cell_type": "code",
      "metadata": {
        "colab": {
          "base_uri": "https://localhost:8080/"
        },
        "id": "QZjrCliQNFtv",
        "outputId": "a22c9116-9e00-4e89-bda0-7cfefd632f0e"
      },
      "source": [
        "model.evaluate(X_test, y_test)"
      ],
      "execution_count": null,
      "outputs": [
        {
          "output_type": "stream",
          "text": [
            "313/313 [==============================] - 0s 1ms/step - loss: 0.0761 - accuracy: 0.9772\n"
          ],
          "name": "stdout"
        },
        {
          "output_type": "execute_result",
          "data": {
            "text/plain": [
              "[0.07605134695768356, 0.9771999716758728]"
            ]
          },
          "metadata": {
            "tags": []
          },
          "execution_count": 75
        }
      ]
    },
    {
      "cell_type": "markdown",
      "metadata": {
        "id": "9qA_MyoGShLp"
      },
      "source": [
        "# **Plot Learning curves when using different optimizers**"
      ]
    },
    {
      "cell_type": "markdown",
      "metadata": {
        "id": "igC_K7LvUF7D"
      },
      "source": [
        "\n",
        "*optimizer=\"RMSprop\"*\n",
        "\n"
      ]
    },
    {
      "cell_type": "code",
      "metadata": {
        "id": "ynyAcziiSiLN"
      },
      "source": [
        "model.compile(loss=\"sparse_categorical_crossentropy\",\n",
        "              optimizer=\"RMSprop\",\n",
        "              metrics=[\"accuracy\"])"
      ],
      "execution_count": null,
      "outputs": []
    },
    {
      "cell_type": "code",
      "metadata": {
        "colab": {
          "base_uri": "https://localhost:8080/"
        },
        "id": "1nR9sVOiSp4S",
        "outputId": "0d48f1e4-8adf-410d-fece-11a9131aaffa"
      },
      "source": [
        "history1 = model.fit(X_train, y_train, batch_size=32, epochs=30,\n",
        "                    validation_data=(X_valid, y_valid))"
      ],
      "execution_count": null,
      "outputs": [
        {
          "output_type": "stream",
          "text": [
            "Epoch 1/30\n",
            "1657/1657 [==============================] - 6s 3ms/step - loss: 0.1051 - accuracy: 0.9677 - val_loss: 0.1072 - val_accuracy: 0.9693\n",
            "Epoch 2/30\n",
            "1657/1657 [==============================] - 6s 3ms/step - loss: 0.0790 - accuracy: 0.9772 - val_loss: 0.1097 - val_accuracy: 0.9710\n",
            "Epoch 3/30\n",
            "1657/1657 [==============================] - 6s 3ms/step - loss: 0.0623 - accuracy: 0.9826 - val_loss: 0.1190 - val_accuracy: 0.9709\n",
            "Epoch 4/30\n",
            "1657/1657 [==============================] - 6s 4ms/step - loss: 0.0516 - accuracy: 0.9852 - val_loss: 0.1019 - val_accuracy: 0.9753\n",
            "Epoch 5/30\n",
            "1657/1657 [==============================] - 6s 4ms/step - loss: 0.0434 - accuracy: 0.9874 - val_loss: 0.1016 - val_accuracy: 0.9756\n",
            "Epoch 6/30\n",
            "1657/1657 [==============================] - 6s 3ms/step - loss: 0.0368 - accuracy: 0.9903 - val_loss: 0.1126 - val_accuracy: 0.9753\n",
            "Epoch 7/30\n",
            "1657/1657 [==============================] - 5s 3ms/step - loss: 0.0318 - accuracy: 0.9910 - val_loss: 0.1133 - val_accuracy: 0.9779\n",
            "Epoch 8/30\n",
            "1657/1657 [==============================] - 6s 3ms/step - loss: 0.0287 - accuracy: 0.9925 - val_loss: 0.1056 - val_accuracy: 0.9801\n",
            "Epoch 9/30\n",
            "1657/1657 [==============================] - 6s 3ms/step - loss: 0.0240 - accuracy: 0.9932 - val_loss: 0.1328 - val_accuracy: 0.9776\n",
            "Epoch 10/30\n",
            "1657/1657 [==============================] - 6s 3ms/step - loss: 0.0220 - accuracy: 0.9943 - val_loss: 0.1355 - val_accuracy: 0.9781\n",
            "Epoch 11/30\n",
            "1657/1657 [==============================] - 6s 3ms/step - loss: 0.0180 - accuracy: 0.9950 - val_loss: 0.1356 - val_accuracy: 0.9787\n",
            "Epoch 12/30\n",
            "1657/1657 [==============================] - 6s 3ms/step - loss: 0.0184 - accuracy: 0.9953 - val_loss: 0.1667 - val_accuracy: 0.9779\n",
            "Epoch 13/30\n",
            "1657/1657 [==============================] - 6s 3ms/step - loss: 0.0148 - accuracy: 0.9961 - val_loss: 0.1452 - val_accuracy: 0.9790\n",
            "Epoch 14/30\n",
            "1657/1657 [==============================] - 6s 3ms/step - loss: 0.0132 - accuracy: 0.9965 - val_loss: 0.1526 - val_accuracy: 0.9806\n",
            "Epoch 15/30\n",
            "1657/1657 [==============================] - 6s 4ms/step - loss: 0.0133 - accuracy: 0.9968 - val_loss: 0.1479 - val_accuracy: 0.9811\n",
            "Epoch 16/30\n",
            "1657/1657 [==============================] - 6s 3ms/step - loss: 0.0116 - accuracy: 0.9973 - val_loss: 0.1781 - val_accuracy: 0.9779\n",
            "Epoch 17/30\n",
            "1657/1657 [==============================] - 6s 4ms/step - loss: 0.0096 - accuracy: 0.9973 - val_loss: 0.1966 - val_accuracy: 0.9787\n",
            "Epoch 18/30\n",
            "1657/1657 [==============================] - 6s 3ms/step - loss: 0.0090 - accuracy: 0.9978 - val_loss: 0.1863 - val_accuracy: 0.9773\n",
            "Epoch 19/30\n",
            "1657/1657 [==============================] - 6s 3ms/step - loss: 0.0101 - accuracy: 0.9978 - val_loss: 0.2065 - val_accuracy: 0.9776\n",
            "Epoch 20/30\n",
            "1657/1657 [==============================] - 6s 3ms/step - loss: 0.0083 - accuracy: 0.9979 - val_loss: 0.2090 - val_accuracy: 0.9789\n",
            "Epoch 21/30\n",
            "1657/1657 [==============================] - 6s 3ms/step - loss: 0.0077 - accuracy: 0.9981 - val_loss: 0.2005 - val_accuracy: 0.9794\n",
            "Epoch 22/30\n",
            "1657/1657 [==============================] - 6s 4ms/step - loss: 0.0060 - accuracy: 0.9982 - val_loss: 0.2378 - val_accuracy: 0.9783\n",
            "Epoch 23/30\n",
            "1657/1657 [==============================] - 6s 4ms/step - loss: 0.0061 - accuracy: 0.9985 - val_loss: 0.2250 - val_accuracy: 0.9786\n",
            "Epoch 24/30\n",
            "1657/1657 [==============================] - 6s 3ms/step - loss: 0.0076 - accuracy: 0.9983 - val_loss: 0.2110 - val_accuracy: 0.9803\n",
            "Epoch 25/30\n",
            "1657/1657 [==============================] - 6s 3ms/step - loss: 0.0060 - accuracy: 0.9987 - val_loss: 0.2373 - val_accuracy: 0.9767\n",
            "Epoch 26/30\n",
            "1657/1657 [==============================] - 5s 3ms/step - loss: 0.0078 - accuracy: 0.9984 - val_loss: 0.2436 - val_accuracy: 0.9787\n",
            "Epoch 27/30\n",
            "1657/1657 [==============================] - 6s 3ms/step - loss: 0.0055 - accuracy: 0.9987 - val_loss: 0.2448 - val_accuracy: 0.9794\n",
            "Epoch 28/30\n",
            "1657/1657 [==============================] - 6s 3ms/step - loss: 0.0052 - accuracy: 0.9987 - val_loss: 0.2424 - val_accuracy: 0.9789\n",
            "Epoch 29/30\n",
            "1657/1657 [==============================] - 6s 3ms/step - loss: 0.0037 - accuracy: 0.9990 - val_loss: 0.2965 - val_accuracy: 0.9783\n",
            "Epoch 30/30\n",
            "1657/1657 [==============================] - 6s 3ms/step - loss: 0.0045 - accuracy: 0.9989 - val_loss: 0.2954 - val_accuracy: 0.9781\n"
          ],
          "name": "stdout"
        }
      ]
    },
    {
      "cell_type": "code",
      "metadata": {
        "colab": {
          "base_uri": "https://localhost:8080/"
        },
        "id": "WB7sRC19Tu0p",
        "outputId": "d9df6119-f401-41f6-c5a5-b0d6f07e1399"
      },
      "source": [
        "history1.params"
      ],
      "execution_count": null,
      "outputs": [
        {
          "output_type": "execute_result",
          "data": {
            "text/plain": [
              "{'epochs': 30, 'steps': 1657, 'verbose': 1}"
            ]
          },
          "metadata": {
            "tags": []
          },
          "execution_count": 78
        }
      ]
    },
    {
      "cell_type": "code",
      "metadata": {
        "colab": {
          "base_uri": "https://localhost:8080/",
          "height": 328
        },
        "id": "qSZbSBBSTu-d",
        "outputId": "18b0c20b-cfb3-46fa-8438-6246b6529c87"
      },
      "source": [
        "import pandas as pd\n",
        "\n",
        "pd.DataFrame(history1.history).plot(figsize=(8, 5))\n",
        "plt.grid(True)\n",
        "plt.gca().set_ylim(0, 1)\n",
        "plt.show()"
      ],
      "execution_count": null,
      "outputs": [
        {
          "output_type": "display_data",
          "data": {
            "image/png": "[encoded data removed]",
            "text/plain": [
              "<Figure size 576x360 with 1 Axes>"
            ]
          },
          "metadata": {
            "tags": [],
            "needs_background": "light"
          }
        }
      ]
    },
    {
      "cell_type": "code",
      "metadata": {
        "colab": {
          "base_uri": "https://localhost:8080/"
        },
        "id": "YcB_P8kfT-fn",
        "outputId": "5c39d4aa-8386-47ad-fcc6-a60bae09175c"
      },
      "source": [
        "model.evaluate(X_test, y_test)"
      ],
      "execution_count": null,
      "outputs": [
        {
          "output_type": "stream",
          "text": [
            "313/313 [==============================] - 0s 1ms/step - loss: 0.2699 - accuracy: 0.9795\n"
          ],
          "name": "stdout"
        },
        {
          "output_type": "execute_result",
          "data": {
            "text/plain": [
              "[0.26992589235305786, 0.9794999957084656]"
            ]
          },
          "metadata": {
            "tags": []
          },
          "execution_count": 80
        }
      ]
    },
    {
      "cell_type": "markdown",
      "metadata": {
        "id": "hhnUDciSUL4U"
      },
      "source": [
        "*optimizer:Nadam*"
      ]
    },
    {
      "cell_type": "code",
      "metadata": {
        "id": "gw-ryZ98ULKz"
      },
      "source": [
        "model.compile(loss=\"sparse_categorical_crossentropy\",\n",
        "              optimizer=\"Nadam\",\n",
        "              metrics=[\"accuracy\"])"
      ],
      "execution_count": null,
      "outputs": []
    },
    {
      "cell_type": "code",
      "metadata": {
        "colab": {
          "base_uri": "https://localhost:8080/"
        },
        "id": "DzFEDck-UaM7",
        "outputId": "7ded1deb-19f2-461c-a42e-cb706b406403"
      },
      "source": [
        "history2 = model.fit(X_train, y_train, batch_size=32, epochs=30,\n",
        "                    validation_data=(X_valid, y_valid))"
      ],
      "execution_count": null,
      "outputs": [
        {
          "output_type": "stream",
          "text": [
            "Epoch 1/30\n",
            "1657/1657 [==============================] - 7s 4ms/step - loss: 0.0430 - accuracy: 0.9925 - val_loss: 0.2331 - val_accuracy: 0.9753\n",
            "Epoch 2/30\n",
            "1657/1657 [==============================] - 7s 4ms/step - loss: 0.0383 - accuracy: 0.9929 - val_loss: 0.1981 - val_accuracy: 0.9757\n",
            "Epoch 3/30\n",
            "1657/1657 [==============================] - 7s 4ms/step - loss: 0.0414 - accuracy: 0.9921 - val_loss: 0.2011 - val_accuracy: 0.9759\n",
            "Epoch 4/30\n",
            "1657/1657 [==============================] - 7s 4ms/step - loss: 0.0265 - accuracy: 0.9942 - val_loss: 0.2257 - val_accuracy: 0.9749\n",
            "Epoch 5/30\n",
            "1657/1657 [==============================] - 7s 4ms/step - loss: 0.0294 - accuracy: 0.9938 - val_loss: 0.1831 - val_accuracy: 0.9747\n",
            "Epoch 6/30\n",
            "1657/1657 [==============================] - 7s 4ms/step - loss: 0.0223 - accuracy: 0.9949 - val_loss: 0.1810 - val_accuracy: 0.9761\n",
            "Epoch 7/30\n",
            "1657/1657 [==============================] - 7s 5ms/step - loss: 0.0310 - accuracy: 0.9936 - val_loss: 0.2229 - val_accuracy: 0.9731\n",
            "Epoch 8/30\n",
            "1657/1657 [==============================] - 7s 4ms/step - loss: 0.0203 - accuracy: 0.9946 - val_loss: 0.1627 - val_accuracy: 0.9787\n",
            "Epoch 9/30\n",
            "1657/1657 [==============================] - 7s 4ms/step - loss: 0.0237 - accuracy: 0.9944 - val_loss: 0.1384 - val_accuracy: 0.9807\n",
            "Epoch 10/30\n",
            "1657/1657 [==============================] - 7s 5ms/step - loss: 0.0218 - accuracy: 0.9950 - val_loss: 0.1593 - val_accuracy: 0.9763\n",
            "Epoch 11/30\n",
            "1657/1657 [==============================] - 8s 5ms/step - loss: 0.0202 - accuracy: 0.9951 - val_loss: 0.1939 - val_accuracy: 0.9753\n",
            "Epoch 12/30\n",
            "1657/1657 [==============================] - 7s 4ms/step - loss: 0.0169 - accuracy: 0.9955 - val_loss: 0.1793 - val_accuracy: 0.9759\n",
            "Epoch 13/30\n",
            "1657/1657 [==============================] - 7s 4ms/step - loss: 0.0179 - accuracy: 0.9957 - val_loss: 0.1495 - val_accuracy: 0.9793\n",
            "Epoch 14/30\n",
            "1657/1657 [==============================] - 7s 4ms/step - loss: 0.0192 - accuracy: 0.9956 - val_loss: 0.1867 - val_accuracy: 0.9769\n",
            "Epoch 15/30\n",
            "1657/1657 [==============================] - 7s 4ms/step - loss: 0.0149 - accuracy: 0.9963 - val_loss: 0.1864 - val_accuracy: 0.9776\n",
            "Epoch 16/30\n",
            "1657/1657 [==============================] - 7s 4ms/step - loss: 0.0128 - accuracy: 0.9970 - val_loss: 0.1653 - val_accuracy: 0.9789\n",
            "Epoch 17/30\n",
            "1657/1657 [==============================] - 7s 4ms/step - loss: 0.0197 - accuracy: 0.9957 - val_loss: 0.1979 - val_accuracy: 0.9759\n",
            "Epoch 18/30\n",
            "1657/1657 [==============================] - 7s 4ms/step - loss: 0.0124 - accuracy: 0.9970 - val_loss: 0.2036 - val_accuracy: 0.9780\n",
            "Epoch 19/30\n",
            "1657/1657 [==============================] - 7s 4ms/step - loss: 0.0144 - accuracy: 0.9966 - val_loss: 0.1955 - val_accuracy: 0.9784\n",
            "Epoch 20/30\n",
            "1657/1657 [==============================] - 8s 5ms/step - loss: 0.0172 - accuracy: 0.9963 - val_loss: 0.2395 - val_accuracy: 0.9754\n",
            "Epoch 21/30\n",
            "1657/1657 [==============================] - 7s 4ms/step - loss: 0.0149 - accuracy: 0.9968 - val_loss: 0.1769 - val_accuracy: 0.9794\n",
            "Epoch 22/30\n",
            "1657/1657 [==============================] - 7s 4ms/step - loss: 0.0114 - accuracy: 0.9970 - val_loss: 0.2032 - val_accuracy: 0.9759\n",
            "Epoch 23/30\n",
            "1657/1657 [==============================] - 7s 4ms/step - loss: 0.0106 - accuracy: 0.9973 - val_loss: 0.2544 - val_accuracy: 0.9740\n",
            "Epoch 24/30\n",
            "1657/1657 [==============================] - 7s 4ms/step - loss: 0.0149 - accuracy: 0.9965 - val_loss: 0.1960 - val_accuracy: 0.9776\n",
            "Epoch 25/30\n",
            "1657/1657 [==============================] - 8s 5ms/step - loss: 0.0113 - accuracy: 0.9972 - val_loss: 0.1864 - val_accuracy: 0.9799\n",
            "Epoch 26/30\n",
            "1657/1657 [==============================] - 7s 5ms/step - loss: 0.0109 - accuracy: 0.9975 - val_loss: 0.1921 - val_accuracy: 0.9784\n",
            "Epoch 27/30\n",
            "1657/1657 [==============================] - 7s 4ms/step - loss: 0.0129 - accuracy: 0.9971 - val_loss: 0.1581 - val_accuracy: 0.9800\n",
            "Epoch 28/30\n",
            "1657/1657 [==============================] - 7s 4ms/step - loss: 0.0067 - accuracy: 0.9984 - val_loss: 0.1873 - val_accuracy: 0.9800\n",
            "Epoch 29/30\n",
            "1657/1657 [==============================] - 7s 4ms/step - loss: 0.0136 - accuracy: 0.9969 - val_loss: 0.2361 - val_accuracy: 0.9776\n",
            "Epoch 30/30\n",
            "1657/1657 [==============================] - 7s 4ms/step - loss: 0.0099 - accuracy: 0.9978 - val_loss: 0.2221 - val_accuracy: 0.9803\n"
          ],
          "name": "stdout"
        }
      ]
    },
    {
      "cell_type": "code",
      "metadata": {
        "colab": {
          "base_uri": "https://localhost:8080/",
          "height": 328
        },
        "id": "ZmmiIaH_VWtU",
        "outputId": "8b57d16e-bcc5-494a-c9b4-6bb1f3a2c6d4"
      },
      "source": [
        "import pandas as pd\n",
        "\n",
        "pd.DataFrame(history2.history).plot(figsize=(8, 5))\n",
        "plt.grid(True)\n",
        "plt.gca().set_ylim(0, 1)\n",
        "plt.show()"
      ],
      "execution_count": null,
      "outputs": [
        {
          "output_type": "display_data",
          "data": {
            "image/png": "[encoded data removed]",
            "text/plain": [
              "<Figure size 576x360 with 1 Axes>"
            ]
          },
          "metadata": {
            "tags": [],
            "needs_background": "light"
          }
        }
      ]
    },
    {
      "cell_type": "code",
      "metadata": {
        "colab": {
          "base_uri": "https://localhost:8080/"
        },
        "id": "wxjc6pGtVWza",
        "outputId": "d0864900-6961-4edb-ad3d-a7c48fc31d65"
      },
      "source": [
        "model.evaluate(X_test, y_test)"
      ],
      "execution_count": null,
      "outputs": [
        {
          "output_type": "stream",
          "text": [
            "313/313 [==============================] - 0s 1ms/step - loss: 0.2655 - accuracy: 0.9759\n"
          ],
          "name": "stdout"
        },
        {
          "output_type": "execute_result",
          "data": {
            "text/plain": [
              "[0.2655292749404907, 0.9758999943733215]"
            ]
          },
          "metadata": {
            "tags": []
          },
          "execution_count": 84
        }
      ]
    },
    {
      "cell_type": "code",
      "metadata": {
        "colab": {
          "base_uri": "https://localhost:8080/",
          "height": 940
        },
        "id": "3jPzBPGJVW3E",
        "outputId": "376e48c0-84a2-4df8-8a62-60065e21ae5f"
      },
      "source": [
        "pd.DataFrame(history.history).plot(figsize=(8, 5))\n",
        "pd.DataFrame(history1.history).plot(figsize=(8, 5))\n",
        "pd.DataFrame(history2.history).plot(figsize=(8, 5))\n",
        "plt.grid(True)\n",
        "plt.gca().set_ylim(0, 1)\n",
        "plt.show()"
      ],
      "execution_count": null,
      "outputs": [
        {
          "output_type": "display_data",
          "data": {
            "image/png": "[encoded data removed]",
            "text/plain": [
              "<Figure size 576x360 with 1 Axes>"
            ]
          },
          "metadata": {
            "tags": [],
            "needs_background": "light"
          }
        },
        {
          "output_type": "display_data",
          "data": {
            "image/png": "[encoded data removed]",
            "text/plain": [
              "<Figure size 576x360 with 1 Axes>"
            ]
          },
          "metadata": {
            "tags": [],
            "needs_background": "light"
          }
        },
        {
          "output_type": "display_data",
          "data": {
            "image/png": "[encoded data removed]",
            "text/plain": [
              "<Figure size 576x360 with 1 Axes>"
            ]
          },
          "metadata": {
            "tags": [],
            "needs_background": "light"
          }
        }
      ]
    },
    {
      "cell_type": "markdown",
      "metadata": {
        "id": "Qw7FUtWAVhtI"
      },
      "source": [
        "\n",
        "# **Plot Learning curves when using different batch size** "
      ]
    },
    {
      "cell_type": "markdown",
      "metadata": {
        "id": "iUdp0LEtWLtU"
      },
      "source": [
        "*batch size = 15 *"
      ]
    },
    {
      "cell_type": "code",
      "metadata": {
        "id": "-brbEg_nVW6Q"
      },
      "source": [
        "model.compile(loss=\"sparse_categorical_crossentropy\",\n",
        "              optimizer=\"sgd\",\n",
        "              metrics=[\"accuracy\"])"
      ],
      "execution_count": null,
      "outputs": []
    },
    {
      "cell_type": "code",
      "metadata": {
        "colab": {
          "base_uri": "https://localhost:8080/"
        },
        "id": "cCu5RlDxVXLM",
        "outputId": "94f854df-2c3b-40fa-b700-f1934707dfcb"
      },
      "source": [
        "history3 = model.fit(X_train, y_train, batch_size=15, epochs=30,\n",
        "                    validation_data=(X_valid, y_valid))"
      ],
      "execution_count": null,
      "outputs": [
        {
          "output_type": "stream",
          "text": [
            "Epoch 1/30\n",
            "3534/3534 [==============================] - 8s 2ms/step - loss: 0.0037 - accuracy: 0.9991 - val_loss: 0.1758 - val_accuracy: 0.9840\n",
            "Epoch 2/30\n",
            "3534/3534 [==============================] - 8s 2ms/step - loss: 4.1674e-04 - accuracy: 0.9999 - val_loss: 0.1750 - val_accuracy: 0.9839\n",
            "Epoch 3/30\n",
            "3534/3534 [==============================] - 8s 2ms/step - loss: 1.2443e-04 - accuracy: 1.0000 - val_loss: 0.1751 - val_accuracy: 0.9843\n",
            "Epoch 4/30\n",
            "3534/3534 [==============================] - 8s 2ms/step - loss: 9.3495e-05 - accuracy: 1.0000 - val_loss: 0.1751 - val_accuracy: 0.9841\n",
            "Epoch 5/30\n",
            "3534/3534 [==============================] - 8s 2ms/step - loss: 7.8342e-05 - accuracy: 1.0000 - val_loss: 0.1751 - val_accuracy: 0.9840\n",
            "Epoch 6/30\n",
            "3534/3534 [==============================] - 8s 2ms/step - loss: 6.8401e-05 - accuracy: 1.0000 - val_loss: 0.1752 - val_accuracy: 0.9839\n",
            "Epoch 7/30\n",
            "3534/3534 [==============================] - 8s 2ms/step - loss: 6.1100e-05 - accuracy: 1.0000 - val_loss: 0.1752 - val_accuracy: 0.9840\n",
            "Epoch 8/30\n",
            "3534/3534 [==============================] - 8s 2ms/step - loss: 5.5485e-05 - accuracy: 1.0000 - val_loss: 0.1752 - val_accuracy: 0.9840\n",
            "Epoch 9/30\n",
            "3534/3534 [==============================] - 8s 2ms/step - loss: 5.0945e-05 - accuracy: 1.0000 - val_loss: 0.1753 - val_accuracy: 0.9837\n",
            "Epoch 10/30\n",
            "3534/3534 [==============================] - 8s 2ms/step - loss: 4.7261e-05 - accuracy: 1.0000 - val_loss: 0.1753 - val_accuracy: 0.9836\n",
            "Epoch 11/30\n",
            "3534/3534 [==============================] - 8s 2ms/step - loss: 4.4157e-05 - accuracy: 1.0000 - val_loss: 0.1754 - val_accuracy: 0.9836\n",
            "Epoch 12/30\n",
            "3534/3534 [==============================] - 8s 2ms/step - loss: 4.1455e-05 - accuracy: 1.0000 - val_loss: 0.1754 - val_accuracy: 0.9837\n",
            "Epoch 13/30\n",
            "3534/3534 [==============================] - 8s 2ms/step - loss: 3.9115e-05 - accuracy: 1.0000 - val_loss: 0.1755 - val_accuracy: 0.9837\n",
            "Epoch 14/30\n",
            "3534/3534 [==============================] - 8s 2ms/step - loss: 3.7100e-05 - accuracy: 1.0000 - val_loss: 0.1755 - val_accuracy: 0.9837\n",
            "Epoch 15/30\n",
            "3534/3534 [==============================] - 8s 2ms/step - loss: 3.5293e-05 - accuracy: 1.0000 - val_loss: 0.1756 - val_accuracy: 0.9837\n",
            "Epoch 16/30\n",
            "3534/3534 [==============================] - 8s 2ms/step - loss: 3.3686e-05 - accuracy: 1.0000 - val_loss: 0.1756 - val_accuracy: 0.9837\n",
            "Epoch 17/30\n",
            "3534/3534 [==============================] - 8s 2ms/step - loss: 3.2254e-05 - accuracy: 1.0000 - val_loss: 0.1756 - val_accuracy: 0.9837\n",
            "Epoch 18/30\n",
            "3534/3534 [==============================] - 8s 2ms/step - loss: 3.0944e-05 - accuracy: 1.0000 - val_loss: 0.1757 - val_accuracy: 0.9837\n",
            "Epoch 19/30\n",
            "3534/3534 [==============================] - 8s 2ms/step - loss: 2.9751e-05 - accuracy: 1.0000 - val_loss: 0.1757 - val_accuracy: 0.9836\n",
            "Epoch 20/30\n",
            "3534/3534 [==============================] - 8s 2ms/step - loss: 2.8656e-05 - accuracy: 1.0000 - val_loss: 0.1758 - val_accuracy: 0.9836\n",
            "Epoch 21/30\n",
            "3534/3534 [==============================] - 8s 2ms/step - loss: 2.7654e-05 - accuracy: 1.0000 - val_loss: 0.1758 - val_accuracy: 0.9836\n",
            "Epoch 22/30\n",
            "3534/3534 [==============================] - 8s 2ms/step - loss: 2.6730e-05 - accuracy: 1.0000 - val_loss: 0.1758 - val_accuracy: 0.9836\n",
            "Epoch 23/30\n",
            "3534/3534 [==============================] - 8s 2ms/step - loss: 2.5866e-05 - accuracy: 1.0000 - val_loss: 0.1759 - val_accuracy: 0.9836\n",
            "Epoch 24/30\n",
            "3534/3534 [==============================] - 8s 2ms/step - loss: 2.5059e-05 - accuracy: 1.0000 - val_loss: 0.1759 - val_accuracy: 0.9837\n",
            "Epoch 25/30\n",
            "3534/3534 [==============================] - 8s 2ms/step - loss: 2.4307e-05 - accuracy: 1.0000 - val_loss: 0.1760 - val_accuracy: 0.9837\n",
            "Epoch 26/30\n",
            "3534/3534 [==============================] - 8s 2ms/step - loss: 2.3606e-05 - accuracy: 1.0000 - val_loss: 0.1760 - val_accuracy: 0.9839\n",
            "Epoch 27/30\n",
            "3534/3534 [==============================] - 8s 2ms/step - loss: 2.2950e-05 - accuracy: 1.0000 - val_loss: 0.1760 - val_accuracy: 0.9839\n",
            "Epoch 28/30\n",
            "3534/3534 [==============================] - 8s 2ms/step - loss: 2.2333e-05 - accuracy: 1.0000 - val_loss: 0.1761 - val_accuracy: 0.9839\n",
            "Epoch 29/30\n",
            "3534/3534 [==============================] - 8s 2ms/step - loss: 2.1759e-05 - accuracy: 1.0000 - val_loss: 0.1761 - val_accuracy: 0.9839\n",
            "Epoch 30/30\n",
            "3534/3534 [==============================] - 8s 2ms/step - loss: 2.1209e-05 - accuracy: 1.0000 - val_loss: 0.1762 - val_accuracy: 0.9839\n"
          ],
          "name": "stdout"
        }
      ]
    },
    {
      "cell_type": "code",
      "metadata": {
        "colab": {
          "base_uri": "https://localhost:8080/",
          "height": 328
        },
        "id": "HULZCMn-VXJg",
        "outputId": "68eeeb9a-9657-47ef-b5e1-851f3cbe08e2"
      },
      "source": [
        "import pandas as pd\n",
        "\n",
        "pd.DataFrame(history3.history).plot(figsize=(8, 5))\n",
        "plt.grid(True)\n",
        "plt.gca().set_ylim(0, 1)\n",
        "plt.show()"
      ],
      "execution_count": null,
      "outputs": [
        {
          "output_type": "display_data",
          "data": {
            "image/png": "[encoded data removed]",
            "text/plain": [
              "<Figure size 576x360 with 1 Axes>"
            ]
          },
          "metadata": {
            "tags": [],
            "needs_background": "light"
          }
        }
      ]
    },
    {
      "cell_type": "code",
      "metadata": {
        "colab": {
          "base_uri": "https://localhost:8080/"
        },
        "id": "1ZOGAh7IVXHv",
        "outputId": "519aa71f-084b-485f-99cb-1953177010a3"
      },
      "source": [
        "model.evaluate(X_test, y_test)"
      ],
      "execution_count": null,
      "outputs": [
        {
          "output_type": "stream",
          "text": [
            "313/313 [==============================] - 0s 1ms/step - loss: 0.2153 - accuracy: 0.9815\n"
          ],
          "name": "stdout"
        },
        {
          "output_type": "execute_result",
          "data": {
            "text/plain": [
              "[0.21527089178562164, 0.9815000295639038]"
            ]
          },
          "metadata": {
            "tags": []
          },
          "execution_count": 89
        }
      ]
    },
    {
      "cell_type": "markdown",
      "metadata": {
        "id": "VaaCpZieXeO-"
      },
      "source": [
        "*batch size = 40*"
      ]
    },
    {
      "cell_type": "code",
      "metadata": {
        "colab": {
          "base_uri": "https://localhost:8080/"
        },
        "id": "KA6sMDQqVW_A",
        "outputId": "c5d15148-2337-43ce-d96f-2999ac5a38f5"
      },
      "source": [
        "history4 = model.fit(X_train, y_train, batch_size=40, epochs=30,\n",
        "                    validation_data=(X_valid, y_valid))"
      ],
      "execution_count": null,
      "outputs": [
        {
          "output_type": "stream",
          "text": [
            "Epoch 1/30\n",
            "1325/1325 [==============================] - 4s 3ms/step - loss: 2.0673e-05 - accuracy: 1.0000 - val_loss: 0.1762 - val_accuracy: 0.9839\n",
            "Epoch 2/30\n",
            "1325/1325 [==============================] - 4s 3ms/step - loss: 2.0489e-05 - accuracy: 1.0000 - val_loss: 0.1762 - val_accuracy: 0.9839\n",
            "Epoch 3/30\n",
            "1325/1325 [==============================] - 4s 3ms/step - loss: 2.0309e-05 - accuracy: 1.0000 - val_loss: 0.1762 - val_accuracy: 0.9837\n",
            "Epoch 4/30\n",
            "1325/1325 [==============================] - 5s 4ms/step - loss: 2.0133e-05 - accuracy: 1.0000 - val_loss: 0.1762 - val_accuracy: 0.9837\n",
            "Epoch 5/30\n",
            "1325/1325 [==============================] - 6s 5ms/step - loss: 1.9961e-05 - accuracy: 1.0000 - val_loss: 0.1762 - val_accuracy: 0.9837\n",
            "Epoch 6/30\n",
            "1325/1325 [==============================] - 4s 3ms/step - loss: 1.9791e-05 - accuracy: 1.0000 - val_loss: 0.1762 - val_accuracy: 0.9837\n",
            "Epoch 7/30\n",
            "1325/1325 [==============================] - 4s 3ms/step - loss: 1.9624e-05 - accuracy: 1.0000 - val_loss: 0.1763 - val_accuracy: 0.9837\n",
            "Epoch 8/30\n",
            "1325/1325 [==============================] - 4s 3ms/step - loss: 1.9461e-05 - accuracy: 1.0000 - val_loss: 0.1763 - val_accuracy: 0.9837\n",
            "Epoch 9/30\n",
            "1325/1325 [==============================] - 4s 3ms/step - loss: 1.9301e-05 - accuracy: 1.0000 - val_loss: 0.1763 - val_accuracy: 0.9837\n",
            "Epoch 10/30\n",
            "1325/1325 [==============================] - 4s 3ms/step - loss: 1.9142e-05 - accuracy: 1.0000 - val_loss: 0.1763 - val_accuracy: 0.9837\n",
            "Epoch 11/30\n",
            "1325/1325 [==============================] - 4s 3ms/step - loss: 1.8989e-05 - accuracy: 1.0000 - val_loss: 0.1763 - val_accuracy: 0.9839\n",
            "Epoch 12/30\n",
            "1325/1325 [==============================] - 4s 3ms/step - loss: 1.8837e-05 - accuracy: 1.0000 - val_loss: 0.1763 - val_accuracy: 0.9837\n",
            "Epoch 13/30\n",
            "1325/1325 [==============================] - 4s 3ms/step - loss: 1.8689e-05 - accuracy: 1.0000 - val_loss: 0.1763 - val_accuracy: 0.9837\n",
            "Epoch 14/30\n",
            "1325/1325 [==============================] - 4s 3ms/step - loss: 1.8542e-05 - accuracy: 1.0000 - val_loss: 0.1764 - val_accuracy: 0.9837\n",
            "Epoch 15/30\n",
            "1325/1325 [==============================] - 4s 3ms/step - loss: 1.8398e-05 - accuracy: 1.0000 - val_loss: 0.1764 - val_accuracy: 0.9837\n",
            "Epoch 16/30\n",
            "1325/1325 [==============================] - 4s 3ms/step - loss: 1.8257e-05 - accuracy: 1.0000 - val_loss: 0.1764 - val_accuracy: 0.9837\n",
            "Epoch 17/30\n",
            "1325/1325 [==============================] - 4s 3ms/step - loss: 1.8119e-05 - accuracy: 1.0000 - val_loss: 0.1764 - val_accuracy: 0.9837\n",
            "Epoch 18/30\n",
            "1325/1325 [==============================] - 4s 3ms/step - loss: 1.7982e-05 - accuracy: 1.0000 - val_loss: 0.1764 - val_accuracy: 0.9837\n",
            "Epoch 19/30\n",
            "1325/1325 [==============================] - 4s 3ms/step - loss: 1.7849e-05 - accuracy: 1.0000 - val_loss: 0.1764 - val_accuracy: 0.9837\n",
            "Epoch 20/30\n",
            "1325/1325 [==============================] - 4s 3ms/step - loss: 1.7715e-05 - accuracy: 1.0000 - val_loss: 0.1764 - val_accuracy: 0.9837\n",
            "Epoch 21/30\n",
            "1325/1325 [==============================] - 4s 3ms/step - loss: 1.7584e-05 - accuracy: 1.0000 - val_loss: 0.1764 - val_accuracy: 0.9837\n",
            "Epoch 22/30\n",
            "1325/1325 [==============================] - 4s 3ms/step - loss: 1.7455e-05 - accuracy: 1.0000 - val_loss: 0.1765 - val_accuracy: 0.9837\n",
            "Epoch 23/30\n",
            "1325/1325 [==============================] - 4s 3ms/step - loss: 1.7328e-05 - accuracy: 1.0000 - val_loss: 0.1765 - val_accuracy: 0.9837\n",
            "Epoch 24/30\n",
            "1325/1325 [==============================] - 4s 3ms/step - loss: 1.7203e-05 - accuracy: 1.0000 - val_loss: 0.1765 - val_accuracy: 0.9837\n",
            "Epoch 25/30\n",
            "1325/1325 [==============================] - 4s 3ms/step - loss: 1.7080e-05 - accuracy: 1.0000 - val_loss: 0.1765 - val_accuracy: 0.9837\n",
            "Epoch 26/30\n",
            "1325/1325 [==============================] - 4s 3ms/step - loss: 1.6960e-05 - accuracy: 1.0000 - val_loss: 0.1765 - val_accuracy: 0.9837\n",
            "Epoch 27/30\n",
            "1325/1325 [==============================] - 4s 3ms/step - loss: 1.6841e-05 - accuracy: 1.0000 - val_loss: 0.1765 - val_accuracy: 0.9837\n",
            "Epoch 28/30\n",
            "1325/1325 [==============================] - 4s 3ms/step - loss: 1.6723e-05 - accuracy: 1.0000 - val_loss: 0.1765 - val_accuracy: 0.9839\n",
            "Epoch 29/30\n",
            "1325/1325 [==============================] - 4s 3ms/step - loss: 1.6608e-05 - accuracy: 1.0000 - val_loss: 0.1765 - val_accuracy: 0.9839\n",
            "Epoch 30/30\n",
            "1325/1325 [==============================] - 4s 3ms/step - loss: 1.6495e-05 - accuracy: 1.0000 - val_loss: 0.1766 - val_accuracy: 0.9839\n"
          ],
          "name": "stdout"
        }
      ]
    },
    {
      "cell_type": "code",
      "metadata": {
        "colab": {
          "base_uri": "https://localhost:8080/"
        },
        "id": "BAXWGOA_VW9a",
        "outputId": "49620789-699f-460e-ecba-a26494b0d862"
      },
      "source": [
        "model.evaluate(X_test, y_test)"
      ],
      "execution_count": null,
      "outputs": [
        {
          "output_type": "stream",
          "text": [
            "313/313 [==============================] - 0s 1ms/step - loss: 0.2155 - accuracy: 0.9815\n"
          ],
          "name": "stdout"
        },
        {
          "output_type": "execute_result",
          "data": {
            "text/plain": [
              "[0.21546323597431183, 0.9815000295639038]"
            ]
          },
          "metadata": {
            "tags": []
          },
          "execution_count": 91
        }
      ]
    },
    {
      "cell_type": "code",
      "metadata": {
        "colab": {
          "base_uri": "https://localhost:8080/",
          "height": 940
        },
        "id": "wSrqIP5sXylR",
        "outputId": "bb24c8cc-994e-464b-d684-f723555b9756"
      },
      "source": [
        "pd.DataFrame(history.history).plot(figsize=(8, 5))\n",
        "pd.DataFrame(history3.history).plot(figsize=(8, 5))\n",
        "pd.DataFrame(history4.history).plot(figsize=(8, 5))\n",
        "plt.grid(True)\n",
        "plt.gca().set_ylim(0, 1)\n",
        "plt.show()"
      ],
      "execution_count": null,
      "outputs": [
        {
          "output_type": "display_data",
          "data": {
            "image/png": "[encoded data removed]",
            "text/plain": [
              "<Figure size 576x360 with 1 Axes>"
            ]
          },
          "metadata": {
            "tags": [],
            "needs_background": "light"
          }
        },
        {
          "output_type": "display_data",
          "data": {
            "image/png": "[encoded data removed]",
            "text/plain": [
              "<Figure size 576x360 with 1 Axes>"
            ]
          },
          "metadata": {
            "tags": [],
            "needs_background": "light"
          }
        },
        {
          "output_type": "display_data",
          "data": {
            "image/png": "[encoded data removed]",
            "text/plain": [
              "<Figure size 576x360 with 1 Axes>"
            ]
          },
          "metadata": {
            "tags": [],
            "needs_background": "light"
          }
        }
      ]
    },
    {
      "cell_type": "markdown",
      "metadata": {
        "id": "0fcJgfOeYYHn"
      },
      "source": [
        "# **Plot Learning curves when using different number of epochs**"
      ]
    },
    {
      "cell_type": "markdown",
      "metadata": {
        "id": "pCOYhsoUYoaP"
      },
      "source": [
        "*number of epochs=10*"
      ]
    },
    {
      "cell_type": "code",
      "metadata": {
        "colab": {
          "base_uri": "https://localhost:8080/"
        },
        "id": "2upYLTBhYdCA",
        "outputId": "cf531bf2-eb73-45ad-cd54-4e1f05e3e329"
      },
      "source": [
        "history5 = model.fit(X_train, y_train, batch_size=32, epochs=10,\n",
        "                    validation_data=(X_valid, y_valid))"
      ],
      "execution_count": null,
      "outputs": [
        {
          "output_type": "stream",
          "text": [
            "Epoch 1/10\n",
            "1657/1657 [==============================] - 4s 2ms/step - loss: 1.6181e-05 - accuracy: 1.0000 - val_loss: 0.1766 - val_accuracy: 0.9837\n",
            "Epoch 2/10\n",
            "1657/1657 [==============================] - 4s 2ms/step - loss: 1.6048e-05 - accuracy: 1.0000 - val_loss: 0.1766 - val_accuracy: 0.9837\n",
            "Epoch 3/10\n",
            "1657/1657 [==============================] - 4s 2ms/step - loss: 1.5916e-05 - accuracy: 1.0000 - val_loss: 0.1766 - val_accuracy: 0.9837\n",
            "Epoch 4/10\n",
            "1657/1657 [==============================] - 4s 2ms/step - loss: 1.5787e-05 - accuracy: 1.0000 - val_loss: 0.1766 - val_accuracy: 0.9837\n",
            "Epoch 5/10\n",
            "1657/1657 [==============================] - 4s 2ms/step - loss: 1.5661e-05 - accuracy: 1.0000 - val_loss: 0.1767 - val_accuracy: 0.9837\n",
            "Epoch 6/10\n",
            "1657/1657 [==============================] - 4s 2ms/step - loss: 1.5537e-05 - accuracy: 1.0000 - val_loss: 0.1767 - val_accuracy: 0.9837\n",
            "Epoch 7/10\n",
            "1657/1657 [==============================] - 4s 2ms/step - loss: 1.5415e-05 - accuracy: 1.0000 - val_loss: 0.1767 - val_accuracy: 0.9837\n",
            "Epoch 8/10\n",
            "1657/1657 [==============================] - 4s 2ms/step - loss: 1.5295e-05 - accuracy: 1.0000 - val_loss: 0.1767 - val_accuracy: 0.9837\n",
            "Epoch 9/10\n",
            "1657/1657 [==============================] - 4s 2ms/step - loss: 1.5177e-05 - accuracy: 1.0000 - val_loss: 0.1767 - val_accuracy: 0.9837\n",
            "Epoch 10/10\n",
            "1657/1657 [==============================] - 4s 2ms/step - loss: 1.5060e-05 - accuracy: 1.0000 - val_loss: 0.1767 - val_accuracy: 0.9837\n"
          ],
          "name": "stdout"
        }
      ]
    },
    {
      "cell_type": "code",
      "metadata": {
        "colab": {
          "base_uri": "https://localhost:8080/",
          "height": 328
        },
        "id": "nJ2oRAAWZRYE",
        "outputId": "6af971a4-4e57-42ee-e868-f34c53a6e5eb"
      },
      "source": [
        "import pandas as pd\n",
        "\n",
        "pd.DataFrame(history5.history).plot(figsize=(8, 5))\n",
        "plt.grid(True)\n",
        "plt.gca().set_ylim(0, 1)\n",
        "plt.show()"
      ],
      "execution_count": null,
      "outputs": [
        {
          "output_type": "display_data",
          "data": {
            "image/png": "[encoded data removed]",
            "text/plain": [
              "<Figure size 576x360 with 1 Axes>"
            ]
          },
          "metadata": {
            "tags": [],
            "needs_background": "light"
          }
        }
      ]
    },
    {
      "cell_type": "code",
      "metadata": {
        "colab": {
          "base_uri": "https://localhost:8080/"
        },
        "id": "2IwbFT_cYdON",
        "outputId": "0c39f7f0-0bde-400b-9887-a43337cd277a"
      },
      "source": [
        "model.evaluate(X_test, y_test)"
      ],
      "execution_count": null,
      "outputs": [
        {
          "output_type": "stream",
          "text": [
            "313/313 [==============================] - 0s 1ms/step - loss: 0.2156 - accuracy: 0.9816\n"
          ],
          "name": "stdout"
        },
        {
          "output_type": "execute_result",
          "data": {
            "text/plain": [
              "[0.21555954217910767, 0.9815999865531921]"
            ]
          },
          "metadata": {
            "tags": []
          },
          "execution_count": 98
        }
      ]
    },
    {
      "cell_type": "markdown",
      "metadata": {
        "id": "WsmFP5e8Y-y2"
      },
      "source": [
        "*number of epochs=20*"
      ]
    },
    {
      "cell_type": "code",
      "metadata": {
        "colab": {
          "base_uri": "https://localhost:8080/"
        },
        "id": "4CTIQwX2Yeg9",
        "outputId": "a7542504-cfde-4c12-aea4-5cb94ab4a5a6"
      },
      "source": [
        "history6 = model.fit(X_train, y_train, batch_size=32, epochs=20,\n",
        "                    validation_data=(X_valid, y_valid))"
      ],
      "execution_count": null,
      "outputs": [
        {
          "output_type": "stream",
          "text": [
            "Epoch 1/20\n",
            "1657/1657 [==============================] - 4s 2ms/step - loss: 1.4946e-05 - accuracy: 1.0000 - val_loss: 0.1768 - val_accuracy: 0.9837\n",
            "Epoch 2/20\n",
            "1657/1657 [==============================] - 4s 2ms/step - loss: 1.4835e-05 - accuracy: 1.0000 - val_loss: 0.1768 - val_accuracy: 0.9837\n",
            "Epoch 3/20\n",
            "1657/1657 [==============================] - 4s 2ms/step - loss: 1.4724e-05 - accuracy: 1.0000 - val_loss: 0.1768 - val_accuracy: 0.9837\n",
            "Epoch 4/20\n",
            "1657/1657 [==============================] - 4s 2ms/step - loss: 1.4616e-05 - accuracy: 1.0000 - val_loss: 0.1768 - val_accuracy: 0.9837\n",
            "Epoch 5/20\n",
            "1657/1657 [==============================] - 4s 2ms/step - loss: 1.4510e-05 - accuracy: 1.0000 - val_loss: 0.1768 - val_accuracy: 0.9837\n",
            "Epoch 6/20\n",
            "1657/1657 [==============================] - 4s 2ms/step - loss: 1.4405e-05 - accuracy: 1.0000 - val_loss: 0.1768 - val_accuracy: 0.9837\n",
            "Epoch 7/20\n",
            "1657/1657 [==============================] - 4s 2ms/step - loss: 1.4302e-05 - accuracy: 1.0000 - val_loss: 0.1769 - val_accuracy: 0.9837\n",
            "Epoch 8/20\n",
            "1657/1657 [==============================] - 4s 2ms/step - loss: 1.4200e-05 - accuracy: 1.0000 - val_loss: 0.1769 - val_accuracy: 0.9837\n",
            "Epoch 9/20\n",
            "1657/1657 [==============================] - 4s 2ms/step - loss: 1.4100e-05 - accuracy: 1.0000 - val_loss: 0.1769 - val_accuracy: 0.9837\n",
            "Epoch 10/20\n",
            "1657/1657 [==============================] - 4s 2ms/step - loss: 1.4001e-05 - accuracy: 1.0000 - val_loss: 0.1769 - val_accuracy: 0.9837\n",
            "Epoch 11/20\n",
            "1657/1657 [==============================] - 4s 2ms/step - loss: 1.3905e-05 - accuracy: 1.0000 - val_loss: 0.1769 - val_accuracy: 0.9837\n",
            "Epoch 12/20\n",
            "1657/1657 [==============================] - 4s 2ms/step - loss: 1.3809e-05 - accuracy: 1.0000 - val_loss: 0.1769 - val_accuracy: 0.9837\n",
            "Epoch 13/20\n",
            "1657/1657 [==============================] - 4s 2ms/step - loss: 1.3713e-05 - accuracy: 1.0000 - val_loss: 0.1770 - val_accuracy: 0.9837\n",
            "Epoch 14/20\n",
            "1657/1657 [==============================] - 4s 2ms/step - loss: 1.3620e-05 - accuracy: 1.0000 - val_loss: 0.1770 - val_accuracy: 0.9837\n",
            "Epoch 15/20\n",
            "1657/1657 [==============================] - 4s 2ms/step - loss: 1.3529e-05 - accuracy: 1.0000 - val_loss: 0.1770 - val_accuracy: 0.9839\n",
            "Epoch 16/20\n",
            "1657/1657 [==============================] - 4s 2ms/step - loss: 1.3436e-05 - accuracy: 1.0000 - val_loss: 0.1770 - val_accuracy: 0.9839\n",
            "Epoch 17/20\n",
            "1657/1657 [==============================] - 4s 2ms/step - loss: 1.3347e-05 - accuracy: 1.0000 - val_loss: 0.1770 - val_accuracy: 0.9839\n",
            "Epoch 18/20\n",
            "1657/1657 [==============================] - 4s 2ms/step - loss: 1.3260e-05 - accuracy: 1.0000 - val_loss: 0.1770 - val_accuracy: 0.9839\n",
            "Epoch 19/20\n",
            "1657/1657 [==============================] - 4s 2ms/step - loss: 1.3174e-05 - accuracy: 1.0000 - val_loss: 0.1770 - val_accuracy: 0.9839\n",
            "Epoch 20/20\n",
            "1657/1657 [==============================] - 4s 2ms/step - loss: 1.3089e-05 - accuracy: 1.0000 - val_loss: 0.1771 - val_accuracy: 0.9839\n"
          ],
          "name": "stdout"
        }
      ]
    },
    {
      "cell_type": "code",
      "metadata": {
        "colab": {
          "base_uri": "https://localhost:8080/",
          "height": 328
        },
        "id": "nRj2Js69YedE",
        "outputId": "9dd32b42-6255-4ccf-9224-ada58f90c950"
      },
      "source": [
        "import pandas as pd\n",
        "\n",
        "pd.DataFrame(history6.history).plot(figsize=(8, 5))\n",
        "plt.grid(True)\n",
        "plt.gca().set_ylim(0, 1)\n",
        "plt.show()"
      ],
      "execution_count": null,
      "outputs": [
        {
          "output_type": "display_data",
          "data": {
            "image/png": "[encoded data removed]",
            "text/plain": [
              "<Figure size 576x360 with 1 Axes>"
            ]
          },
          "metadata": {
            "tags": [],
            "needs_background": "light"
          }
        }
      ]
    },
    {
      "cell_type": "code",
      "metadata": {
        "colab": {
          "base_uri": "https://localhost:8080/"
        },
        "id": "5fwB2oWMYeNk",
        "outputId": "65b8daba-a6a3-4880-d0d9-172c39446c8d"
      },
      "source": [
        "model.evaluate(X_test, y_test)"
      ],
      "execution_count": null,
      "outputs": [
        {
          "output_type": "stream",
          "text": [
            "313/313 [==============================] - 0s 1ms/step - loss: 0.2157 - accuracy: 0.9816\n"
          ],
          "name": "stdout"
        },
        {
          "output_type": "execute_result",
          "data": {
            "text/plain": [
              "[0.21570229530334473, 0.9815999865531921]"
            ]
          },
          "metadata": {
            "tags": []
          },
          "execution_count": 101
        }
      ]
    },
    {
      "cell_type": "code",
      "metadata": {
        "colab": {
          "base_uri": "https://localhost:8080/",
          "height": 940
        },
        "id": "9m_WYBVHYeLi",
        "outputId": "a8dca4c4-1ce5-451d-a47a-1900def65ac7"
      },
      "source": [
        "pd.DataFrame(history.history).plot(figsize=(8, 5))\n",
        "pd.DataFrame(history5.history).plot(figsize=(8, 5))\n",
        "pd.DataFrame(history6.history).plot(figsize=(8, 5))\n",
        "plt.grid(True)\n",
        "plt.gca().set_ylim(0, 1)\n",
        "plt.show()"
      ],
      "execution_count": null,
      "outputs": [
        {
          "output_type": "display_data",
          "data": {
            "image/png": "[encoded data removed]",
            "text/plain": [
              "<Figure size 576x360 with 1 Axes>"
            ]
          },
          "metadata": {
            "tags": [],
            "needs_background": "light"
          }
        },
        {
          "output_type": "display_data",
          "data": {
            "image/png": "[encoded data removed]",
            "text/plain": [
              "<Figure size 576x360 with 1 Axes>"
            ]
          },
          "metadata": {
            "tags": [],
            "needs_background": "light"
          }
        },
        {
          "output_type": "display_data",
          "data": {
            "image/png": "[encoded data removed]",
            "text/plain": [
              "<Figure size 576x360 with 1 Axes>"
            ]
          },
          "metadata": {
            "tags": [],
            "needs_background": "light"
          }
        }
      ]
    },
    {
      "cell_type": "markdown",
      "metadata": {
        "id": "5OPpc_ZvbCFG"
      },
      "source": [
        "# **repeat with more layers / Use Batch Normalisation**"
      ]
    },
    {
      "cell_type": "markdown",
      "metadata": {
        "id": "gBN0gaBBbuWZ"
      },
      "source": [
        "https://keras.io/api/layers/regularization_layers/dropout/\n",
        "\n",
        "https://keras.io/search.html?query=Batch%20Normalisation\n",
        "\n",
        "https://keras.io/api/layers/normalization_layers/batch_normalization/"
      ]
    },
    {
      "cell_type": "code",
      "metadata": {
        "id": "OMUTFkfRYeG5"
      },
      "source": [
        "model = keras.models.Sequential()\n",
        "model.add(keras.layers.Flatten(input_shape=[28, 28]))\n",
        "model.add(keras.layers.Dense(500, activation=\"relu\"))\n",
        "model.add((keras.layers.Dropout(0.2)))\n",
        "model.add(keras.layers.Dense(300, activation=\"relu\"))\n",
        "model.add(keras.layers.BatchNormalization())\n",
        "model.add(keras.layers.Dense(40, activation=\"softmax\"))"
      ],
      "execution_count": null,
      "outputs": []
    },
    {
      "cell_type": "code",
      "metadata": {
        "colab": {
          "base_uri": "https://localhost:8080/"
        },
        "id": "YUCwE0Q_Yd7l",
        "outputId": "e86675ad-f92a-4e50-965c-dee8a4f79b28"
      },
      "source": [
        "model.layers"
      ],
      "execution_count": null,
      "outputs": [
        {
          "output_type": "execute_result",
          "data": {
            "text/plain": [
              "[<tensorflow.python.keras.layers.core.Flatten at 0x7feeddec04a8>,\n",
              " <tensorflow.python.keras.layers.core.Dense at 0x7feeeaa23c18>,\n",
              " <tensorflow.python.keras.layers.core.Dropout at 0x7feeeaa050f0>,\n",
              " <tensorflow.python.keras.layers.core.Dense at 0x7feeeaa051d0>,\n",
              " <tensorflow.python.keras.layers.normalization_v2.BatchNormalization at 0x7feeeaa15f60>,\n",
              " <tensorflow.python.keras.layers.core.Dense at 0x7feeeaa15e80>]"
            ]
          },
          "metadata": {
            "tags": []
          },
          "execution_count": 105
        }
      ]
    },
    {
      "cell_type": "code",
      "metadata": {
        "id": "Rp6x93aOYd5u"
      },
      "source": [
        "model.compile(loss=\"sparse_categorical_crossentropy\",\n",
        "              optimizer=\"sgd\",\n",
        "              metrics=[\"accuracy\"])"
      ],
      "execution_count": null,
      "outputs": []
    },
    {
      "cell_type": "code",
      "metadata": {
        "colab": {
          "base_uri": "https://localhost:8080/"
        },
        "id": "pWXi40w6Ydv2",
        "outputId": "6429980e-2352-4d2c-b62a-f3ce44cbd5d4"
      },
      "source": [
        "history7 = model.fit(X_train, y_train, batch_size=32, epochs=30,\n",
        "                    validation_data=(X_valid, y_valid))"
      ],
      "execution_count": null,
      "outputs": [
        {
          "output_type": "stream",
          "text": [
            "Epoch 1/30\n",
            "1657/1657 [==============================] - 9s 5ms/step - loss: 0.4177 - accuracy: 0.8928 - val_loss: 0.1537 - val_accuracy: 0.9590\n",
            "Epoch 2/30\n",
            "1657/1657 [==============================] - 9s 5ms/step - loss: 0.1880 - accuracy: 0.9469 - val_loss: 0.1151 - val_accuracy: 0.9681\n",
            "Epoch 3/30\n",
            "1657/1657 [==============================] - 9s 5ms/step - loss: 0.1379 - accuracy: 0.9601 - val_loss: 0.1029 - val_accuracy: 0.9703\n",
            "Epoch 4/30\n",
            "1657/1657 [==============================] - 9s 5ms/step - loss: 0.1097 - accuracy: 0.9676 - val_loss: 0.0926 - val_accuracy: 0.9730\n",
            "Epoch 5/30\n",
            "1657/1657 [==============================] - 9s 6ms/step - loss: 0.0911 - accuracy: 0.9730 - val_loss: 0.0838 - val_accuracy: 0.9760\n",
            "Epoch 6/30\n",
            "1657/1657 [==============================] - 9s 6ms/step - loss: 0.0782 - accuracy: 0.9761 - val_loss: 0.0798 - val_accuracy: 0.9781\n",
            "Epoch 7/30\n",
            "1657/1657 [==============================] - 9s 5ms/step - loss: 0.0659 - accuracy: 0.9794 - val_loss: 0.0730 - val_accuracy: 0.9779\n",
            "Epoch 8/30\n",
            "1657/1657 [==============================] - 9s 5ms/step - loss: 0.0589 - accuracy: 0.9820 - val_loss: 0.0745 - val_accuracy: 0.9770\n",
            "Epoch 9/30\n",
            "1657/1657 [==============================] - 9s 5ms/step - loss: 0.0502 - accuracy: 0.9851 - val_loss: 0.0729 - val_accuracy: 0.9784\n",
            "Epoch 10/30\n",
            "1657/1657 [==============================] - 9s 5ms/step - loss: 0.0456 - accuracy: 0.9862 - val_loss: 0.0735 - val_accuracy: 0.9787\n",
            "Epoch 11/30\n",
            "1657/1657 [==============================] - 9s 5ms/step - loss: 0.0393 - accuracy: 0.9878 - val_loss: 0.0714 - val_accuracy: 0.9796\n",
            "Epoch 12/30\n",
            "1657/1657 [==============================] - 9s 6ms/step - loss: 0.0374 - accuracy: 0.9883 - val_loss: 0.0700 - val_accuracy: 0.9794\n",
            "Epoch 13/30\n",
            "1657/1657 [==============================] - 9s 5ms/step - loss: 0.0332 - accuracy: 0.9895 - val_loss: 0.0717 - val_accuracy: 0.9779\n",
            "Epoch 14/30\n",
            "1657/1657 [==============================] - 9s 5ms/step - loss: 0.0301 - accuracy: 0.9908 - val_loss: 0.0676 - val_accuracy: 0.9797\n",
            "Epoch 15/30\n",
            "1657/1657 [==============================] - 9s 5ms/step - loss: 0.0282 - accuracy: 0.9912 - val_loss: 0.0657 - val_accuracy: 0.9804\n",
            "Epoch 16/30\n",
            "1657/1657 [==============================] - 9s 5ms/step - loss: 0.0264 - accuracy: 0.9919 - val_loss: 0.0662 - val_accuracy: 0.9807\n",
            "Epoch 17/30\n",
            "1657/1657 [==============================] - 9s 5ms/step - loss: 0.0234 - accuracy: 0.9926 - val_loss: 0.0692 - val_accuracy: 0.9807\n",
            "Epoch 18/30\n",
            "1657/1657 [==============================] - 9s 5ms/step - loss: 0.0219 - accuracy: 0.9934 - val_loss: 0.0673 - val_accuracy: 0.9809\n",
            "Epoch 19/30\n",
            "1657/1657 [==============================] - 9s 6ms/step - loss: 0.0209 - accuracy: 0.9938 - val_loss: 0.0661 - val_accuracy: 0.9810\n",
            "Epoch 20/30\n",
            "1657/1657 [==============================] - 10s 6ms/step - loss: 0.0185 - accuracy: 0.9945 - val_loss: 0.0722 - val_accuracy: 0.9797\n",
            "Epoch 21/30\n",
            "1657/1657 [==============================] - 9s 5ms/step - loss: 0.0198 - accuracy: 0.9938 - val_loss: 0.0671 - val_accuracy: 0.9801\n",
            "Epoch 22/30\n",
            "1657/1657 [==============================] - 10s 6ms/step - loss: 0.0173 - accuracy: 0.9947 - val_loss: 0.0638 - val_accuracy: 0.9821\n",
            "Epoch 23/30\n",
            "1657/1657 [==============================] - 13s 8ms/step - loss: 0.0160 - accuracy: 0.9951 - val_loss: 0.0689 - val_accuracy: 0.9803\n",
            "Epoch 24/30\n",
            "1657/1657 [==============================] - 9s 5ms/step - loss: 0.0157 - accuracy: 0.9954 - val_loss: 0.0660 - val_accuracy: 0.9817\n",
            "Epoch 25/30\n",
            "1657/1657 [==============================] - 9s 5ms/step - loss: 0.0148 - accuracy: 0.9954 - val_loss: 0.0664 - val_accuracy: 0.9817\n",
            "Epoch 26/30\n",
            "1657/1657 [==============================] - 9s 6ms/step - loss: 0.0140 - accuracy: 0.9959 - val_loss: 0.0666 - val_accuracy: 0.9821\n",
            "Epoch 27/30\n",
            "1657/1657 [==============================] - 9s 5ms/step - loss: 0.0134 - accuracy: 0.9960 - val_loss: 0.0650 - val_accuracy: 0.9813\n",
            "Epoch 28/30\n",
            "1657/1657 [==============================] - 9s 5ms/step - loss: 0.0126 - accuracy: 0.9965 - val_loss: 0.0669 - val_accuracy: 0.9821\n",
            "Epoch 29/30\n",
            "1657/1657 [==============================] - 9s 5ms/step - loss: 0.0125 - accuracy: 0.9962 - val_loss: 0.0689 - val_accuracy: 0.9800\n",
            "Epoch 30/30\n",
            "1657/1657 [==============================] - 9s 5ms/step - loss: 0.0120 - accuracy: 0.9963 - val_loss: 0.0672 - val_accuracy: 0.9811\n"
          ],
          "name": "stdout"
        }
      ]
    },
    {
      "cell_type": "code",
      "metadata": {
        "colab": {
          "base_uri": "https://localhost:8080/",
          "height": 328
        },
        "id": "HzC4INW_Ydt-",
        "outputId": "55b241f9-8190-4a53-dcfe-dee1630fabf2"
      },
      "source": [
        "pd.DataFrame(history7.history).plot(figsize=(8, 5))\n",
        "plt.grid(True)\n",
        "plt.gca().set_ylim(0, 1)\n",
        "plt.show()"
      ],
      "execution_count": null,
      "outputs": [
        {
          "output_type": "display_data",
          "data": {
            "image/png": "[encoded data removed]",
            "text/plain": [
              "<Figure size 576x360 with 1 Axes>"
            ]
          },
          "metadata": {
            "tags": [],
            "needs_background": "light"
          }
        }
      ]
    },
    {
      "cell_type": "code",
      "metadata": {
        "colab": {
          "base_uri": "https://localhost:8080/"
        },
        "id": "ebgiTLiiYdsA",
        "outputId": "3e1cd8dd-2746-43ac-ef4c-26c7405d5268"
      },
      "source": [
        "model.evaluate(X_test, y_test)"
      ],
      "execution_count": null,
      "outputs": [
        {
          "output_type": "stream",
          "text": [
            "313/313 [==============================] - 1s 2ms/step - loss: 0.0644 - accuracy: 0.9830\n"
          ],
          "name": "stdout"
        },
        {
          "output_type": "execute_result",
          "data": {
            "text/plain": [
              "[0.0644458681344986, 0.9829999804496765]"
            ]
          },
          "metadata": {
            "tags": []
          },
          "execution_count": 109
        }
      ]
    },
    {
      "cell_type": "code",
      "metadata": {
        "colab": {
          "base_uri": "https://localhost:8080/",
          "height": 634
        },
        "id": "ibESKz0tYdqM",
        "outputId": "226a2732-aa50-44b2-d87e-39fb6a436753"
      },
      "source": [
        "pd.DataFrame(history.history).plot(figsize=(8, 5))\n",
        "pd.DataFrame(history7.history).plot(figsize=(8, 5))\n",
        "plt.grid(True)\n",
        "plt.gca().set_ylim(0, 1)\n",
        "plt.show()"
      ],
      "execution_count": null,
      "outputs": [
        {
          "output_type": "display_data",
          "data": {
            "image/png": "[encoded data removed]",
            "text/plain": [
              "<Figure size 576x360 with 1 Axes>"
            ]
          },
          "metadata": {
            "tags": [],
            "needs_background": "light"
          }
        },
        {
          "output_type": "display_data",
          "data": {
            "image/png": "[encoded data removed]",
            "text/plain": [
              "<Figure size 576x360 with 1 Axes>"
            ]
          },
          "metadata": {
            "tags": [],
            "needs_background": "light"
          }
        }
      ]
    }
  ]
}