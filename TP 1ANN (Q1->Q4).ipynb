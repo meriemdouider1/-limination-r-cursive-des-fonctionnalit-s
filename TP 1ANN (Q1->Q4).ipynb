{
  "nbformat": 4,
  "nbformat_minor": 0,
  "metadata": {
    "colab": {
      "name": "tp1ANN.ipynb",
      "provenance": [],
      "collapsed_sections": [],
      "authorship_tag": "ABX9TyMjIpWsgwyQrTDL7SDFceTn",
      "include_colab_link": true
    },
    "kernelspec": {
      "name": "python3",
      "display_name": "Python 3"
    }
  },
  "cells": [
    {
      "cell_type": "markdown",
      "metadata": {
        "id": "view-in-github",
        "colab_type": "text"
      },
      "source": [
        "<a href=\"https://colab.research.google.com/github/meriemdouider1/tp-deep-learning/blob/main/TP%201ANN%20(Q1-%3EQ4).ipynb\" target=\"_parent\"><img src=\"https://colab.research.google.com/assets/colab-badge.svg\" alt=\"Open In Colab\"/></a>"
      ]
    },
    {
      "cell_type": "markdown",
      "metadata": {
        "id": "UU0oJw6xre8o"
      },
      "source": [
        "# **ANN_WITH_KERAS**\n",
        "\n",
        "# Setup\n",
        "\n",
        "-> Firstly, lets import a few common modules, ensure MatplotLib plots figures inline and prepare a function to save the figures. We also check that Python 3.5 or later is installed (although Python 2.x may work, it is deprecated so we strongly recommend you use Python 3 instead), as well as Scikit-Learn ≥0.20 and TensorFlow ≥2.0."
      ]
    },
    {
      "cell_type": "code",
      "metadata": {
        "id": "5pw-GyBAqrK6"
      },
      "source": [
        "# Common imports\n",
        "import numpy as np\n",
        "import os"
      ],
      "execution_count": null,
      "outputs": []
    },
    {
      "cell_type": "code",
      "metadata": {
        "id": "e-zKCq2qrmEV"
      },
      "source": [
        "# to make this notebook's output stable across runs\n",
        "np.random.seed(42)\n",
        "\n",
        "# To plot pretty figures\n",
        "%matplotlib inline\n",
        "import matplotlib as mpl\n",
        "import matplotlib.pyplot as plt\n",
        "mpl.rc('axes', labelsize=14)\n",
        "mpl.rc('xtick', labelsize=12)\n",
        "mpl.rc('ytick', labelsize=12)\n"
      ],
      "execution_count": null,
      "outputs": []
    },
    {
      "cell_type": "code",
      "metadata": {
        "id": "1tXi4sVnsNgX"
      },
      "source": [
        "# Ignore useless warnings (see SciPy issue #5998)\n",
        "import warnings\n",
        "warnings.filterwarnings(action=\"ignore\", message=\"^internal gelsd\")"
      ],
      "execution_count": null,
      "outputs": []
    },
    {
      "cell_type": "markdown",
      "metadata": {
        "id": "vBTasE7utKhl"
      },
      "source": [
        "\n",
        "**Building an Image Classifier**"
      ]
    },
    {
      "cell_type": "markdown",
      "metadata": {
        "id": "9BrsMEJTtXnb"
      },
      "source": [
        "First : import TensorFlow and Keras."
      ]
    },
    {
      "cell_type": "code",
      "metadata": {
        "colab": {
          "base_uri": "https://localhost:8080/",
          "height": 37
        },
        "id": "NoE_lJmrsXNv",
        "outputId": "5deaa3bc-ab50-407e-db5a-f5d6a9271e59"
      },
      "source": [
        "import tensorflow as tf\n",
        "from tensorflow import keras\n",
        "tf.__version__"
      ],
      "execution_count": null,
      "outputs": [
        {
          "output_type": "execute_result",
          "data": {
            "application/vnd.google.colaboratory.intrinsic+json": {
              "type": "string"
            },
            "text/plain": [
              "'2.3.0'"
            ]
          },
          "metadata": {
            "tags": []
          },
          "execution_count": 301
        }
      ]
    },
    {
      "cell_type": "markdown",
      "metadata": {
        "id": "a5-yaGHBs4xb"
      },
      "source": [
        "\n",
        "we start by loading the fashion MNIST dataset. Keras has a number of functions to load popular datasets in keras.datasets. The dataset is already split for you between a training set and a test set, but it can be useful to split the training set further to have a validation set:\n",
        "\n"
      ]
    },
    {
      "cell_type": "code",
      "metadata": {
        "id": "gYPiJD6pucMH"
      },
      "source": [
        "fashion_mnist = keras.datasets.fashion_mnist\n",
        "(X_train_full, y_train_full), (X_test, y_test) = fashion_mnist.load_data()"
      ],
      "execution_count": null,
      "outputs": []
    },
    {
      "cell_type": "markdown",
      "metadata": {
        "id": "WUgIjvhju7cV"
      },
      "source": [
        "\n",
        "The training set contains 60,000 grayscale images, each 28x28 pixels and Each pixel intensity is represented as a byte (0 to 255)::"
      ]
    },
    {
      "cell_type": "code",
      "metadata": {
        "colab": {
          "base_uri": "https://localhost:8080/"
        },
        "id": "lQ2kFtuZuuzi",
        "outputId": "a166ce53-f7d7-4a1d-bd15-bbad0920cb5e"
      },
      "source": [
        "X_train_full.shape"
      ],
      "execution_count": null,
      "outputs": [
        {
          "output_type": "execute_result",
          "data": {
            "text/plain": [
              "(60000, 28, 28)"
            ]
          },
          "metadata": {
            "tags": []
          },
          "execution_count": 303
        }
      ]
    },
    {
      "cell_type": "markdown",
      "metadata": {
        "id": "e_9z2X5Tu0fy"
      },
      "source": [
        ""
      ]
    },
    {
      "cell_type": "code",
      "metadata": {
        "colab": {
          "base_uri": "https://localhost:8080/"
        },
        "id": "NEjNEe0XvQcO",
        "outputId": "0804c5a0-ea70-4f43-c5ee-0a845559f972"
      },
      "source": [
        "X_train_full.dtype"
      ],
      "execution_count": null,
      "outputs": [
        {
          "output_type": "execute_result",
          "data": {
            "text/plain": [
              "dtype('uint8')"
            ]
          },
          "metadata": {
            "tags": []
          },
          "execution_count": 304
        }
      ]
    },
    {
      "cell_type": "code",
      "metadata": {
        "colab": {
          "base_uri": "https://localhost:8080/"
        },
        "id": "lMtkcRk5vQkp",
        "outputId": "7aa8cd4d-2c32-4ec2-ff7c-b0be71e9f1e7"
      },
      "source": [
        "X_train_full"
      ],
      "execution_count": null,
      "outputs": [
        {
          "output_type": "execute_result",
          "data": {
            "text/plain": [
              "array([[[0, 0, 0, ..., 0, 0, 0],\n",
              "        [0, 0, 0, ..., 0, 0, 0],\n",
              "        [0, 0, 0, ..., 0, 0, 0],\n",
              "        ...,\n",
              "        [0, 0, 0, ..., 0, 0, 0],\n",
              "        [0, 0, 0, ..., 0, 0, 0],\n",
              "        [0, 0, 0, ..., 0, 0, 0]],\n",
              "\n",
              "       [[0, 0, 0, ..., 0, 0, 0],\n",
              "        [0, 0, 0, ..., 0, 0, 0],\n",
              "        [0, 0, 0, ..., 0, 0, 0],\n",
              "        ...,\n",
              "        [0, 0, 0, ..., 0, 0, 0],\n",
              "        [0, 0, 0, ..., 0, 0, 0],\n",
              "        [0, 0, 0, ..., 0, 0, 0]],\n",
              "\n",
              "       [[0, 0, 0, ..., 0, 0, 0],\n",
              "        [0, 0, 0, ..., 0, 0, 0],\n",
              "        [0, 0, 0, ..., 0, 0, 0],\n",
              "        ...,\n",
              "        [0, 0, 0, ..., 0, 0, 0],\n",
              "        [0, 0, 0, ..., 0, 0, 0],\n",
              "        [0, 0, 0, ..., 0, 0, 0]],\n",
              "\n",
              "       ...,\n",
              "\n",
              "       [[0, 0, 0, ..., 0, 0, 0],\n",
              "        [0, 0, 0, ..., 0, 0, 0],\n",
              "        [0, 0, 0, ..., 0, 0, 0],\n",
              "        ...,\n",
              "        [0, 0, 0, ..., 0, 0, 0],\n",
              "        [0, 0, 0, ..., 0, 0, 0],\n",
              "        [0, 0, 0, ..., 0, 0, 0]],\n",
              "\n",
              "       [[0, 0, 0, ..., 0, 0, 0],\n",
              "        [0, 0, 0, ..., 0, 0, 0],\n",
              "        [0, 0, 0, ..., 0, 0, 0],\n",
              "        ...,\n",
              "        [0, 0, 0, ..., 0, 0, 0],\n",
              "        [0, 0, 0, ..., 0, 0, 0],\n",
              "        [0, 0, 0, ..., 0, 0, 0]],\n",
              "\n",
              "       [[0, 0, 0, ..., 0, 0, 0],\n",
              "        [0, 0, 0, ..., 0, 0, 0],\n",
              "        [0, 0, 0, ..., 0, 0, 0],\n",
              "        ...,\n",
              "        [0, 0, 0, ..., 0, 0, 0],\n",
              "        [0, 0, 0, ..., 0, 0, 0],\n",
              "        [0, 0, 0, ..., 0, 0, 0]]], dtype=uint8)"
            ]
          },
          "metadata": {
            "tags": []
          },
          "execution_count": 305
        }
      ]
    },
    {
      "cell_type": "code",
      "metadata": {
        "colab": {
          "base_uri": "https://localhost:8080/"
        },
        "id": "ngUN8crkvQtF",
        "outputId": "c94c1b42-6c11-4c09-e062-7fe28d88a998"
      },
      "source": [
        "y_train_full.shape"
      ],
      "execution_count": null,
      "outputs": [
        {
          "output_type": "execute_result",
          "data": {
            "text/plain": [
              "(60000,)"
            ]
          },
          "metadata": {
            "tags": []
          },
          "execution_count": 306
        }
      ]
    },
    {
      "cell_type": "code",
      "metadata": {
        "colab": {
          "base_uri": "https://localhost:8080/"
        },
        "id": "yJvkTx6fvQ09",
        "outputId": "ba8d6a21-f689-441d-fdeb-c2f4d9733267"
      },
      "source": [
        "y_train_full"
      ],
      "execution_count": null,
      "outputs": [
        {
          "output_type": "execute_result",
          "data": {
            "text/plain": [
              "array([9, 0, 0, ..., 3, 0, 5], dtype=uint8)"
            ]
          },
          "metadata": {
            "tags": []
          },
          "execution_count": 307
        }
      ]
    },
    {
      "cell_type": "markdown",
      "metadata": {
        "id": "qqgGSZaev7tN"
      },
      "source": [
        "The testing set contains 10000 grayscale images, each 28x28 pixels:"
      ]
    },
    {
      "cell_type": "code",
      "metadata": {
        "colab": {
          "base_uri": "https://localhost:8080/"
        },
        "id": "4RK8izB1vQ74",
        "outputId": "610348b4-3fc4-40f8-9733-575f0734d36b"
      },
      "source": [
        "X_test.shape"
      ],
      "execution_count": null,
      "outputs": [
        {
          "output_type": "execute_result",
          "data": {
            "text/plain": [
              "(10000, 28, 28)"
            ]
          },
          "metadata": {
            "tags": []
          },
          "execution_count": 308
        }
      ]
    },
    {
      "cell_type": "code",
      "metadata": {
        "colab": {
          "base_uri": "https://localhost:8080/"
        },
        "id": "Hs8qV6ckwFlC",
        "outputId": "e8576215-1fed-44bb-c7dc-95c4231cd0ab"
      },
      "source": [
        "y_test"
      ],
      "execution_count": null,
      "outputs": [
        {
          "output_type": "execute_result",
          "data": {
            "text/plain": [
              "array([9, 2, 1, ..., 8, 1, 5], dtype=uint8)"
            ]
          },
          "metadata": {
            "tags": []
          },
          "execution_count": 309
        }
      ]
    },
    {
      "cell_type": "markdown",
      "metadata": {
        "id": "e8Xv5cm9wVs_"
      },
      "source": [
        "Let's split the full training set into a validation set and a (smaller) training set. We also scale the pixel intensities down to the **0-1** range and convert them to floats, by dividing by **255**."
      ]
    },
    {
      "cell_type": "code",
      "metadata": {
        "id": "JPyROdM5wF0Y"
      },
      "source": [
        "X_valid, X_train = X_train_full[:5000] / 255., X_train_full[5000:] / 255.\n",
        "y_valid, y_train = y_train_full[:5000], y_train_full[5000:]\n",
        "X_test = X_test / 255"
      ],
      "execution_count": null,
      "outputs": []
    },
    {
      "cell_type": "markdown",
      "metadata": {
        "id": "Nn5Xyl5zxBo9"
      },
      "source": [
        "*The validation set contains 5,000 images*"
      ]
    },
    {
      "cell_type": "code",
      "metadata": {
        "colab": {
          "base_uri": "https://localhost:8080/"
        },
        "id": "C7EAEYLAwF3A",
        "outputId": "a128007b-72cc-47b8-a3b8-9a0ae1256f8a"
      },
      "source": [
        "X_valid.shape"
      ],
      "execution_count": null,
      "outputs": [
        {
          "output_type": "execute_result",
          "data": {
            "text/plain": [
              "(5000, 28, 28)"
            ]
          },
          "metadata": {
            "tags": []
          },
          "execution_count": 311
        }
      ]
    },
    {
      "cell_type": "markdown",
      "metadata": {
        "id": "oWRe5HwZxoFx"
      },
      "source": [
        "*The train set contains 55,000 images*"
      ]
    },
    {
      "cell_type": "code",
      "metadata": {
        "colab": {
          "base_uri": "https://localhost:8080/"
        },
        "id": "2uQsuCoKwF5i",
        "outputId": "c7da4685-910d-4e3b-c2d9-736afb6056d2"
      },
      "source": [
        "X_train.shape"
      ],
      "execution_count": null,
      "outputs": [
        {
          "output_type": "execute_result",
          "data": {
            "text/plain": [
              "(55000, 28, 28)"
            ]
          },
          "metadata": {
            "tags": []
          },
          "execution_count": 312
        }
      ]
    },
    {
      "cell_type": "markdown",
      "metadata": {
        "id": "_o-RgFOzxNEf"
      },
      "source": [
        "*The test set contains 10,000 images*\n"
      ]
    },
    {
      "cell_type": "code",
      "metadata": {
        "colab": {
          "base_uri": "https://localhost:8080/"
        },
        "id": "B8ArbWRKwF7_",
        "outputId": "f6501914-339b-48aa-e095-abcb550c93f8"
      },
      "source": [
        "X_test.shape"
      ],
      "execution_count": null,
      "outputs": [
        {
          "output_type": "execute_result",
          "data": {
            "text/plain": [
              "(10000, 28, 28)"
            ]
          },
          "metadata": {
            "tags": []
          },
          "execution_count": 313
        }
      ]
    },
    {
      "cell_type": "markdown",
      "metadata": {
        "id": "rFNJQ2z9x98C"
      },
      "source": [
        "You can plot an image using Matplotlib's imshow() function, with a 'binary' color map:\n"
      ]
    },
    {
      "cell_type": "code",
      "metadata": {
        "colab": {
          "base_uri": "https://localhost:8080/",
          "height": 248
        },
        "id": "AF3ZcU7QwF-j",
        "outputId": "99a36c76-17a9-4a77-acbd-20dab42a4289"
      },
      "source": [
        "plt.imshow(X_train[0], cmap=\"binary\")\n",
        "plt.axis('off')\n",
        "plt.show()"
      ],
      "execution_count": null,
      "outputs": [
        {
          "output_type": "display_data",
          "data": {
            "image/png": "[encoded data removed]",
            "text/plain": [
              "<Figure size 432x288 with 1 Axes>"
            ]
          },
          "metadata": {
            "tags": [],
            "needs_background": "light"
          }
        }
      ]
    },
    {
      "cell_type": "code",
      "metadata": {
        "colab": {
          "base_uri": "https://localhost:8080/",
          "height": 248
        },
        "id": "JLqr0kOKwGA-",
        "outputId": "f7825b9b-acee-4592-8f12-00ccac754fed"
      },
      "source": [
        "plt.imshow(X_test[0], cmap=\"binary\")\n",
        "plt.axis('off')\n",
        "plt.show()"
      ],
      "execution_count": null,
      "outputs": [
        {
          "output_type": "display_data",
          "data": {
            "image/png": "[encoded data removed]",
            "text/plain": [
              "<Figure size 432x288 with 1 Axes>"
            ]
          },
          "metadata": {
            "tags": [],
            "needs_background": "light"
          }
        }
      ]
    },
    {
      "cell_type": "code",
      "metadata": {
        "colab": {
          "base_uri": "https://localhost:8080/",
          "height": 248
        },
        "id": "i0Red5TmwGDh",
        "outputId": "b26c481e-065b-43c2-df31-55e1647c184b"
      },
      "source": [
        "plt.imshow(X_valid[0], cmap=\"binary\")\n",
        "plt.axis('off')\n",
        "plt.show()"
      ],
      "execution_count": null,
      "outputs": [
        {
          "output_type": "display_data",
          "data": {
            "image/png": "[encoded data removed]",
            "text/plain": [
              "<Figure size 432x288 with 1 Axes>"
            ]
          },
          "metadata": {
            "tags": [],
            "needs_background": "light"
          }
        }
      ]
    },
    {
      "cell_type": "markdown",
      "metadata": {
        "id": "celkx5x6ywVk"
      },
      "source": [
        "The labels are the class IDs (represented as uint8), from 0 to 9:"
      ]
    },
    {
      "cell_type": "code",
      "metadata": {
        "colab": {
          "base_uri": "https://localhost:8080/"
        },
        "id": "odrt7I8bwGGG",
        "outputId": "341e5b43-34dd-4a64-c171-d54ec826cd1b"
      },
      "source": [
        "y_train"
      ],
      "execution_count": null,
      "outputs": [
        {
          "output_type": "execute_result",
          "data": {
            "text/plain": [
              "array([4, 0, 7, ..., 3, 0, 5], dtype=uint8)"
            ]
          },
          "metadata": {
            "tags": []
          },
          "execution_count": 317
        }
      ]
    },
    {
      "cell_type": "markdown",
      "metadata": {
        "id": "UG7sGX2Xy1dD"
      },
      "source": [
        "Here are the corresponding class names:"
      ]
    },
    {
      "cell_type": "code",
      "metadata": {
        "id": "54weKfY1wGIZ"
      },
      "source": [
        "class_names = [\"T-shirt/top\", \"Trouser\", \"Pullover\", \"Dress\", \"Coat\",\"Sandal\", \"Shirt\", \"Sneaker\", \"Bag\", \"Ankle boot\"]"
      ],
      "execution_count": null,
      "outputs": []
    },
    {
      "cell_type": "markdown",
      "metadata": {
        "id": "cL8MTFecy8dZ"
      },
      "source": [
        "So the first image in the training set is a coat:"
      ]
    },
    {
      "cell_type": "code",
      "metadata": {
        "colab": {
          "base_uri": "https://localhost:8080/",
          "height": 37
        },
        "id": "4c5c4uFqwGKp",
        "outputId": "a44e759e-8b9c-438b-8629-ddaa77c299e3"
      },
      "source": [
        "class_names[y_train[0]]"
      ],
      "execution_count": null,
      "outputs": [
        {
          "output_type": "execute_result",
          "data": {
            "application/vnd.google.colaboratory.intrinsic+json": {
              "type": "string"
            },
            "text/plain": [
              "'Coat'"
            ]
          },
          "metadata": {
            "tags": []
          },
          "execution_count": 319
        }
      ]
    },
    {
      "cell_type": "markdown",
      "metadata": {
        "id": "xR86Sg4RzB61"
      },
      "source": [
        "\n",
        "Let's take a look at a sample of the images in the dataset:"
      ]
    },
    {
      "cell_type": "code",
      "metadata": {
        "colab": {
          "base_uri": "https://localhost:8080/",
          "height": 308
        },
        "id": "BmBnDXMewGM9",
        "outputId": "5396f8f2-1490-49ec-c189-bc27f46d3ab7"
      },
      "source": [
        "n_rows = 4\n",
        "n_cols = 10\n",
        "plt.figure(figsize=(n_cols * 1.2, n_rows * 1.2))\n",
        "for row in range(n_rows):\n",
        "    for col in range(n_cols):\n",
        "        index = n_cols * row + col\n",
        "        plt.subplot(n_rows, n_cols, index + 1)\n",
        "        plt.imshow(X_train[index], cmap=\"binary\", interpolation=\"nearest\")\n",
        "        plt.axis('off')\n",
        "        plt.title(class_names[y_train[index]], fontsize=12)\n",
        "plt.subplots_adjust(wspace=0.1, hspace=0.5)\n",
        "plt.show()"
      ],
      "execution_count": null,
      "outputs": [
        {
          "output_type": "display_data",
          "data": {
            "image/png": "[encoded data removed]",
            "text/plain": [
              "<Figure size 864x345.6 with 40 Axes>"
            ]
          },
          "metadata": {
            "tags": [],
            "needs_background": "light"
          }
        }
      ]
    },
    {
      "cell_type": "markdown",
      "metadata": {
        "id": "-wF4j31nzMTD"
      },
      "source": [
        "**Construct a Model**"
      ]
    },
    {
      "cell_type": "code",
      "metadata": {
        "id": "5h19k_PwwGPP"
      },
      "source": [
        "model = keras.models.Sequential()\n",
        "model.add(keras.layers.Flatten(input_shape=[28, 28]))\n",
        "model.add(keras.layers.Dense(300, activation=\"relu\"))\n",
        "model.add(keras.layers.Dense(100, activation=\"relu\"))\n",
        "model.add(keras.layers.Dense(10, activation=\"softmax\"))"
      ],
      "execution_count": null,
      "outputs": []
    },
    {
      "cell_type": "code",
      "metadata": {
        "id": "uBefoCbjwGSE"
      },
      "source": [
        "keras.backend.clear_session()\n",
        "np.random.seed(42)#?"
      ],
      "execution_count": null,
      "outputs": []
    },
    {
      "cell_type": "code",
      "metadata": {
        "colab": {
          "base_uri": "https://localhost:8080/"
        },
        "id": "XSjK089nzZhL",
        "outputId": "c97c3a1d-a643-4805-db6d-086eaab6603a"
      },
      "source": [
        "model.layers"
      ],
      "execution_count": null,
      "outputs": [
        {
          "output_type": "execute_result",
          "data": {
            "text/plain": [
              "[<tensorflow.python.keras.layers.core.Flatten at 0x7f0ce5f92b70>,\n",
              " <tensorflow.python.keras.layers.core.Dense at 0x7f0ce5729cc0>,\n",
              " <tensorflow.python.keras.layers.core.Dense at 0x7f0cc6c97080>,\n",
              " <tensorflow.python.keras.layers.core.Dense at 0x7f0cc6cb09b0>]"
            ]
          },
          "metadata": {
            "tags": []
          },
          "execution_count": 323
        }
      ]
    },
    {
      "cell_type": "code",
      "metadata": {
        "colab": {
          "base_uri": "https://localhost:8080/"
        },
        "id": "FxYUShKvzZqs",
        "outputId": "4750533e-d3b4-46a2-ccf6-110efeaaeb09"
      },
      "source": [
        "model.summary()"
      ],
      "execution_count": null,
      "outputs": [
        {
          "output_type": "stream",
          "text": [
            "Model: \"sequential\"\n",
            "_________________________________________________________________\n",
            "Layer (type)                 Output Shape              Param #   \n",
            "=================================================================\n",
            "flatten (Flatten)            (None, 784)               0         \n",
            "_________________________________________________________________\n",
            "dense (Dense)                (None, 300)               235500    \n",
            "_________________________________________________________________\n",
            "dense_1 (Dense)              (None, 100)               30100     \n",
            "_________________________________________________________________\n",
            "dense_2 (Dense)              (None, 10)                1010      \n",
            "=================================================================\n",
            "Total params: 266,610\n",
            "Trainable params: 266,610\n",
            "Non-trainable params: 0\n",
            "_________________________________________________________________\n"
          ],
          "name": "stdout"
        }
      ]
    },
    {
      "cell_type": "code",
      "metadata": {
        "colab": {
          "base_uri": "https://localhost:8080/",
          "height": 37
        },
        "id": "Z499ZZQczZuf",
        "outputId": "06f7e328-221a-47e9-86e9-abae94ee6eae"
      },
      "source": [
        "hidden1 = model.layers[1]\n",
        "hidden1.name"
      ],
      "execution_count": null,
      "outputs": [
        {
          "output_type": "execute_result",
          "data": {
            "application/vnd.google.colaboratory.intrinsic+json": {
              "type": "string"
            },
            "text/plain": [
              "'dense'"
            ]
          },
          "metadata": {
            "tags": []
          },
          "execution_count": 325
        }
      ]
    },
    {
      "cell_type": "code",
      "metadata": {
        "colab": {
          "base_uri": "https://localhost:8080/"
        },
        "id": "kSFBNB3rzZyc",
        "outputId": "e56e5ef6-99b4-4c37-9cce-b021e00a9e10"
      },
      "source": [
        "model.get_layer(hidden1.name) is hidden1"
      ],
      "execution_count": null,
      "outputs": [
        {
          "output_type": "execute_result",
          "data": {
            "text/plain": [
              "True"
            ]
          },
          "metadata": {
            "tags": []
          },
          "execution_count": 326
        }
      ]
    },
    {
      "cell_type": "code",
      "metadata": {
        "id": "4tzdOPZVzZ5v"
      },
      "source": [
        "weights, biases = hidden1.get_weights()"
      ],
      "execution_count": null,
      "outputs": []
    },
    {
      "cell_type": "code",
      "metadata": {
        "colab": {
          "base_uri": "https://localhost:8080/"
        },
        "id": "tmhRgyfizZxR",
        "outputId": "67d2cec0-c3e9-40f5-9b5f-7301ece4a7b4"
      },
      "source": [
        "weights"
      ],
      "execution_count": null,
      "outputs": [
        {
          "output_type": "execute_result",
          "data": {
            "text/plain": [
              "array([[-0.0651096 ,  0.0325868 , -0.04220156, ...,  0.00991491,\n",
              "        -0.03898571,  0.02701436],\n",
              "       [ 0.06715454, -0.01801533, -0.06622749, ..., -0.04096749,\n",
              "         0.0042126 ,  0.02553277],\n",
              "       [ 0.01163381,  0.002472  ,  0.06352009, ...,  0.00128819,\n",
              "         0.00520138, -0.0269979 ],\n",
              "       ...,\n",
              "       [ 0.01814058, -0.04530952,  0.05976786, ...,  0.03086578,\n",
              "        -0.05118783, -0.05438375],\n",
              "       [ 0.06633453,  0.02748101, -0.01264757, ..., -0.06176372,\n",
              "        -0.05795301,  0.0082702 ],\n",
              "       [ 0.00189321,  0.07219626, -0.06306353, ...,  0.04464698,\n",
              "        -0.06819338,  0.07308213]], dtype=float32)"
            ]
          },
          "metadata": {
            "tags": []
          },
          "execution_count": 328
        }
      ]
    },
    {
      "cell_type": "code",
      "metadata": {
        "colab": {
          "base_uri": "https://localhost:8080/"
        },
        "id": "tKS7CY3Y0F6K",
        "outputId": "446200e1-72c3-44c0-f179-dffe859f00dc"
      },
      "source": [
        "weights.shape"
      ],
      "execution_count": null,
      "outputs": [
        {
          "output_type": "execute_result",
          "data": {
            "text/plain": [
              "(784, 300)"
            ]
          },
          "metadata": {
            "tags": []
          },
          "execution_count": 329
        }
      ]
    },
    {
      "cell_type": "code",
      "metadata": {
        "colab": {
          "base_uri": "https://localhost:8080/"
        },
        "id": "EmdGcHBS0GC8",
        "outputId": "f263692a-f1d7-429b-a976-0fea4c65d29b"
      },
      "source": [
        "biases"
      ],
      "execution_count": null,
      "outputs": [
        {
          "output_type": "execute_result",
          "data": {
            "text/plain": [
              "array([0., 0., 0., 0., 0., 0., 0., 0., 0., 0., 0., 0., 0., 0., 0., 0., 0.,\n",
              "       0., 0., 0., 0., 0., 0., 0., 0., 0., 0., 0., 0., 0., 0., 0., 0., 0.,\n",
              "       0., 0., 0., 0., 0., 0., 0., 0., 0., 0., 0., 0., 0., 0., 0., 0., 0.,\n",
              "       0., 0., 0., 0., 0., 0., 0., 0., 0., 0., 0., 0., 0., 0., 0., 0., 0.,\n",
              "       0., 0., 0., 0., 0., 0., 0., 0., 0., 0., 0., 0., 0., 0., 0., 0., 0.,\n",
              "       0., 0., 0., 0., 0., 0., 0., 0., 0., 0., 0., 0., 0., 0., 0., 0., 0.,\n",
              "       0., 0., 0., 0., 0., 0., 0., 0., 0., 0., 0., 0., 0., 0., 0., 0., 0.,\n",
              "       0., 0., 0., 0., 0., 0., 0., 0., 0., 0., 0., 0., 0., 0., 0., 0., 0.,\n",
              "       0., 0., 0., 0., 0., 0., 0., 0., 0., 0., 0., 0., 0., 0., 0., 0., 0.,\n",
              "       0., 0., 0., 0., 0., 0., 0., 0., 0., 0., 0., 0., 0., 0., 0., 0., 0.,\n",
              "       0., 0., 0., 0., 0., 0., 0., 0., 0., 0., 0., 0., 0., 0., 0., 0., 0.,\n",
              "       0., 0., 0., 0., 0., 0., 0., 0., 0., 0., 0., 0., 0., 0., 0., 0., 0.,\n",
              "       0., 0., 0., 0., 0., 0., 0., 0., 0., 0., 0., 0., 0., 0., 0., 0., 0.,\n",
              "       0., 0., 0., 0., 0., 0., 0., 0., 0., 0., 0., 0., 0., 0., 0., 0., 0.,\n",
              "       0., 0., 0., 0., 0., 0., 0., 0., 0., 0., 0., 0., 0., 0., 0., 0., 0.,\n",
              "       0., 0., 0., 0., 0., 0., 0., 0., 0., 0., 0., 0., 0., 0., 0., 0., 0.,\n",
              "       0., 0., 0., 0., 0., 0., 0., 0., 0., 0., 0., 0., 0., 0., 0., 0., 0.,\n",
              "       0., 0., 0., 0., 0., 0., 0., 0., 0., 0., 0.], dtype=float32)"
            ]
          },
          "metadata": {
            "tags": []
          },
          "execution_count": 330
        }
      ]
    },
    {
      "cell_type": "code",
      "metadata": {
        "colab": {
          "base_uri": "https://localhost:8080/"
        },
        "id": "c_gg-mNI0GFo",
        "outputId": "7c88c765-9073-4641-e0ef-7bf080ccaf06"
      },
      "source": [
        "biases.shape"
      ],
      "execution_count": null,
      "outputs": [
        {
          "output_type": "execute_result",
          "data": {
            "text/plain": [
              "(300,)"
            ]
          },
          "metadata": {
            "tags": []
          },
          "execution_count": 331
        }
      ]
    },
    {
      "cell_type": "markdown",
      "metadata": {
        "id": "HWpIHp_P0SRd"
      },
      "source": [
        "Here you can chose the loss function, the optimizer, the performance metric, etc."
      ]
    },
    {
      "cell_type": "code",
      "metadata": {
        "id": "TlWtQ-wC0GIl"
      },
      "source": [
        "model.compile(loss=\"sparse_categorical_crossentropy\",\n",
        "              optimizer=\"sgd\",\n",
        "              metrics=[\"accuracy\"])\n"
      ],
      "execution_count": null,
      "outputs": []
    },
    {
      "cell_type": "code",
      "metadata": {
        "colab": {
          "base_uri": "https://localhost:8080/"
        },
        "id": "jRP9rhoJ0GjA",
        "outputId": "9c46b9d5-56a3-40df-f773-f4daf4f7e100"
      },
      "source": [
        "history = model.fit(X_train, y_train, batch_size=32, epochs=30,\n",
        "                    validation_data=(X_valid, y_valid))"
      ],
      "execution_count": null,
      "outputs": [
        {
          "output_type": "stream",
          "text": [
            "Epoch 1/30\n",
            "1719/1719 [==============================] - 5s 3ms/step - loss: 0.7067 - accuracy: 0.7709 - val_loss: 0.5268 - val_accuracy: 0.8202\n",
            "Epoch 2/30\n",
            "1719/1719 [==============================] - 5s 3ms/step - loss: 0.4858 - accuracy: 0.8300 - val_loss: 0.4476 - val_accuracy: 0.8496\n",
            "Epoch 3/30\n",
            "1719/1719 [==============================] - 5s 3ms/step - loss: 0.4394 - accuracy: 0.8452 - val_loss: 0.4265 - val_accuracy: 0.8550\n",
            "Epoch 4/30\n",
            "1719/1719 [==============================] - 5s 3ms/step - loss: 0.4125 - accuracy: 0.8537 - val_loss: 0.4170 - val_accuracy: 0.8544\n",
            "Epoch 5/30\n",
            "1719/1719 [==============================] - 5s 3ms/step - loss: 0.3920 - accuracy: 0.8609 - val_loss: 0.3746 - val_accuracy: 0.8704\n",
            "Epoch 6/30\n",
            "1719/1719 [==============================] - 5s 3ms/step - loss: 0.3755 - accuracy: 0.8672 - val_loss: 0.3750 - val_accuracy: 0.8704\n",
            "Epoch 7/30\n",
            "1719/1719 [==============================] - 5s 3ms/step - loss: 0.3625 - accuracy: 0.8711 - val_loss: 0.3995 - val_accuracy: 0.8566\n",
            "Epoch 8/30\n",
            "1719/1719 [==============================] - 5s 3ms/step - loss: 0.3512 - accuracy: 0.8751 - val_loss: 0.3570 - val_accuracy: 0.8754\n",
            "Epoch 9/30\n",
            "1719/1719 [==============================] - 5s 3ms/step - loss: 0.3409 - accuracy: 0.8790 - val_loss: 0.3606 - val_accuracy: 0.8732\n",
            "Epoch 10/30\n",
            "1719/1719 [==============================] - 5s 3ms/step - loss: 0.3301 - accuracy: 0.8828 - val_loss: 0.3414 - val_accuracy: 0.8778\n",
            "Epoch 11/30\n",
            "1719/1719 [==============================] - 5s 3ms/step - loss: 0.3221 - accuracy: 0.8852 - val_loss: 0.3327 - val_accuracy: 0.8824\n",
            "Epoch 12/30\n",
            "1719/1719 [==============================] - 6s 3ms/step - loss: 0.3139 - accuracy: 0.8877 - val_loss: 0.3269 - val_accuracy: 0.8848\n",
            "Epoch 13/30\n",
            "1719/1719 [==============================] - 5s 3ms/step - loss: 0.3066 - accuracy: 0.8896 - val_loss: 0.3238 - val_accuracy: 0.8850\n",
            "Epoch 14/30\n",
            "1719/1719 [==============================] - 5s 3ms/step - loss: 0.2997 - accuracy: 0.8917 - val_loss: 0.3282 - val_accuracy: 0.8794\n",
            "Epoch 15/30\n",
            "1719/1719 [==============================] - 5s 3ms/step - loss: 0.2941 - accuracy: 0.8936 - val_loss: 0.3123 - val_accuracy: 0.8898\n",
            "Epoch 16/30\n",
            "1719/1719 [==============================] - 5s 3ms/step - loss: 0.2874 - accuracy: 0.8966 - val_loss: 0.3175 - val_accuracy: 0.8836\n",
            "Epoch 17/30\n",
            "1719/1719 [==============================] - 5s 3ms/step - loss: 0.2816 - accuracy: 0.8981 - val_loss: 0.3091 - val_accuracy: 0.8908\n",
            "Epoch 18/30\n",
            "1719/1719 [==============================] - 5s 3ms/step - loss: 0.2756 - accuracy: 0.8999 - val_loss: 0.3147 - val_accuracy: 0.8876\n",
            "Epoch 19/30\n",
            "1719/1719 [==============================] - 5s 3ms/step - loss: 0.2711 - accuracy: 0.9017 - val_loss: 0.3264 - val_accuracy: 0.8856\n",
            "Epoch 20/30\n",
            "1719/1719 [==============================] - 5s 3ms/step - loss: 0.2661 - accuracy: 0.9038 - val_loss: 0.3069 - val_accuracy: 0.8898\n",
            "Epoch 21/30\n",
            "1719/1719 [==============================] - 5s 3ms/step - loss: 0.2605 - accuracy: 0.9065 - val_loss: 0.3053 - val_accuracy: 0.8930\n",
            "Epoch 22/30\n",
            "1719/1719 [==============================] - 5s 3ms/step - loss: 0.2567 - accuracy: 0.9070 - val_loss: 0.2898 - val_accuracy: 0.8942\n",
            "Epoch 23/30\n",
            "1719/1719 [==============================] - 5s 3ms/step - loss: 0.2528 - accuracy: 0.9096 - val_loss: 0.3063 - val_accuracy: 0.8862\n",
            "Epoch 24/30\n",
            "1719/1719 [==============================] - 5s 3ms/step - loss: 0.2480 - accuracy: 0.9102 - val_loss: 0.3096 - val_accuracy: 0.8886\n",
            "Epoch 25/30\n",
            "1719/1719 [==============================] - 5s 3ms/step - loss: 0.2439 - accuracy: 0.9119 - val_loss: 0.2901 - val_accuracy: 0.8958\n",
            "Epoch 26/30\n",
            "1719/1719 [==============================] - 6s 3ms/step - loss: 0.2397 - accuracy: 0.9140 - val_loss: 0.2913 - val_accuracy: 0.8978\n",
            "Epoch 27/30\n",
            "1719/1719 [==============================] - 5s 3ms/step - loss: 0.2349 - accuracy: 0.9159 - val_loss: 0.3021 - val_accuracy: 0.8884\n",
            "Epoch 28/30\n",
            "1719/1719 [==============================] - 5s 3ms/step - loss: 0.2314 - accuracy: 0.9158 - val_loss: 0.2959 - val_accuracy: 0.8954\n",
            "Epoch 29/30\n",
            "1719/1719 [==============================] - 5s 3ms/step - loss: 0.2274 - accuracy: 0.9181 - val_loss: 0.2894 - val_accuracy: 0.8966\n",
            "Epoch 30/30\n",
            "1719/1719 [==============================] - 5s 3ms/step - loss: 0.2238 - accuracy: 0.9203 - val_loss: 0.2842 - val_accuracy: 0.8930\n"
          ],
          "name": "stdout"
        }
      ]
    },
    {
      "cell_type": "code",
      "metadata": {
        "colab": {
          "base_uri": "https://localhost:8080/"
        },
        "id": "KjNX2MSp0Gha",
        "outputId": "e550bc40-210b-4922-a63a-25d4d84b19ec"
      },
      "source": [
        "history.params"
      ],
      "execution_count": null,
      "outputs": [
        {
          "output_type": "execute_result",
          "data": {
            "text/plain": [
              "{'epochs': 30, 'steps': 1719, 'verbose': 1}"
            ]
          },
          "metadata": {
            "tags": []
          },
          "execution_count": 334
        }
      ]
    },
    {
      "cell_type": "code",
      "metadata": {
        "colab": {
          "base_uri": "https://localhost:8080/"
        },
        "id": "whSbAhtd0Gfu",
        "outputId": "6260eba6-b115-49e4-f9d3-558c8d2ef086"
      },
      "source": [
        "print(history.epoch)"
      ],
      "execution_count": null,
      "outputs": [
        {
          "output_type": "stream",
          "text": [
            "[0, 1, 2, 3, 4, 5, 6, 7, 8, 9, 10, 11, 12, 13, 14, 15, 16, 17, 18, 19, 20, 21, 22, 23, 24, 25, 26, 27, 28, 29]\n"
          ],
          "name": "stdout"
        }
      ]
    },
    {
      "cell_type": "code",
      "metadata": {
        "colab": {
          "base_uri": "https://localhost:8080/"
        },
        "id": "b52hv5Zf0GeK",
        "outputId": "968ca17c-47f7-43ac-d3b5-9d3becfd576a"
      },
      "source": [
        "history.history.keys()"
      ],
      "execution_count": null,
      "outputs": [
        {
          "output_type": "execute_result",
          "data": {
            "text/plain": [
              "dict_keys(['loss', 'accuracy', 'val_loss', 'val_accuracy'])"
            ]
          },
          "metadata": {
            "tags": []
          },
          "execution_count": 336
        }
      ]
    },
    {
      "cell_type": "markdown",
      "metadata": {
        "id": "UCvA0EBG3Udi"
      },
      "source": [
        "**Plot learning Curves**"
      ]
    },
    {
      "cell_type": "code",
      "metadata": {
        "colab": {
          "base_uri": "https://localhost:8080/",
          "height": 328
        },
        "id": "LSucO08E0GXQ",
        "outputId": "80850299-b049-46fc-b60d-8ba8addcb14b"
      },
      "source": [
        "import pandas as pd\n",
        "\n",
        "pd.DataFrame(history.history).plot(figsize=(8, 5))\n",
        "plt.grid(True)\n",
        "plt.gca().set_ylim(0, 1)\n",
        "plt.show()"
      ],
      "execution_count": null,
      "outputs": [
        {
          "output_type": "display_data",
          "data": {
            "image/png": "[encoded data removed]",
            "text/plain": [
              "<Figure size 576x360 with 1 Axes>"
            ]
          },
          "metadata": {
            "tags": [],
            "needs_background": "light"
          }
        }
      ]
    },
    {
      "cell_type": "code",
      "metadata": {
        "colab": {
          "base_uri": "https://localhost:8080/"
        },
        "id": "qGTfa-vU0GV2",
        "outputId": "f30526d2-671d-444b-e230-3574e69c7729"
      },
      "source": [
        "model.evaluate(X_test, y_test)"
      ],
      "execution_count": null,
      "outputs": [
        {
          "output_type": "stream",
          "text": [
            "313/313 [==============================] - 0s 1ms/step - loss: 0.3276 - accuracy: 0.8820\n"
          ],
          "name": "stdout"
        },
        {
          "output_type": "execute_result",
          "data": {
            "text/plain": [
              "[0.32758739590644836, 0.8820000290870667]"
            ]
          },
          "metadata": {
            "tags": []
          },
          "execution_count": 338
        }
      ]
    },
    {
      "cell_type": "code",
      "metadata": {
        "colab": {
          "base_uri": "https://localhost:8080/"
        },
        "id": "bMUeO2yU0GM6",
        "outputId": "559b666e-ccef-4c70-f45c-12185cdc1f3a"
      },
      "source": [
        "X_new = X_test[:3]\n",
        "y_proba = model.predict(X_new)\n",
        "y_proba.round(5)"
      ],
      "execution_count": null,
      "outputs": [
        {
          "output_type": "stream",
          "text": [
            "WARNING:tensorflow:5 out of the last 9 calls to <function Model.make_predict_function.<locals>.predict_function at 0x7f0ce5d888c8> triggered tf.function retracing. Tracing is expensive and the excessive number of tracings could be due to (1) creating @tf.function repeatedly in a loop, (2) passing tensors with different shapes, (3) passing Python objects instead of tensors. For (1), please define your @tf.function outside of the loop. For (2), @tf.function has experimental_relax_shapes=True option that relaxes argument shapes that can avoid unnecessary retracing. For (3), please refer to https://www.tensorflow.org/tutorials/customization/performance#python_or_tensor_args and https://www.tensorflow.org/api_docs/python/tf/function for  more details.\n"
          ],
          "name": "stdout"
        },
        {
          "output_type": "execute_result",
          "data": {
            "text/plain": [
              "array([[0.0000e+00, 0.0000e+00, 1.0000e-05, 0.0000e+00, 0.0000e+00,\n",
              "        3.5000e-03, 0.0000e+00, 1.0600e-02, 2.8000e-04, 9.8560e-01],\n",
              "       [1.0000e-05, 0.0000e+00, 9.9733e-01, 0.0000e+00, 2.4900e-03,\n",
              "        0.0000e+00, 1.7000e-04, 0.0000e+00, 0.0000e+00, 0.0000e+00],\n",
              "       [2.0000e-05, 9.9998e-01, 0.0000e+00, 0.0000e+00, 0.0000e+00,\n",
              "        0.0000e+00, 0.0000e+00, 0.0000e+00, 0.0000e+00, 0.0000e+00]],\n",
              "      dtype=float32)"
            ]
          },
          "metadata": {
            "tags": []
          },
          "execution_count": 339
        }
      ]
    },
    {
      "cell_type": "code",
      "metadata": {
        "colab": {
          "base_uri": "https://localhost:8080/"
        },
        "id": "9I5VUaX80GLl",
        "outputId": "586d942b-0f24-4da2-8411-807a69d33675"
      },
      "source": [
        "y_pred = model.predict_classes(X_new)\n",
        "y_pred"
      ],
      "execution_count": null,
      "outputs": [
        {
          "output_type": "execute_result",
          "data": {
            "text/plain": [
              "array([9, 2, 1])"
            ]
          },
          "metadata": {
            "tags": []
          },
          "execution_count": 340
        }
      ]
    },
    {
      "cell_type": "code",
      "metadata": {
        "colab": {
          "base_uri": "https://localhost:8080/"
        },
        "id": "v97Kk4bO51T6",
        "outputId": "7224518f-1a64-4432-8eb5-489131edd7ab"
      },
      "source": [
        "np.array(class_names)[y_pred]"
      ],
      "execution_count": null,
      "outputs": [
        {
          "output_type": "execute_result",
          "data": {
            "text/plain": [
              "array(['Ankle boot', 'Pullover', 'Trouser'], dtype='<U11')"
            ]
          },
          "metadata": {
            "tags": []
          },
          "execution_count": 341
        }
      ]
    },
    {
      "cell_type": "code",
      "metadata": {
        "colab": {
          "base_uri": "https://localhost:8080/"
        },
        "id": "hHnfAIkR51kB",
        "outputId": "298413f7-b8f4-45fb-cf21-16673d39b0a3"
      },
      "source": [
        "y_new = y_test[:3]\n",
        "y_new"
      ],
      "execution_count": null,
      "outputs": [
        {
          "output_type": "execute_result",
          "data": {
            "text/plain": [
              "array([9, 2, 1], dtype=uint8)"
            ]
          },
          "metadata": {
            "tags": []
          },
          "execution_count": 342
        }
      ]
    },
    {
      "cell_type": "code",
      "metadata": {
        "colab": {
          "base_uri": "https://localhost:8080/",
          "height": 165
        },
        "id": "Vgq28MT-51tQ",
        "outputId": "c246195a-3898-42c9-e1b4-4ff7f5ede9c7"
      },
      "source": [
        "plt.figure(figsize=(7.2, 2.4))\n",
        "for index, image in enumerate(X_new):\n",
        "    plt.subplot(1, 3, index + 1)\n",
        "    plt.imshow(image, cmap=\"binary\", interpolation=\"nearest\")\n",
        "    plt.axis('off')\n",
        "    plt.title(class_names[y_test[index]], fontsize=12)\n",
        "plt.subplots_adjust(wspace=0.2, hspace=0.5)\n",
        "plt.show()\n"
      ],
      "execution_count": null,
      "outputs": [
        {
          "output_type": "display_data",
          "data": {
            "image/png": "[encoded data removed]",
            "text/plain": [
              "<Figure size 518.4x172.8 with 3 Axes>"
            ]
          },
          "metadata": {
            "tags": [],
            "needs_background": "light"
          }
        }
      ]
    },
    {
      "cell_type": "markdown",
      "metadata": {
        "id": "t4S5RL_86SCX"
      },
      "source": [
        "# **EXERCICE :** "
      ]
    },
    {
      "cell_type": "markdown",
      "metadata": {
        "id": "OR2XpYSb6l2v"
      },
      "source": [
        "# **1) Plot Learning curves when using different optimizers**"
      ]
    },
    {
      "cell_type": "markdown",
      "metadata": {
        "id": "oU41PmTI8qPo"
      },
      "source": [
        "\n",
        "\n",
        "https://keras.io/api/optimizers/\n",
        "\n",
        "\n"
      ]
    },
    {
      "cell_type": "markdown",
      "metadata": {
        "id": "I5pk34J58zNJ"
      },
      "source": [
        "*1.1) optimizer:Nadame*"
      ]
    },
    {
      "cell_type": "code",
      "metadata": {
        "id": "25rSlbuO6PDn"
      },
      "source": [
        "model.compile(loss=\"sparse_categorical_crossentropy\",\n",
        "              optimizer=\"Nadam\",\n",
        "              metrics=[\"accuracy\"])"
      ],
      "execution_count": null,
      "outputs": []
    },
    {
      "cell_type": "code",
      "metadata": {
        "colab": {
          "base_uri": "https://localhost:8080/"
        },
        "id": "_zmadwC29Ac7",
        "outputId": "0c95c33e-4560-4382-8b49-74d0d5243be9"
      },
      "source": [
        "history1 = model.fit(X_train, y_train, batch_size=32, epochs=30,\n",
        "                    validation_data=(X_valid, y_valid))"
      ],
      "execution_count": null,
      "outputs": [
        {
          "output_type": "stream",
          "text": [
            "Epoch 1/30\n",
            "1719/1719 [==============================] - 11s 6ms/step - loss: 0.3576 - accuracy: 0.8692 - val_loss: 0.3855 - val_accuracy: 0.8516\n",
            "Epoch 2/30\n",
            "1719/1719 [==============================] - 11s 6ms/step - loss: 0.3163 - accuracy: 0.8846 - val_loss: 0.3271 - val_accuracy: 0.8802\n",
            "Epoch 3/30\n",
            "1719/1719 [==============================] - 11s 6ms/step - loss: 0.2928 - accuracy: 0.8913 - val_loss: 0.3169 - val_accuracy: 0.8854\n",
            "Epoch 4/30\n",
            "1719/1719 [==============================] - 11s 6ms/step - loss: 0.2782 - accuracy: 0.8968 - val_loss: 0.3135 - val_accuracy: 0.8838\n",
            "Epoch 5/30\n",
            "1719/1719 [==============================] - 11s 6ms/step - loss: 0.2621 - accuracy: 0.9014 - val_loss: 0.3005 - val_accuracy: 0.8872\n",
            "Epoch 6/30\n",
            "1719/1719 [==============================] - 11s 6ms/step - loss: 0.2501 - accuracy: 0.9069 - val_loss: 0.3307 - val_accuracy: 0.8874\n",
            "Epoch 7/30\n",
            "1719/1719 [==============================] - 11s 6ms/step - loss: 0.2407 - accuracy: 0.9100 - val_loss: 0.3261 - val_accuracy: 0.8878\n",
            "Epoch 8/30\n",
            "1719/1719 [==============================] - 11s 6ms/step - loss: 0.2301 - accuracy: 0.9132 - val_loss: 0.2973 - val_accuracy: 0.8976\n",
            "Epoch 9/30\n",
            "1719/1719 [==============================] - 11s 6ms/step - loss: 0.2200 - accuracy: 0.9181 - val_loss: 0.3086 - val_accuracy: 0.8978\n",
            "Epoch 10/30\n",
            "1719/1719 [==============================] - 11s 6ms/step - loss: 0.2134 - accuracy: 0.9195 - val_loss: 0.3227 - val_accuracy: 0.8890\n",
            "Epoch 11/30\n",
            "1719/1719 [==============================] - 11s 6ms/step - loss: 0.2062 - accuracy: 0.9233 - val_loss: 0.3105 - val_accuracy: 0.8936\n",
            "Epoch 12/30\n",
            "1719/1719 [==============================] - 10s 6ms/step - loss: 0.1990 - accuracy: 0.9255 - val_loss: 0.3171 - val_accuracy: 0.8966\n",
            "Epoch 13/30\n",
            "1719/1719 [==============================] - 11s 6ms/step - loss: 0.1940 - accuracy: 0.9276 - val_loss: 0.3106 - val_accuracy: 0.8958\n",
            "Epoch 14/30\n",
            "1719/1719 [==============================] - 11s 6ms/step - loss: 0.1871 - accuracy: 0.9298 - val_loss: 0.3208 - val_accuracy: 0.8988\n",
            "Epoch 15/30\n",
            "1719/1719 [==============================] - 11s 7ms/step - loss: 0.1816 - accuracy: 0.9323 - val_loss: 0.3386 - val_accuracy: 0.8926\n",
            "Epoch 16/30\n",
            "1719/1719 [==============================] - 11s 6ms/step - loss: 0.1751 - accuracy: 0.9333 - val_loss: 0.3453 - val_accuracy: 0.9010\n",
            "Epoch 17/30\n",
            "1719/1719 [==============================] - 11s 6ms/step - loss: 0.1727 - accuracy: 0.9356 - val_loss: 0.3303 - val_accuracy: 0.8994\n",
            "Epoch 18/30\n",
            "1719/1719 [==============================] - 11s 6ms/step - loss: 0.1694 - accuracy: 0.9353 - val_loss: 0.3665 - val_accuracy: 0.8936\n",
            "Epoch 19/30\n",
            "1719/1719 [==============================] - 11s 6ms/step - loss: 0.1622 - accuracy: 0.9375 - val_loss: 0.3607 - val_accuracy: 0.8942\n",
            "Epoch 20/30\n",
            "1719/1719 [==============================] - 11s 6ms/step - loss: 0.1588 - accuracy: 0.9405 - val_loss: 0.3610 - val_accuracy: 0.8988\n",
            "Epoch 21/30\n",
            "1719/1719 [==============================] - 11s 6ms/step - loss: 0.1534 - accuracy: 0.9417 - val_loss: 0.3581 - val_accuracy: 0.8994\n",
            "Epoch 22/30\n",
            "1719/1719 [==============================] - 12s 7ms/step - loss: 0.1530 - accuracy: 0.9414 - val_loss: 0.4282 - val_accuracy: 0.8880\n",
            "Epoch 23/30\n",
            "1719/1719 [==============================] - 11s 6ms/step - loss: 0.1457 - accuracy: 0.9444 - val_loss: 0.4176 - val_accuracy: 0.8914\n",
            "Epoch 24/30\n",
            "1719/1719 [==============================] - 11s 6ms/step - loss: 0.1463 - accuracy: 0.9439 - val_loss: 0.3619 - val_accuracy: 0.8948\n",
            "Epoch 25/30\n",
            "1719/1719 [==============================] - 11s 6ms/step - loss: 0.1398 - accuracy: 0.9459 - val_loss: 0.3764 - val_accuracy: 0.9032\n",
            "Epoch 26/30\n",
            "1719/1719 [==============================] - 10s 6ms/step - loss: 0.1371 - accuracy: 0.9472 - val_loss: 0.4044 - val_accuracy: 0.8932\n",
            "Epoch 27/30\n",
            "1719/1719 [==============================] - 11s 6ms/step - loss: 0.1367 - accuracy: 0.9477 - val_loss: 0.4096 - val_accuracy: 0.8918\n",
            "Epoch 28/30\n",
            "1719/1719 [==============================] - 11s 6ms/step - loss: 0.1279 - accuracy: 0.9515 - val_loss: 0.4138 - val_accuracy: 0.9014\n",
            "Epoch 29/30\n",
            "1719/1719 [==============================] - 11s 6ms/step - loss: 0.1284 - accuracy: 0.9501 - val_loss: 0.4071 - val_accuracy: 0.8950\n",
            "Epoch 30/30\n",
            "1719/1719 [==============================] - 11s 6ms/step - loss: 0.1235 - accuracy: 0.9522 - val_loss: 0.4105 - val_accuracy: 0.9058\n"
          ],
          "name": "stdout"
        }
      ]
    },
    {
      "cell_type": "code",
      "metadata": {
        "colab": {
          "base_uri": "https://localhost:8080/"
        },
        "id": "z-EKNwpb-TpU",
        "outputId": "6111d5fd-2ad6-490a-ebbd-8e054bd6ceed"
      },
      "source": [
        "history1.params"
      ],
      "execution_count": null,
      "outputs": [
        {
          "output_type": "execute_result",
          "data": {
            "text/plain": [
              "{'epochs': 30, 'steps': 1719, 'verbose': 1}"
            ]
          },
          "metadata": {
            "tags": []
          },
          "execution_count": 346
        }
      ]
    },
    {
      "cell_type": "code",
      "metadata": {
        "colab": {
          "base_uri": "https://localhost:8080/",
          "height": 328
        },
        "id": "6d2_tOUq-Ts3",
        "outputId": "a908d363-03d0-4938-e9e6-8b1f7e9670ee"
      },
      "source": [
        "pd.DataFrame(history1.history).plot(figsize=(8, 5))\n",
        "plt.grid(True)\n",
        "plt.gca().set_ylim(0, 1)\n",
        "plt.show()"
      ],
      "execution_count": null,
      "outputs": [
        {
          "output_type": "display_data",
          "data": {
            "image/png": "[encoded data removed]",
            "text/plain": [
              "<Figure size 576x360 with 1 Axes>"
            ]
          },
          "metadata": {
            "tags": [],
            "needs_background": "light"
          }
        }
      ]
    },
    {
      "cell_type": "code",
      "metadata": {
        "colab": {
          "base_uri": "https://localhost:8080/"
        },
        "id": "yRtoMS9q-TwE",
        "outputId": "7aee5ede-887b-491c-af10-51d4fc924edc"
      },
      "source": [
        "model.evaluate(X_test, y_test)"
      ],
      "execution_count": null,
      "outputs": [
        {
          "output_type": "stream",
          "text": [
            "313/313 [==============================] - 0s 2ms/step - loss: 0.4580 - accuracy: 0.8943\n"
          ],
          "name": "stdout"
        },
        {
          "output_type": "execute_result",
          "data": {
            "text/plain": [
              "[0.4580421447753906, 0.8942999839782715]"
            ]
          },
          "metadata": {
            "tags": []
          },
          "execution_count": 348
        }
      ]
    },
    {
      "cell_type": "markdown",
      "metadata": {
        "id": "RywZbwoP_SBT"
      },
      "source": [
        "*1.2) optimizer:RMSprop*\n"
      ]
    },
    {
      "cell_type": "code",
      "metadata": {
        "id": "Cy1rkU1_-Tzn"
      },
      "source": [
        "model.compile(loss=\"sparse_categorical_crossentropy\",\n",
        "              optimizer=\"RMSprop\",\n",
        "              metrics=[\"accuracy\"])"
      ],
      "execution_count": null,
      "outputs": []
    },
    {
      "cell_type": "code",
      "metadata": {
        "colab": {
          "base_uri": "https://localhost:8080/"
        },
        "id": "hAFTzKnZ-T3L",
        "outputId": "843ed92f-7d71-454d-a705-4e7e3063c73d"
      },
      "source": [
        "history2 = model.fit(X_train, y_train, batch_size=32, epochs=30,\n",
        "                    validation_data=(X_valid, y_valid))"
      ],
      "execution_count": null,
      "outputs": [
        {
          "output_type": "stream",
          "text": [
            "Epoch 1/30\n",
            "1719/1719 [==============================] - 9s 5ms/step - loss: 0.1298 - accuracy: 0.9517 - val_loss: 0.5834 - val_accuracy: 0.8902\n",
            "Epoch 2/30\n",
            "1719/1719 [==============================] - 8s 5ms/step - loss: 0.1394 - accuracy: 0.9496 - val_loss: 0.5512 - val_accuracy: 0.8962\n",
            "Epoch 3/30\n",
            "1719/1719 [==============================] - 8s 5ms/step - loss: 0.1417 - accuracy: 0.9488 - val_loss: 0.7313 - val_accuracy: 0.8948\n",
            "Epoch 4/30\n",
            "1719/1719 [==============================] - 8s 5ms/step - loss: 0.1520 - accuracy: 0.9470 - val_loss: 0.7675 - val_accuracy: 0.8890\n",
            "Epoch 5/30\n",
            "1719/1719 [==============================] - 8s 5ms/step - loss: 0.1627 - accuracy: 0.9454 - val_loss: 0.6919 - val_accuracy: 0.8988\n",
            "Epoch 6/30\n",
            "1719/1719 [==============================] - 8s 5ms/step - loss: 0.1646 - accuracy: 0.9450 - val_loss: 0.8472 - val_accuracy: 0.8906\n",
            "Epoch 7/30\n",
            "1719/1719 [==============================] - 8s 5ms/step - loss: 0.1665 - accuracy: 0.9453 - val_loss: 0.8277 - val_accuracy: 0.8902\n",
            "Epoch 8/30\n",
            "1719/1719 [==============================] - 8s 5ms/step - loss: 0.1706 - accuracy: 0.9432 - val_loss: 0.7404 - val_accuracy: 0.8936\n",
            "Epoch 9/30\n",
            "1719/1719 [==============================] - 8s 5ms/step - loss: 0.1762 - accuracy: 0.9433 - val_loss: 0.8862 - val_accuracy: 0.8898\n",
            "Epoch 10/30\n",
            "1719/1719 [==============================] - 8s 5ms/step - loss: 0.1747 - accuracy: 0.9428 - val_loss: 0.8409 - val_accuracy: 0.8934\n",
            "Epoch 11/30\n",
            "1719/1719 [==============================] - 8s 5ms/step - loss: 0.1827 - accuracy: 0.9424 - val_loss: 0.8736 - val_accuracy: 0.8912\n",
            "Epoch 12/30\n",
            "1719/1719 [==============================] - 9s 5ms/step - loss: 0.1817 - accuracy: 0.9429 - val_loss: 0.9265 - val_accuracy: 0.8918\n",
            "Epoch 13/30\n",
            "1719/1719 [==============================] - 8s 5ms/step - loss: 0.1787 - accuracy: 0.9431 - val_loss: 0.9070 - val_accuracy: 0.8840\n",
            "Epoch 14/30\n",
            "1719/1719 [==============================] - 8s 5ms/step - loss: 0.1877 - accuracy: 0.9411 - val_loss: 0.9738 - val_accuracy: 0.8738\n",
            "Epoch 15/30\n",
            "1719/1719 [==============================] - 9s 5ms/step - loss: 0.1855 - accuracy: 0.9427 - val_loss: 0.9963 - val_accuracy: 0.8934\n",
            "Epoch 16/30\n",
            "1719/1719 [==============================] - 9s 5ms/step - loss: 0.1906 - accuracy: 0.9411 - val_loss: 1.0549 - val_accuracy: 0.8900\n",
            "Epoch 17/30\n",
            "1719/1719 [==============================] - 8s 5ms/step - loss: 0.1898 - accuracy: 0.9410 - val_loss: 0.8689 - val_accuracy: 0.8914\n",
            "Epoch 18/30\n",
            "1719/1719 [==============================] - 8s 5ms/step - loss: 0.1868 - accuracy: 0.9435 - val_loss: 0.9833 - val_accuracy: 0.8902\n",
            "Epoch 19/30\n",
            "1719/1719 [==============================] - 8s 5ms/step - loss: 0.1936 - accuracy: 0.9424 - val_loss: 0.9975 - val_accuracy: 0.8922\n",
            "Epoch 20/30\n",
            "1719/1719 [==============================] - 8s 5ms/step - loss: 0.1910 - accuracy: 0.9420 - val_loss: 0.9664 - val_accuracy: 0.8934\n",
            "Epoch 21/30\n",
            "1719/1719 [==============================] - 8s 5ms/step - loss: 0.1992 - accuracy: 0.9403 - val_loss: 1.0357 - val_accuracy: 0.8866\n",
            "Epoch 22/30\n",
            "1719/1719 [==============================] - 8s 5ms/step - loss: 0.1919 - accuracy: 0.9419 - val_loss: 1.1368 - val_accuracy: 0.8966\n",
            "Epoch 23/30\n",
            "1719/1719 [==============================] - 8s 5ms/step - loss: 0.1925 - accuracy: 0.9424 - val_loss: 1.0065 - val_accuracy: 0.8938\n",
            "Epoch 24/30\n",
            "1719/1719 [==============================] - 9s 5ms/step - loss: 0.1951 - accuracy: 0.9440 - val_loss: 1.1245 - val_accuracy: 0.8924\n",
            "Epoch 25/30\n",
            "1719/1719 [==============================] - 10s 6ms/step - loss: 0.2003 - accuracy: 0.9416 - val_loss: 1.1208 - val_accuracy: 0.8874\n",
            "Epoch 26/30\n",
            "1719/1719 [==============================] - 8s 5ms/step - loss: 0.1894 - accuracy: 0.9430 - val_loss: 1.2223 - val_accuracy: 0.8890\n",
            "Epoch 27/30\n",
            "1719/1719 [==============================] - 8s 5ms/step - loss: 0.2002 - accuracy: 0.9432 - val_loss: 1.0564 - val_accuracy: 0.8928\n",
            "Epoch 28/30\n",
            "1719/1719 [==============================] - 8s 5ms/step - loss: 0.1899 - accuracy: 0.9434 - val_loss: 1.2672 - val_accuracy: 0.8726\n",
            "Epoch 29/30\n",
            "1719/1719 [==============================] - 8s 5ms/step - loss: 0.1926 - accuracy: 0.9425 - val_loss: 1.1594 - val_accuracy: 0.8852\n",
            "Epoch 30/30\n",
            "1719/1719 [==============================] - 8s 5ms/step - loss: 0.1934 - accuracy: 0.9433 - val_loss: 1.2391 - val_accuracy: 0.8842\n"
          ],
          "name": "stdout"
        }
      ]
    },
    {
      "cell_type": "code",
      "metadata": {
        "colab": {
          "base_uri": "https://localhost:8080/"
        },
        "id": "BDPaHlVz-T8O",
        "outputId": "db7bce68-7123-4850-d669-1291cbbb8eb2"
      },
      "source": [
        "\n",
        "history2.params"
      ],
      "execution_count": null,
      "outputs": [
        {
          "output_type": "execute_result",
          "data": {
            "text/plain": [
              "{'epochs': 30, 'steps': 1719, 'verbose': 1}"
            ]
          },
          "metadata": {
            "tags": []
          },
          "execution_count": 351
        }
      ]
    },
    {
      "cell_type": "code",
      "metadata": {
        "colab": {
          "base_uri": "https://localhost:8080/",
          "height": 328
        },
        "id": "DpbNF3ly-T6i",
        "outputId": "daca483c-5994-4094-e697-d4f13cc1835f"
      },
      "source": [
        "pd.DataFrame(history2.history).plot(figsize=(8, 5))\n",
        "plt.grid(True)\n",
        "plt.gca().set_ylim(0, 1)\n",
        "plt.show()"
      ],
      "execution_count": null,
      "outputs": [
        {
          "output_type": "display_data",
          "data": {
            "image/png": "[encoded data removed]",
            "text/plain": [
              "<Figure size 576x360 with 1 Axes>"
            ]
          },
          "metadata": {
            "tags": [],
            "needs_background": "light"
          }
        }
      ]
    },
    {
      "cell_type": "code",
      "metadata": {
        "colab": {
          "base_uri": "https://localhost:8080/"
        },
        "id": "bC8E1a9ZA5Oh",
        "outputId": "5686cabf-7788-4951-9166-200c4fd4fd7b"
      },
      "source": [
        "model.evaluate(X_test, y_test)"
      ],
      "execution_count": null,
      "outputs": [
        {
          "output_type": "stream",
          "text": [
            "313/313 [==============================] - 0s 2ms/step - loss: 1.1962 - accuracy: 0.8802\n"
          ],
          "name": "stdout"
        },
        {
          "output_type": "execute_result",
          "data": {
            "text/plain": [
              "[1.1962229013442993, 0.8802000284194946]"
            ]
          },
          "metadata": {
            "tags": []
          },
          "execution_count": 353
        }
      ]
    },
    {
      "cell_type": "markdown",
      "metadata": {
        "id": "PDGkbTlFCsGq"
      },
      "source": [
        "\n",
        "*1.3) optimizer:momentum*\n",
        "\n"
      ]
    },
    {
      "cell_type": "code",
      "metadata": {
        "id": "KLqtBzJnA6Lg"
      },
      "source": [
        "sgd = tf.keras.optimizers.SGD(lr=0.01, decay=1e-6, momentum=0.9, nesterov=True)\n",
        "model.compile(optimizer=sgd,\n",
        "              loss='sparse_categorical_crossentropy',\n",
        "              metrics=['accuracy'])"
      ],
      "execution_count": null,
      "outputs": []
    },
    {
      "cell_type": "code",
      "metadata": {
        "colab": {
          "base_uri": "https://localhost:8080/"
        },
        "id": "rnNX-sxMA6H2",
        "outputId": "68771af4-f7da-4561-bece-97cc1e3c6007"
      },
      "source": [
        "history3 = model.fit(X_train, y_train, batch_size=32, epochs=30,\n",
        "                    validation_data=(X_valid, y_valid))"
      ],
      "execution_count": null,
      "outputs": [
        {
          "output_type": "stream",
          "text": [
            "Epoch 1/30\n",
            "1719/1719 [==============================] - 6s 4ms/step - loss: 8.2447 - accuracy: 0.7731 - val_loss: 0.5316 - val_accuracy: 0.8068\n",
            "Epoch 2/30\n",
            "1719/1719 [==============================] - 6s 3ms/step - loss: 0.4459 - accuracy: 0.8402 - val_loss: 0.4916 - val_accuracy: 0.8348\n",
            "Epoch 3/30\n",
            "1719/1719 [==============================] - 6s 4ms/step - loss: 0.3949 - accuracy: 0.8578 - val_loss: 0.4348 - val_accuracy: 0.8646\n",
            "Epoch 4/30\n",
            "1719/1719 [==============================] - 6s 4ms/step - loss: 0.3592 - accuracy: 0.8723 - val_loss: 0.3961 - val_accuracy: 0.8744\n",
            "Epoch 5/30\n",
            "1719/1719 [==============================] - 6s 4ms/step - loss: 0.3305 - accuracy: 0.8811 - val_loss: 0.3983 - val_accuracy: 0.8728\n",
            "Epoch 6/30\n",
            "1719/1719 [==============================] - 6s 3ms/step - loss: 0.3121 - accuracy: 0.8872 - val_loss: 0.4076 - val_accuracy: 0.8724\n",
            "Epoch 7/30\n",
            "1719/1719 [==============================] - 6s 3ms/step - loss: 0.2951 - accuracy: 0.8929 - val_loss: 0.3990 - val_accuracy: 0.8836\n",
            "Epoch 8/30\n",
            "1719/1719 [==============================] - 6s 4ms/step - loss: 0.2855 - accuracy: 0.8961 - val_loss: 0.3853 - val_accuracy: 0.8792\n",
            "Epoch 9/30\n",
            "1719/1719 [==============================] - 6s 3ms/step - loss: 0.2738 - accuracy: 0.9011 - val_loss: 0.4067 - val_accuracy: 0.8784\n",
            "Epoch 10/30\n",
            "1719/1719 [==============================] - 6s 3ms/step - loss: 0.2636 - accuracy: 0.9043 - val_loss: 0.4109 - val_accuracy: 0.8812\n",
            "Epoch 11/30\n",
            "1719/1719 [==============================] - 6s 3ms/step - loss: 0.2562 - accuracy: 0.9066 - val_loss: 0.4153 - val_accuracy: 0.8756\n",
            "Epoch 12/30\n",
            "1719/1719 [==============================] - 6s 3ms/step - loss: 0.2510 - accuracy: 0.9087 - val_loss: 0.4298 - val_accuracy: 0.8782\n",
            "Epoch 13/30\n",
            "1719/1719 [==============================] - 6s 4ms/step - loss: 0.2431 - accuracy: 0.9117 - val_loss: 0.4231 - val_accuracy: 0.8838\n",
            "Epoch 14/30\n",
            "1719/1719 [==============================] - 6s 3ms/step - loss: 0.2350 - accuracy: 0.9138 - val_loss: 0.4309 - val_accuracy: 0.8756\n",
            "Epoch 15/30\n",
            "1719/1719 [==============================] - 6s 3ms/step - loss: 0.2320 - accuracy: 0.9144 - val_loss: 0.3973 - val_accuracy: 0.8804\n",
            "Epoch 16/30\n",
            "1719/1719 [==============================] - 6s 3ms/step - loss: 0.2259 - accuracy: 0.9169 - val_loss: 0.4177 - val_accuracy: 0.8878\n",
            "Epoch 17/30\n",
            "1719/1719 [==============================] - 8s 4ms/step - loss: 0.2197 - accuracy: 0.9187 - val_loss: 0.4607 - val_accuracy: 0.8864\n",
            "Epoch 18/30\n",
            "1719/1719 [==============================] - 6s 3ms/step - loss: 0.2171 - accuracy: 0.9198 - val_loss: 0.4439 - val_accuracy: 0.8822\n",
            "Epoch 19/30\n",
            "1719/1719 [==============================] - 6s 3ms/step - loss: 0.2162 - accuracy: 0.9207 - val_loss: 0.4569 - val_accuracy: 0.8812\n",
            "Epoch 20/30\n",
            "1719/1719 [==============================] - 6s 3ms/step - loss: 0.2089 - accuracy: 0.9227 - val_loss: 0.4515 - val_accuracy: 0.8808\n",
            "Epoch 21/30\n",
            "1719/1719 [==============================] - 6s 3ms/step - loss: 0.2039 - accuracy: 0.9254 - val_loss: 0.4396 - val_accuracy: 0.8872\n",
            "Epoch 22/30\n",
            "1719/1719 [==============================] - 6s 4ms/step - loss: 0.2013 - accuracy: 0.9254 - val_loss: 0.4477 - val_accuracy: 0.8866\n",
            "Epoch 23/30\n",
            "1719/1719 [==============================] - 6s 4ms/step - loss: 0.1951 - accuracy: 0.9271 - val_loss: 0.4757 - val_accuracy: 0.8886\n",
            "Epoch 24/30\n",
            "1719/1719 [==============================] - 6s 3ms/step - loss: 0.1934 - accuracy: 0.9281 - val_loss: 0.4352 - val_accuracy: 0.8902\n",
            "Epoch 25/30\n",
            "1719/1719 [==============================] - 6s 4ms/step - loss: 0.1893 - accuracy: 0.9299 - val_loss: 0.4547 - val_accuracy: 0.8900\n",
            "Epoch 26/30\n",
            "1719/1719 [==============================] - 6s 3ms/step - loss: 0.1851 - accuracy: 0.9316 - val_loss: 0.4756 - val_accuracy: 0.8918\n",
            "Epoch 27/30\n",
            "1719/1719 [==============================] - 6s 3ms/step - loss: 0.1843 - accuracy: 0.9325 - val_loss: 0.4798 - val_accuracy: 0.8862\n",
            "Epoch 28/30\n",
            "1719/1719 [==============================] - 6s 3ms/step - loss: 0.1816 - accuracy: 0.9320 - val_loss: 0.4569 - val_accuracy: 0.8910\n",
            "Epoch 29/30\n",
            "1719/1719 [==============================] - 6s 4ms/step - loss: 0.1771 - accuracy: 0.9340 - val_loss: 0.4694 - val_accuracy: 0.8894\n",
            "Epoch 30/30\n",
            "1719/1719 [==============================] - 7s 4ms/step - loss: 0.2657 - accuracy: 0.9045 - val_loss: 0.7467 - val_accuracy: 0.7882\n"
          ],
          "name": "stdout"
        }
      ]
    },
    {
      "cell_type": "code",
      "metadata": {
        "colab": {
          "base_uri": "https://localhost:8080/"
        },
        "id": "HyrarI2wA50W",
        "outputId": "9203aabd-4806-4ec6-be9f-bf6dfd02dd43"
      },
      "source": [
        "history3.params"
      ],
      "execution_count": null,
      "outputs": [
        {
          "output_type": "execute_result",
          "data": {
            "text/plain": [
              "{'epochs': 30, 'steps': 1719, 'verbose': 1}"
            ]
          },
          "metadata": {
            "tags": []
          },
          "execution_count": 356
        }
      ]
    },
    {
      "cell_type": "code",
      "metadata": {
        "colab": {
          "base_uri": "https://localhost:8080/",
          "height": 328
        },
        "id": "q2PXPv6OA5yO",
        "outputId": "acdb3d79-605d-47d0-b4c6-3917440f5991"
      },
      "source": [
        "pd.DataFrame(history3.history).plot(figsize=(8, 5))\n",
        "plt.grid(True)\n",
        "plt.gca().set_ylim(0, 1)\n",
        "plt.show()"
      ],
      "execution_count": null,
      "outputs": [
        {
          "output_type": "display_data",
          "data": {
            "image/png": "[encoded data removed]",
            "text/plain": [
              "<Figure size 576x360 with 1 Axes>"
            ]
          },
          "metadata": {
            "tags": [],
            "needs_background": "light"
          }
        }
      ]
    },
    {
      "cell_type": "code",
      "metadata": {
        "colab": {
          "base_uri": "https://localhost:8080/"
        },
        "id": "2laN1efNA5wX",
        "outputId": "89320d73-73a0-4a72-fbdc-e1dda268dc5f"
      },
      "source": [
        "model.evaluate(X_test, y_test)"
      ],
      "execution_count": null,
      "outputs": [
        {
          "output_type": "stream",
          "text": [
            "313/313 [==============================] - 1s 2ms/step - loss: 0.7915 - accuracy: 0.7711\n"
          ],
          "name": "stdout"
        },
        {
          "output_type": "execute_result",
          "data": {
            "text/plain": [
              "[0.7914562821388245, 0.7710999846458435]"
            ]
          },
          "metadata": {
            "tags": []
          },
          "execution_count": 358
        }
      ]
    },
    {
      "cell_type": "code",
      "metadata": {
        "colab": {
          "base_uri": "https://localhost:8080/",
          "height": 1000
        },
        "id": "7rQ_wKjFFSr4",
        "outputId": "674937bb-718d-4285-e9ad-3128cfe4bdb4"
      },
      "source": [
        "pd.DataFrame(history.history).plot(figsize=(8, 5))\n",
        "pd.DataFrame(history1.history).plot(figsize=(8, 5))\n",
        "pd.DataFrame(history3.history).plot(figsize=(8, 5))\n",
        "pd.DataFrame(history2.history).plot(figsize=(8, 5))\n",
        "plt.grid(True)\n",
        "plt.gca().set_ylim(0, 1)\n",
        "plt.show()"
      ],
      "execution_count": null,
      "outputs": [
        {
          "output_type": "display_data",
          "data": {
            "image/png": "[encoded data removed]",
            "text/plain": [
              "<Figure size 576x360 with 1 Axes>"
            ]
          },
          "metadata": {
            "tags": [],
            "needs_background": "light"
          }
        },
        {
          "output_type": "display_data",
          "data": {
            "image/png": "[encoded data removed]",
            "text/plain": [
              "<Figure size 576x360 with 1 Axes>"
            ]
          },
          "metadata": {
            "tags": [],
            "needs_background": "light"
          }
        },
        {
          "output_type": "display_data",
          "data": {
            "image/png": "[encoded data removed]",
            "text/plain": [
              "<Figure size 576x360 with 1 Axes>"
            ]
          },
          "metadata": {
            "tags": [],
            "needs_background": "light"
          }
        },
        {
          "output_type": "display_data",
          "data": {
            "image/png": "[encoded data removed]",
            "text/plain": [
              "<Figure size 576x360 with 1 Axes>"
            ]
          },
          "metadata": {
            "tags": [],
            "needs_background": "light"
          }
        }
      ]
    },
    {
      "cell_type": "markdown",
      "metadata": {
        "id": "zoVX2m22FOHz"
      },
      "source": [
        "# **2) Plot Learning curves when using different batch size**"
      ]
    },
    {
      "cell_type": "code",
      "metadata": {
        "id": "_SMQAc01A5uW"
      },
      "source": [
        "model.compile(loss=\"sparse_categorical_crossentropy\",\n",
        "              optimizer=\"sgd\",\n",
        "              metrics=[\"accuracy\"])"
      ],
      "execution_count": null,
      "outputs": []
    },
    {
      "cell_type": "markdown",
      "metadata": {
        "id": "HxKbMuU3HuUi"
      },
      "source": [
        "*2.1) batch-size:12*"
      ]
    },
    {
      "cell_type": "code",
      "metadata": {
        "colab": {
          "base_uri": "https://localhost:8080/"
        },
        "id": "UTXAlIVpA5iw",
        "outputId": "495da870-4c6e-4681-f198-24cea4e562ad"
      },
      "source": [
        "history4 = model.fit(X_train, y_train, batch_size=12, epochs=30,\n",
        "                    validation_data=(X_valid, y_valid))"
      ],
      "execution_count": null,
      "outputs": [
        {
          "output_type": "stream",
          "text": [
            "Epoch 1/30\n",
            "4584/4584 [==============================] - 11s 2ms/step - loss: 0.3508 - accuracy: 0.8813 - val_loss: 0.4832 - val_accuracy: 0.8642\n",
            "Epoch 2/30\n",
            "4584/4584 [==============================] - 11s 2ms/step - loss: 0.2651 - accuracy: 0.9060 - val_loss: 0.4220 - val_accuracy: 0.8788\n",
            "Epoch 3/30\n",
            "4584/4584 [==============================] - 11s 2ms/step - loss: 0.2349 - accuracy: 0.9151 - val_loss: 0.4377 - val_accuracy: 0.8812\n",
            "Epoch 4/30\n",
            "4584/4584 [==============================] - 11s 2ms/step - loss: 0.2148 - accuracy: 0.9237 - val_loss: 0.4624 - val_accuracy: 0.8786\n",
            "Epoch 5/30\n",
            "4584/4584 [==============================] - 11s 2ms/step - loss: 0.2006 - accuracy: 0.9275 - val_loss: 0.4647 - val_accuracy: 0.8860\n",
            "Epoch 6/30\n",
            "4584/4584 [==============================] - 11s 2ms/step - loss: 0.1932 - accuracy: 0.9303 - val_loss: 0.4520 - val_accuracy: 0.8872\n",
            "Epoch 7/30\n",
            "4584/4584 [==============================] - 11s 2ms/step - loss: 0.1851 - accuracy: 0.9331 - val_loss: 0.4786 - val_accuracy: 0.8840\n",
            "Epoch 8/30\n",
            "4584/4584 [==============================] - 11s 2ms/step - loss: 0.1793 - accuracy: 0.9349 - val_loss: 0.4685 - val_accuracy: 0.8910\n",
            "Epoch 9/30\n",
            "4584/4584 [==============================] - 11s 2ms/step - loss: 0.1741 - accuracy: 0.9369 - val_loss: 0.4823 - val_accuracy: 0.8902\n",
            "Epoch 10/30\n",
            "4584/4584 [==============================] - 11s 2ms/step - loss: 0.1680 - accuracy: 0.9381 - val_loss: 0.4790 - val_accuracy: 0.8890\n",
            "Epoch 11/30\n",
            "4584/4584 [==============================] - 11s 2ms/step - loss: 0.1659 - accuracy: 0.9385 - val_loss: 0.4961 - val_accuracy: 0.8902\n",
            "Epoch 12/30\n",
            "4584/4584 [==============================] - 11s 2ms/step - loss: 0.1630 - accuracy: 0.9401 - val_loss: 0.4933 - val_accuracy: 0.8878\n",
            "Epoch 13/30\n",
            "4584/4584 [==============================] - 12s 3ms/step - loss: 0.1600 - accuracy: 0.9413 - val_loss: 0.4847 - val_accuracy: 0.8914\n",
            "Epoch 14/30\n",
            "4584/4584 [==============================] - 12s 3ms/step - loss: 0.1571 - accuracy: 0.9428 - val_loss: 0.4904 - val_accuracy: 0.8894\n",
            "Epoch 15/30\n",
            "4584/4584 [==============================] - 11s 2ms/step - loss: 0.1549 - accuracy: 0.9435 - val_loss: 0.4888 - val_accuracy: 0.8876\n",
            "Epoch 16/30\n",
            "4584/4584 [==============================] - 11s 2ms/step - loss: 0.1538 - accuracy: 0.9437 - val_loss: 0.5047 - val_accuracy: 0.8878\n",
            "Epoch 17/30\n",
            "4584/4584 [==============================] - 11s 2ms/step - loss: 0.1517 - accuracy: 0.9444 - val_loss: 0.5128 - val_accuracy: 0.8882\n",
            "Epoch 18/30\n",
            "4584/4584 [==============================] - 11s 2ms/step - loss: 0.1497 - accuracy: 0.9451 - val_loss: 0.5085 - val_accuracy: 0.8882\n",
            "Epoch 19/30\n",
            "4584/4584 [==============================] - 11s 2ms/step - loss: 0.1477 - accuracy: 0.9463 - val_loss: 0.5100 - val_accuracy: 0.8872\n",
            "Epoch 20/30\n",
            "4584/4584 [==============================] - 11s 2ms/step - loss: 0.1462 - accuracy: 0.9465 - val_loss: 0.5017 - val_accuracy: 0.8892\n",
            "Epoch 21/30\n",
            "4584/4584 [==============================] - 11s 2ms/step - loss: 0.1452 - accuracy: 0.9477 - val_loss: 0.5283 - val_accuracy: 0.8876\n",
            "Epoch 22/30\n",
            "4584/4584 [==============================] - 13s 3ms/step - loss: 0.1432 - accuracy: 0.9480 - val_loss: 0.5075 - val_accuracy: 0.8896\n",
            "Epoch 23/30\n",
            "4584/4584 [==============================] - 11s 2ms/step - loss: 0.1420 - accuracy: 0.9490 - val_loss: 0.5205 - val_accuracy: 0.8904\n",
            "Epoch 24/30\n",
            "4584/4584 [==============================] - 11s 2ms/step - loss: 0.1414 - accuracy: 0.9483 - val_loss: 0.5251 - val_accuracy: 0.8888\n",
            "Epoch 25/30\n",
            "4584/4584 [==============================] - 11s 2ms/step - loss: 0.1398 - accuracy: 0.9495 - val_loss: 0.5222 - val_accuracy: 0.8924\n",
            "Epoch 26/30\n",
            "4584/4584 [==============================] - 11s 2ms/step - loss: 0.1388 - accuracy: 0.9488 - val_loss: 0.5189 - val_accuracy: 0.8892\n",
            "Epoch 27/30\n",
            "4584/4584 [==============================] - 11s 2ms/step - loss: 0.1372 - accuracy: 0.9502 - val_loss: 0.5275 - val_accuracy: 0.8872\n",
            "Epoch 28/30\n",
            "4584/4584 [==============================] - 11s 2ms/step - loss: 0.1356 - accuracy: 0.9508 - val_loss: 0.5345 - val_accuracy: 0.8874\n",
            "Epoch 29/30\n",
            "4584/4584 [==============================] - 11s 2ms/step - loss: 0.1343 - accuracy: 0.9516 - val_loss: 0.5276 - val_accuracy: 0.8890\n",
            "Epoch 30/30\n",
            "4584/4584 [==============================] - 11s 2ms/step - loss: 0.1341 - accuracy: 0.9508 - val_loss: 0.5445 - val_accuracy: 0.8872\n"
          ],
          "name": "stdout"
        }
      ]
    },
    {
      "cell_type": "code",
      "metadata": {
        "colab": {
          "base_uri": "https://localhost:8080/"
        },
        "id": "TlRwjvRpI5go",
        "outputId": "ca764a06-4296-4f18-ec11-ae82fbf5efe1"
      },
      "source": [
        "history4.params"
      ],
      "execution_count": null,
      "outputs": [
        {
          "output_type": "execute_result",
          "data": {
            "text/plain": [
              "{'epochs': 30, 'steps': 4584, 'verbose': 1}"
            ]
          },
          "metadata": {
            "tags": []
          },
          "execution_count": 362
        }
      ]
    },
    {
      "cell_type": "code",
      "metadata": {
        "colab": {
          "base_uri": "https://localhost:8080/",
          "height": 328
        },
        "id": "wln8eZolImkY",
        "outputId": "67ae8c77-88f5-40ad-e9d9-51aa0618d2db"
      },
      "source": [
        "pd.DataFrame(history4.history).plot(figsize=(8, 5))\n",
        "plt.grid(True)\n",
        "plt.gca().set_ylim(0, 1)\n",
        "plt.show()"
      ],
      "execution_count": null,
      "outputs": [
        {
          "output_type": "display_data",
          "data": {
            "image/png": "[encoded data removed]",
            "text/plain": [
              "<Figure size 576x360 with 1 Axes>"
            ]
          },
          "metadata": {
            "tags": [],
            "needs_background": "light"
          }
        }
      ]
    },
    {
      "cell_type": "code",
      "metadata": {
        "colab": {
          "base_uri": "https://localhost:8080/"
        },
        "id": "bVccno78Ivwe",
        "outputId": "183bd066-b3a7-4c19-d226-d93fadf2faca"
      },
      "source": [
        "model.evaluate(X_test, y_test)"
      ],
      "execution_count": null,
      "outputs": [
        {
          "output_type": "stream",
          "text": [
            "313/313 [==============================] - 0s 1ms/step - loss: 0.5869 - accuracy: 0.8821\n"
          ],
          "name": "stdout"
        },
        {
          "output_type": "execute_result",
          "data": {
            "text/plain": [
              "[0.5868515372276306, 0.882099986076355]"
            ]
          },
          "metadata": {
            "tags": []
          },
          "execution_count": 364
        }
      ]
    },
    {
      "cell_type": "markdown",
      "metadata": {
        "id": "G-rRNTyJJD1f"
      },
      "source": [
        "*2.2) batch-size:18*"
      ]
    },
    {
      "cell_type": "code",
      "metadata": {
        "colab": {
          "base_uri": "https://localhost:8080/"
        },
        "id": "kenhmOcAA5Wk",
        "outputId": "ea2a3bad-7691-4d82-fa9b-89fe0784dbe1"
      },
      "source": [
        "history5 = model.fit(X_train, y_train, batch_size=18, epochs=30,\n",
        "                    validation_data=(X_valid, y_valid))"
      ],
      "execution_count": null,
      "outputs": [
        {
          "output_type": "stream",
          "text": [
            "Epoch 1/30\n",
            "3056/3056 [==============================] - 11s 4ms/step - loss: 0.1290 - accuracy: 0.9541 - val_loss: 0.5313 - val_accuracy: 0.8904\n",
            "Epoch 2/30\n",
            "3056/3056 [==============================] - 7s 2ms/step - loss: 0.1279 - accuracy: 0.9542 - val_loss: 0.5563 - val_accuracy: 0.8896\n",
            "Epoch 3/30\n",
            "3056/3056 [==============================] - 8s 3ms/step - loss: 0.1272 - accuracy: 0.9548 - val_loss: 0.5497 - val_accuracy: 0.8898\n",
            "Epoch 4/30\n",
            "3056/3056 [==============================] - 8s 3ms/step - loss: 0.1265 - accuracy: 0.9549 - val_loss: 0.5562 - val_accuracy: 0.8866\n",
            "Epoch 5/30\n",
            "3056/3056 [==============================] - 8s 3ms/step - loss: 0.1260 - accuracy: 0.9544 - val_loss: 0.5511 - val_accuracy: 0.8896\n",
            "Epoch 6/30\n",
            "3056/3056 [==============================] - 8s 3ms/step - loss: 0.1249 - accuracy: 0.9556 - val_loss: 0.5552 - val_accuracy: 0.8832\n",
            "Epoch 7/30\n",
            "3056/3056 [==============================] - 8s 3ms/step - loss: 0.1247 - accuracy: 0.9557 - val_loss: 0.5636 - val_accuracy: 0.8904\n",
            "Epoch 8/30\n",
            "3056/3056 [==============================] - 8s 3ms/step - loss: 0.1232 - accuracy: 0.9554 - val_loss: 0.5663 - val_accuracy: 0.8886\n",
            "Epoch 9/30\n",
            "3056/3056 [==============================] - 8s 3ms/step - loss: 0.1226 - accuracy: 0.9563 - val_loss: 0.5680 - val_accuracy: 0.8880\n",
            "Epoch 10/30\n",
            "3056/3056 [==============================] - 8s 3ms/step - loss: 0.1223 - accuracy: 0.9564 - val_loss: 0.5810 - val_accuracy: 0.8898\n",
            "Epoch 11/30\n",
            "3056/3056 [==============================] - 8s 3ms/step - loss: 0.1211 - accuracy: 0.9568 - val_loss: 0.5604 - val_accuracy: 0.8870\n",
            "Epoch 12/30\n",
            "3056/3056 [==============================] - 8s 3ms/step - loss: 0.1210 - accuracy: 0.9565 - val_loss: 0.5850 - val_accuracy: 0.8874\n",
            "Epoch 13/30\n",
            "3056/3056 [==============================] - 9s 3ms/step - loss: 0.1207 - accuracy: 0.9577 - val_loss: 0.5700 - val_accuracy: 0.8892\n",
            "Epoch 14/30\n",
            "3056/3056 [==============================] - 8s 3ms/step - loss: 0.1196 - accuracy: 0.9573 - val_loss: 0.5700 - val_accuracy: 0.8872\n",
            "Epoch 15/30\n",
            "3056/3056 [==============================] - 8s 2ms/step - loss: 0.1188 - accuracy: 0.9581 - val_loss: 0.5788 - val_accuracy: 0.8900\n",
            "Epoch 16/30\n",
            "3056/3056 [==============================] - 8s 2ms/step - loss: 0.1180 - accuracy: 0.9575 - val_loss: 0.5889 - val_accuracy: 0.8888\n",
            "Epoch 17/30\n",
            "3056/3056 [==============================] - 8s 3ms/step - loss: 0.1179 - accuracy: 0.9581 - val_loss: 0.5924 - val_accuracy: 0.8882\n",
            "Epoch 18/30\n",
            "3056/3056 [==============================] - 8s 3ms/step - loss: 0.1172 - accuracy: 0.9583 - val_loss: 0.5953 - val_accuracy: 0.8884\n",
            "Epoch 19/30\n",
            "3056/3056 [==============================] - 8s 3ms/step - loss: 0.1168 - accuracy: 0.9582 - val_loss: 0.5897 - val_accuracy: 0.8888\n",
            "Epoch 20/30\n",
            "3056/3056 [==============================] - 8s 3ms/step - loss: 0.1161 - accuracy: 0.9587 - val_loss: 0.5866 - val_accuracy: 0.8878\n",
            "Epoch 21/30\n",
            "3056/3056 [==============================] - 8s 3ms/step - loss: 0.1154 - accuracy: 0.9580 - val_loss: 0.5921 - val_accuracy: 0.8874\n",
            "Epoch 22/30\n",
            "3056/3056 [==============================] - 8s 2ms/step - loss: 0.1145 - accuracy: 0.9593 - val_loss: 0.5961 - val_accuracy: 0.8882\n",
            "Epoch 23/30\n",
            "3056/3056 [==============================] - 8s 3ms/step - loss: 0.1140 - accuracy: 0.9595 - val_loss: 0.6014 - val_accuracy: 0.8908\n",
            "Epoch 24/30\n",
            "3056/3056 [==============================] - 8s 2ms/step - loss: 0.1131 - accuracy: 0.9592 - val_loss: 0.6098 - val_accuracy: 0.8914\n",
            "Epoch 25/30\n",
            "3056/3056 [==============================] - 8s 2ms/step - loss: 0.1132 - accuracy: 0.9602 - val_loss: 0.5925 - val_accuracy: 0.8880\n",
            "Epoch 26/30\n",
            "3056/3056 [==============================] - 10s 3ms/step - loss: 0.1124 - accuracy: 0.9596 - val_loss: 0.6070 - val_accuracy: 0.8882\n",
            "Epoch 27/30\n",
            "3056/3056 [==============================] - 8s 3ms/step - loss: 0.1120 - accuracy: 0.9599 - val_loss: 0.6088 - val_accuracy: 0.8864\n",
            "Epoch 28/30\n",
            "3056/3056 [==============================] - 8s 3ms/step - loss: 0.1115 - accuracy: 0.9603 - val_loss: 0.6044 - val_accuracy: 0.8874\n",
            "Epoch 29/30\n",
            "3056/3056 [==============================] - 8s 3ms/step - loss: 0.1112 - accuracy: 0.9604 - val_loss: 0.6109 - val_accuracy: 0.8906\n",
            "Epoch 30/30\n",
            "3056/3056 [==============================] - 8s 2ms/step - loss: 0.1100 - accuracy: 0.9610 - val_loss: 0.6184 - val_accuracy: 0.8876\n"
          ],
          "name": "stdout"
        }
      ]
    },
    {
      "cell_type": "code",
      "metadata": {
        "colab": {
          "base_uri": "https://localhost:8080/"
        },
        "id": "XnT7UaneJVGP",
        "outputId": "4dbb1d0f-133f-43ed-fe03-1f1b62cb4010"
      },
      "source": [
        "history5.params"
      ],
      "execution_count": null,
      "outputs": [
        {
          "output_type": "execute_result",
          "data": {
            "text/plain": [
              "{'epochs': 30, 'steps': 3056, 'verbose': 1}"
            ]
          },
          "metadata": {
            "tags": []
          },
          "execution_count": 366
        }
      ]
    },
    {
      "cell_type": "code",
      "metadata": {
        "colab": {
          "base_uri": "https://localhost:8080/",
          "height": 328
        },
        "id": "oOR974MiJVWZ",
        "outputId": "40c202c4-f288-4e2f-b9da-735891690cbc"
      },
      "source": [
        "pd.DataFrame(history5.history).plot(figsize=(8, 5))\n",
        "plt.grid(True)\n",
        "plt.gca().set_ylim(0, 1)\n",
        "plt.show()"
      ],
      "execution_count": null,
      "outputs": [
        {
          "output_type": "display_data",
          "data": {
            "image/png": "[encoded data removed]",
            "text/plain": [
              "<Figure size 576x360 with 1 Axes>"
            ]
          },
          "metadata": {
            "tags": [],
            "needs_background": "light"
          }
        }
      ]
    },
    {
      "cell_type": "code",
      "metadata": {
        "colab": {
          "base_uri": "https://localhost:8080/"
        },
        "id": "OvY0qIBxJVrY",
        "outputId": "e4c4408d-b43c-45f6-afd7-6006474c7824"
      },
      "source": [
        "model.evaluate(X_test, y_test)"
      ],
      "execution_count": null,
      "outputs": [
        {
          "output_type": "stream",
          "text": [
            "313/313 [==============================] - 0s 1ms/step - loss: 0.6460 - accuracy: 0.8814\n"
          ],
          "name": "stdout"
        },
        {
          "output_type": "execute_result",
          "data": {
            "text/plain": [
              "[0.6459749937057495, 0.8813999891281128]"
            ]
          },
          "metadata": {
            "tags": []
          },
          "execution_count": 368
        }
      ]
    },
    {
      "cell_type": "markdown",
      "metadata": {
        "id": "iQvjrTTqKJXQ"
      },
      "source": [
        "*2.3) batch-size:25*"
      ]
    },
    {
      "cell_type": "code",
      "metadata": {
        "colab": {
          "base_uri": "https://localhost:8080/"
        },
        "id": "bGq7JlCJA5SM",
        "outputId": "110b0280-843e-4501-fca4-cd3accaa8734"
      },
      "source": [
        "history6 = model.fit(X_train, y_train, batch_size=25, epochs=30,\n",
        "                    validation_data=(X_valid, y_valid))"
      ],
      "execution_count": null,
      "outputs": [
        {
          "output_type": "stream",
          "text": [
            "Epoch 1/30\n",
            "2200/2200 [==============================] - 7s 3ms/step - loss: 0.1075 - accuracy: 0.9619 - val_loss: 0.6200 - val_accuracy: 0.8884\n",
            "Epoch 2/30\n",
            "2200/2200 [==============================] - 7s 3ms/step - loss: 0.1064 - accuracy: 0.9629 - val_loss: 0.6267 - val_accuracy: 0.8870\n",
            "Epoch 3/30\n",
            "2200/2200 [==============================] - 7s 3ms/step - loss: 0.1065 - accuracy: 0.9627 - val_loss: 0.6250 - val_accuracy: 0.8896\n",
            "Epoch 4/30\n",
            "2200/2200 [==============================] - 7s 3ms/step - loss: 0.1060 - accuracy: 0.9627 - val_loss: 0.6267 - val_accuracy: 0.8888\n",
            "Epoch 5/30\n",
            "2200/2200 [==============================] - 7s 3ms/step - loss: 0.1053 - accuracy: 0.9631 - val_loss: 0.6238 - val_accuracy: 0.8876\n",
            "Epoch 6/30\n",
            "2200/2200 [==============================] - 7s 3ms/step - loss: 0.1051 - accuracy: 0.9632 - val_loss: 0.6312 - val_accuracy: 0.8886\n",
            "Epoch 7/30\n",
            "2200/2200 [==============================] - 7s 3ms/step - loss: 0.1045 - accuracy: 0.9632 - val_loss: 0.6266 - val_accuracy: 0.8864\n",
            "Epoch 8/30\n",
            "2200/2200 [==============================] - 7s 3ms/step - loss: 0.1045 - accuracy: 0.9637 - val_loss: 0.6390 - val_accuracy: 0.8878\n",
            "Epoch 9/30\n",
            "2200/2200 [==============================] - 7s 3ms/step - loss: 0.1039 - accuracy: 0.9632 - val_loss: 0.6284 - val_accuracy: 0.8888\n",
            "Epoch 10/30\n",
            "2200/2200 [==============================] - 7s 3ms/step - loss: 0.1035 - accuracy: 0.9629 - val_loss: 0.6370 - val_accuracy: 0.8880\n",
            "Epoch 11/30\n",
            "2200/2200 [==============================] - 7s 3ms/step - loss: 0.1028 - accuracy: 0.9642 - val_loss: 0.6419 - val_accuracy: 0.8876\n",
            "Epoch 12/30\n",
            "2200/2200 [==============================] - 7s 3ms/step - loss: 0.1031 - accuracy: 0.9639 - val_loss: 0.6368 - val_accuracy: 0.8868\n",
            "Epoch 13/30\n",
            "2200/2200 [==============================] - 7s 3ms/step - loss: 0.1022 - accuracy: 0.9639 - val_loss: 0.6414 - val_accuracy: 0.8886\n",
            "Epoch 14/30\n",
            "2200/2200 [==============================] - 7s 3ms/step - loss: 0.1016 - accuracy: 0.9641 - val_loss: 0.6457 - val_accuracy: 0.8868\n",
            "Epoch 15/30\n",
            "2200/2200 [==============================] - 7s 3ms/step - loss: 0.1013 - accuracy: 0.9643 - val_loss: 0.6519 - val_accuracy: 0.8872\n",
            "Epoch 16/30\n",
            "2200/2200 [==============================] - 7s 3ms/step - loss: 0.1010 - accuracy: 0.9651 - val_loss: 0.6467 - val_accuracy: 0.8862\n",
            "Epoch 17/30\n",
            "2200/2200 [==============================] - 7s 3ms/step - loss: 0.1007 - accuracy: 0.9642 - val_loss: 0.6613 - val_accuracy: 0.8888\n",
            "Epoch 18/30\n",
            "2200/2200 [==============================] - 7s 3ms/step - loss: 0.1004 - accuracy: 0.9642 - val_loss: 0.6445 - val_accuracy: 0.8876\n",
            "Epoch 19/30\n",
            "2200/2200 [==============================] - 7s 3ms/step - loss: 0.1002 - accuracy: 0.9651 - val_loss: 0.6625 - val_accuracy: 0.8892\n",
            "Epoch 20/30\n",
            "2200/2200 [==============================] - 7s 3ms/step - loss: 0.0994 - accuracy: 0.9651 - val_loss: 0.6590 - val_accuracy: 0.8870\n",
            "Epoch 21/30\n",
            "2200/2200 [==============================] - 7s 3ms/step - loss: 0.0994 - accuracy: 0.9656 - val_loss: 0.6684 - val_accuracy: 0.8878\n",
            "Epoch 22/30\n",
            "2200/2200 [==============================] - 8s 4ms/step - loss: 0.0990 - accuracy: 0.9651 - val_loss: 0.6612 - val_accuracy: 0.8870\n",
            "Epoch 23/30\n",
            "2200/2200 [==============================] - 7s 3ms/step - loss: 0.0981 - accuracy: 0.9656 - val_loss: 0.6708 - val_accuracy: 0.8862\n",
            "Epoch 24/30\n",
            "2200/2200 [==============================] - 7s 3ms/step - loss: 0.0982 - accuracy: 0.9653 - val_loss: 0.6639 - val_accuracy: 0.8880\n",
            "Epoch 25/30\n",
            "2200/2200 [==============================] - 7s 3ms/step - loss: 0.0977 - accuracy: 0.9658 - val_loss: 0.6713 - val_accuracy: 0.8880\n",
            "Epoch 26/30\n",
            "2200/2200 [==============================] - 7s 3ms/step - loss: 0.0973 - accuracy: 0.9658 - val_loss: 0.6699 - val_accuracy: 0.8874\n",
            "Epoch 27/30\n",
            "2200/2200 [==============================] - 7s 3ms/step - loss: 0.0969 - accuracy: 0.9661 - val_loss: 0.6719 - val_accuracy: 0.8864\n",
            "Epoch 28/30\n",
            "2200/2200 [==============================] - 7s 3ms/step - loss: 0.0965 - accuracy: 0.9663 - val_loss: 0.6831 - val_accuracy: 0.8866\n",
            "Epoch 29/30\n",
            "2200/2200 [==============================] - 7s 3ms/step - loss: 0.0959 - accuracy: 0.9668 - val_loss: 0.6795 - val_accuracy: 0.8866\n",
            "Epoch 30/30\n",
            "2200/2200 [==============================] - 7s 3ms/step - loss: 0.0961 - accuracy: 0.9666 - val_loss: 0.6777 - val_accuracy: 0.8870\n"
          ],
          "name": "stdout"
        }
      ]
    },
    {
      "cell_type": "code",
      "metadata": {
        "colab": {
          "base_uri": "https://localhost:8080/"
        },
        "id": "6tOl_0L9JhT3",
        "outputId": "40496358-297f-4e9b-95b7-743bd3f17095"
      },
      "source": [
        "history6.params"
      ],
      "execution_count": null,
      "outputs": [
        {
          "output_type": "execute_result",
          "data": {
            "text/plain": [
              "{'epochs': 30, 'steps': 2200, 'verbose': 1}"
            ]
          },
          "metadata": {
            "tags": []
          },
          "execution_count": 370
        }
      ]
    },
    {
      "cell_type": "code",
      "metadata": {
        "colab": {
          "base_uri": "https://localhost:8080/",
          "height": 328
        },
        "id": "VZhtjBzUJhdo",
        "outputId": "773614a3-5f95-455e-d73a-dc9be8559871"
      },
      "source": [
        "pd.DataFrame(history6.history).plot(figsize=(8, 5))\n",
        "plt.grid(True)\n",
        "plt.gca().set_ylim(0, 1)\n",
        "plt.show()"
      ],
      "execution_count": null,
      "outputs": [
        {
          "output_type": "display_data",
          "data": {
            "image/png": "[encoded data removed]",
            "text/plain": [
              "<Figure size 576x360 with 1 Axes>"
            ]
          },
          "metadata": {
            "tags": [],
            "needs_background": "light"
          }
        }
      ]
    },
    {
      "cell_type": "code",
      "metadata": {
        "colab": {
          "base_uri": "https://localhost:8080/"
        },
        "id": "Guc4ohZUJhiA",
        "outputId": "3c8ad4b0-db65-4ca7-9ec2-19acefe44c8a"
      },
      "source": [
        "model.evaluate(X_test, y_test)"
      ],
      "execution_count": null,
      "outputs": [
        {
          "output_type": "stream",
          "text": [
            "313/313 [==============================] - 0s 2ms/step - loss: 0.7097 - accuracy: 0.8809\n"
          ],
          "name": "stdout"
        },
        {
          "output_type": "execute_result",
          "data": {
            "text/plain": [
              "[0.7097203731536865, 0.8809000253677368]"
            ]
          },
          "metadata": {
            "tags": []
          },
          "execution_count": 372
        }
      ]
    },
    {
      "cell_type": "markdown",
      "metadata": {
        "id": "iD0WcYC8KEL2"
      },
      "source": [
        "*2.4) batch-size:40*"
      ]
    },
    {
      "cell_type": "code",
      "metadata": {
        "colab": {
          "base_uri": "https://localhost:8080/"
        },
        "id": "00f54dzcJidz",
        "outputId": "e7aac062-4c9b-4737-f101-99b445a2b0b9"
      },
      "source": [
        "history7 = model.fit(X_train, y_train, batch_size=40, epochs=30,\n",
        "                    validation_data=(X_valid, y_valid))"
      ],
      "execution_count": null,
      "outputs": [
        {
          "output_type": "stream",
          "text": [
            "Epoch 1/30\n",
            "1375/1375 [==============================] - 6s 4ms/step - loss: 0.0932 - accuracy: 0.9683 - val_loss: 0.6786 - val_accuracy: 0.8874\n",
            "Epoch 2/30\n",
            "1375/1375 [==============================] - 5s 4ms/step - loss: 0.0927 - accuracy: 0.9683 - val_loss: 0.6788 - val_accuracy: 0.8850\n",
            "Epoch 3/30\n",
            "1375/1375 [==============================] - 6s 5ms/step - loss: 0.0927 - accuracy: 0.9682 - val_loss: 0.6890 - val_accuracy: 0.8860\n",
            "Epoch 4/30\n",
            "1375/1375 [==============================] - 6s 5ms/step - loss: 0.0921 - accuracy: 0.9682 - val_loss: 0.6926 - val_accuracy: 0.8868\n",
            "Epoch 5/30\n",
            "1375/1375 [==============================] - 5s 4ms/step - loss: 0.0918 - accuracy: 0.9681 - val_loss: 0.6854 - val_accuracy: 0.8858\n",
            "Epoch 6/30\n",
            "1375/1375 [==============================] - 5s 4ms/step - loss: 0.0916 - accuracy: 0.9682 - val_loss: 0.6882 - val_accuracy: 0.8864\n",
            "Epoch 7/30\n",
            "1375/1375 [==============================] - 5s 4ms/step - loss: 0.0914 - accuracy: 0.9683 - val_loss: 0.6903 - val_accuracy: 0.8856\n",
            "Epoch 8/30\n",
            "1375/1375 [==============================] - 5s 4ms/step - loss: 0.0914 - accuracy: 0.9684 - val_loss: 0.6908 - val_accuracy: 0.8874\n",
            "Epoch 9/30\n",
            "1375/1375 [==============================] - 5s 4ms/step - loss: 0.0910 - accuracy: 0.9685 - val_loss: 0.6921 - val_accuracy: 0.8862\n",
            "Epoch 10/30\n",
            "1375/1375 [==============================] - 5s 4ms/step - loss: 0.0907 - accuracy: 0.9687 - val_loss: 0.6924 - val_accuracy: 0.8854\n",
            "Epoch 11/30\n",
            "1375/1375 [==============================] - 6s 4ms/step - loss: 0.0907 - accuracy: 0.9689 - val_loss: 0.6940 - val_accuracy: 0.8858\n",
            "Epoch 12/30\n",
            "1375/1375 [==============================] - 5s 4ms/step - loss: 0.0902 - accuracy: 0.9689 - val_loss: 0.7000 - val_accuracy: 0.8866\n",
            "Epoch 13/30\n",
            "1375/1375 [==============================] - 5s 4ms/step - loss: 0.0903 - accuracy: 0.9688 - val_loss: 0.6896 - val_accuracy: 0.8874\n",
            "Epoch 14/30\n",
            "1375/1375 [==============================] - 6s 4ms/step - loss: 0.0899 - accuracy: 0.9690 - val_loss: 0.7039 - val_accuracy: 0.8876\n",
            "Epoch 15/30\n",
            "1375/1375 [==============================] - 5s 4ms/step - loss: 0.0898 - accuracy: 0.9690 - val_loss: 0.7031 - val_accuracy: 0.8860\n",
            "Epoch 16/30\n",
            "1375/1375 [==============================] - 5s 4ms/step - loss: 0.0894 - accuracy: 0.9694 - val_loss: 0.7026 - val_accuracy: 0.8850\n",
            "Epoch 17/30\n",
            "1375/1375 [==============================] - 5s 4ms/step - loss: 0.0893 - accuracy: 0.9689 - val_loss: 0.7066 - val_accuracy: 0.8864\n",
            "Epoch 18/30\n",
            "1375/1375 [==============================] - 5s 4ms/step - loss: 0.0890 - accuracy: 0.9692 - val_loss: 0.7040 - val_accuracy: 0.8860\n",
            "Epoch 19/30\n",
            "1375/1375 [==============================] - 6s 4ms/step - loss: 0.0890 - accuracy: 0.9697 - val_loss: 0.7096 - val_accuracy: 0.8860\n",
            "Epoch 20/30\n",
            "1375/1375 [==============================] - 5s 4ms/step - loss: 0.0887 - accuracy: 0.9694 - val_loss: 0.7103 - val_accuracy: 0.8838\n",
            "Epoch 21/30\n",
            "1375/1375 [==============================] - 5s 4ms/step - loss: 0.0883 - accuracy: 0.9699 - val_loss: 0.7176 - val_accuracy: 0.8848\n",
            "Epoch 22/30\n",
            "1375/1375 [==============================] - 5s 4ms/step - loss: 0.0881 - accuracy: 0.9694 - val_loss: 0.7152 - val_accuracy: 0.8862\n",
            "Epoch 23/30\n",
            "1375/1375 [==============================] - 5s 4ms/step - loss: 0.0879 - accuracy: 0.9697 - val_loss: 0.7116 - val_accuracy: 0.8880\n",
            "Epoch 24/30\n",
            "1375/1375 [==============================] - 5s 4ms/step - loss: 0.0875 - accuracy: 0.9703 - val_loss: 0.7144 - val_accuracy: 0.8852\n",
            "Epoch 25/30\n",
            "1375/1375 [==============================] - 5s 4ms/step - loss: 0.0875 - accuracy: 0.9700 - val_loss: 0.7180 - val_accuracy: 0.8856\n",
            "Epoch 26/30\n",
            "1375/1375 [==============================] - 5s 4ms/step - loss: 0.0871 - accuracy: 0.9705 - val_loss: 0.7204 - val_accuracy: 0.8860\n",
            "Epoch 27/30\n",
            "1375/1375 [==============================] - 5s 4ms/step - loss: 0.0869 - accuracy: 0.9703 - val_loss: 0.7241 - val_accuracy: 0.8844\n",
            "Epoch 28/30\n",
            "1375/1375 [==============================] - 6s 4ms/step - loss: 0.0866 - accuracy: 0.9699 - val_loss: 0.7322 - val_accuracy: 0.8852\n",
            "Epoch 29/30\n",
            "1375/1375 [==============================] - 6s 4ms/step - loss: 0.0865 - accuracy: 0.9707 - val_loss: 0.7229 - val_accuracy: 0.8858\n",
            "Epoch 30/30\n",
            "1375/1375 [==============================] - 5s 4ms/step - loss: 0.0863 - accuracy: 0.9708 - val_loss: 0.7201 - val_accuracy: 0.8856\n"
          ],
          "name": "stdout"
        }
      ]
    },
    {
      "cell_type": "code",
      "metadata": {
        "colab": {
          "base_uri": "https://localhost:8080/"
        },
        "id": "hg4agLEIJiQ-",
        "outputId": "28dfedb5-4645-450f-bcc2-ae94b123ef8d"
      },
      "source": [
        "history7.params"
      ],
      "execution_count": null,
      "outputs": [
        {
          "output_type": "execute_result",
          "data": {
            "text/plain": [
              "{'epochs': 30, 'steps': 1375, 'verbose': 1}"
            ]
          },
          "metadata": {
            "tags": []
          },
          "execution_count": 374
        }
      ]
    },
    {
      "cell_type": "code",
      "metadata": {
        "colab": {
          "base_uri": "https://localhost:8080/",
          "height": 328
        },
        "id": "IJAjW1RyJiOv",
        "outputId": "42a1f518-f73f-4c78-c2bb-e22aaa4cb483"
      },
      "source": [
        "pd.DataFrame(history7.history).plot(figsize=(8, 5))\n",
        "plt.grid(True)\n",
        "plt.gca().set_ylim(0, 1)\n",
        "plt.show()"
      ],
      "execution_count": null,
      "outputs": [
        {
          "output_type": "display_data",
          "data": {
            "image/png": "[encoded data removed]",
            "text/plain": [
              "<Figure size 576x360 with 1 Axes>"
            ]
          },
          "metadata": {
            "tags": [],
            "needs_background": "light"
          }
        }
      ]
    },
    {
      "cell_type": "code",
      "metadata": {
        "colab": {
          "base_uri": "https://localhost:8080/"
        },
        "id": "tCB_ILpEJiMc",
        "outputId": "f9fa86cd-2182-40fe-adea-47e4415ec8bb"
      },
      "source": [
        "model.evaluate(X_test, y_test)"
      ],
      "execution_count": null,
      "outputs": [
        {
          "output_type": "stream",
          "text": [
            "313/313 [==============================] - 0s 1ms/step - loss: 0.7520 - accuracy: 0.8803\n"
          ],
          "name": "stdout"
        },
        {
          "output_type": "execute_result",
          "data": {
            "text/plain": [
              "[0.7519619464874268, 0.880299985408783]"
            ]
          },
          "metadata": {
            "tags": []
          },
          "execution_count": 376
        }
      ]
    },
    {
      "cell_type": "code",
      "metadata": {
        "colab": {
          "base_uri": "https://localhost:8080/",
          "height": 1000
        },
        "id": "FShF04sPM8H9",
        "outputId": "a381e0ab-e68a-4cc0-a7de-6f893347e1cc"
      },
      "source": [
        "pd.DataFrame(history4.history).plot(figsize=(8, 5))\n",
        "pd.DataFrame(history5.history).plot(figsize=(8, 5))\n",
        "pd.DataFrame(history6.history).plot(figsize=(8, 5))\n",
        "pd.DataFrame(history7.history).plot(figsize=(8, 5))\n",
        "plt.grid(True)\n",
        "plt.gca().set_ylim(0, 1)\n",
        "plt.show()"
      ],
      "execution_count": null,
      "outputs": [
        {
          "output_type": "display_data",
          "data": {
            "image/png": "[encoded data removed]",
            "text/plain": [
              "<Figure size 576x360 with 1 Axes>"
            ]
          },
          "metadata": {
            "tags": [],
            "needs_background": "light"
          }
        },
        {
          "output_type": "display_data",
          "data": {
            "image/png": "[encoded data removed]",
            "text/plain": [
              "<Figure size 576x360 with 1 Axes>"
            ]
          },
          "metadata": {
            "tags": [],
            "needs_background": "light"
          }
        },
        {
          "output_type": "display_data",
          "data": {
            "image/png": "[encoded data removed]",
            "text/plain": [
              "<Figure size 576x360 with 1 Axes>"
            ]
          },
          "metadata": {
            "tags": [],
            "needs_background": "light"
          }
        },
        {
          "output_type": "display_data",
          "data": {
            "image/png": "[encoded data removed]",
            "text/plain": [
              "<Figure size 576x360 with 1 Axes>"
            ]
          },
          "metadata": {
            "tags": [],
            "needs_background": "light"
          }
        }
      ]
    },
    {
      "cell_type": "markdown",
      "metadata": {
        "id": "4hKEY5ZNK5pL"
      },
      "source": [
        "# **3) Plot Learning curves when using different number of epochs**"
      ]
    },
    {
      "cell_type": "markdown",
      "metadata": {
        "id": "P7-TwQYxLF4Y"
      },
      "source": [
        "*3.1)number of epochs=6*"
      ]
    },
    {
      "cell_type": "code",
      "metadata": {
        "colab": {
          "base_uri": "https://localhost:8080/"
        },
        "id": "xClyS6JfLsPf",
        "outputId": "18c21db3-24b1-4f8d-8a44-407e7fd3b43c"
      },
      "source": [
        "history8 = model.fit(X_train, y_train, batch_size=32, epochs=6,\n",
        "                    validation_data=(X_valid, y_valid))"
      ],
      "execution_count": null,
      "outputs": [
        {
          "output_type": "stream",
          "text": [
            "Epoch 1/6\n",
            "1719/1719 [==============================] - 6s 4ms/step - loss: 0.0872 - accuracy: 0.9697 - val_loss: 0.7329 - val_accuracy: 0.8880\n",
            "Epoch 2/6\n",
            "1719/1719 [==============================] - 5s 3ms/step - loss: 0.0872 - accuracy: 0.9699 - val_loss: 0.7218 - val_accuracy: 0.8850\n",
            "Epoch 3/6\n",
            "1719/1719 [==============================] - 5s 3ms/step - loss: 0.0868 - accuracy: 0.9706 - val_loss: 0.7286 - val_accuracy: 0.8846\n",
            "Epoch 4/6\n",
            "1719/1719 [==============================] - 5s 3ms/step - loss: 0.0863 - accuracy: 0.9706 - val_loss: 0.7341 - val_accuracy: 0.8874\n",
            "Epoch 5/6\n",
            "1719/1719 [==============================] - 5s 3ms/step - loss: 0.0864 - accuracy: 0.9702 - val_loss: 0.7321 - val_accuracy: 0.8864\n",
            "Epoch 6/6\n",
            "1719/1719 [==============================] - 5s 3ms/step - loss: 0.0859 - accuracy: 0.9702 - val_loss: 0.7551 - val_accuracy: 0.8860\n"
          ],
          "name": "stdout"
        }
      ]
    },
    {
      "cell_type": "code",
      "metadata": {
        "colab": {
          "base_uri": "https://localhost:8080/"
        },
        "id": "bBkkitF0Lz0i",
        "outputId": "24049279-8449-45ea-ad60-42633d828183"
      },
      "source": [
        "history8.params"
      ],
      "execution_count": null,
      "outputs": [
        {
          "output_type": "execute_result",
          "data": {
            "text/plain": [
              "{'epochs': 6, 'steps': 1719, 'verbose': 1}"
            ]
          },
          "metadata": {
            "tags": []
          },
          "execution_count": 379
        }
      ]
    },
    {
      "cell_type": "code",
      "metadata": {
        "colab": {
          "base_uri": "https://localhost:8080/",
          "height": 328
        },
        "id": "f9kYHTn6L25U",
        "outputId": "b843d1d2-1efa-4ab5-e862-627be89f1d0b"
      },
      "source": [
        "pd.DataFrame(history8.history).plot(figsize=(8, 5))\n",
        "plt.grid(True)\n",
        "plt.gca().set_ylim(0, 1)\n",
        "plt.show()"
      ],
      "execution_count": null,
      "outputs": [
        {
          "output_type": "display_data",
          "data": {
            "image/png": "[encoded data removed]",
            "text/plain": [
              "<Figure size 576x360 with 1 Axes>"
            ]
          },
          "metadata": {
            "tags": [],
            "needs_background": "light"
          }
        }
      ]
    },
    {
      "cell_type": "code",
      "metadata": {
        "colab": {
          "base_uri": "https://localhost:8080/"
        },
        "id": "MaW6HdOQL4mB",
        "outputId": "1639addd-9535-4aa6-a754-b56f19cd1503"
      },
      "source": [
        "model.evaluate(X_test, y_test)"
      ],
      "execution_count": null,
      "outputs": [
        {
          "output_type": "stream",
          "text": [
            "313/313 [==============================] - 0s 1ms/step - loss: 0.7821 - accuracy: 0.8806\n"
          ],
          "name": "stdout"
        },
        {
          "output_type": "execute_result",
          "data": {
            "text/plain": [
              "[0.7820857167243958, 0.8805999755859375]"
            ]
          },
          "metadata": {
            "tags": []
          },
          "execution_count": 381
        }
      ]
    },
    {
      "cell_type": "markdown",
      "metadata": {
        "id": "0iK8rpAiLHeU"
      },
      "source": [
        "*3.2)number of epochs=40*"
      ]
    },
    {
      "cell_type": "code",
      "metadata": {
        "colab": {
          "base_uri": "https://localhost:8080/"
        },
        "id": "tsB9f4xmMCo-",
        "outputId": "63d70f2e-fb1d-43ca-840c-f335910740c0"
      },
      "source": [
        "history9 = model.fit(X_train, y_train, batch_size=32, epochs=40,\n",
        "                    validation_data=(X_valid, y_valid))"
      ],
      "execution_count": null,
      "outputs": [
        {
          "output_type": "stream",
          "text": [
            "Epoch 1/40\n",
            "1719/1719 [==============================] - 5s 3ms/step - loss: 0.0860 - accuracy: 0.9701 - val_loss: 0.7380 - val_accuracy: 0.8836\n",
            "Epoch 2/40\n",
            "1719/1719 [==============================] - 5s 3ms/step - loss: 0.0856 - accuracy: 0.9712 - val_loss: 0.7424 - val_accuracy: 0.8878\n",
            "Epoch 3/40\n",
            "1719/1719 [==============================] - 5s 3ms/step - loss: 0.0852 - accuracy: 0.9706 - val_loss: 0.7436 - val_accuracy: 0.8878\n",
            "Epoch 4/40\n",
            "1719/1719 [==============================] - 5s 3ms/step - loss: 0.0848 - accuracy: 0.9711 - val_loss: 0.7422 - val_accuracy: 0.8858\n",
            "Epoch 5/40\n",
            "1719/1719 [==============================] - 5s 3ms/step - loss: 0.0849 - accuracy: 0.9712 - val_loss: 0.7463 - val_accuracy: 0.8872\n",
            "Epoch 6/40\n",
            "1719/1719 [==============================] - 5s 3ms/step - loss: 0.0845 - accuracy: 0.9707 - val_loss: 0.7543 - val_accuracy: 0.8868\n",
            "Epoch 7/40\n",
            "1719/1719 [==============================] - 5s 3ms/step - loss: 0.0841 - accuracy: 0.9713 - val_loss: 0.7380 - val_accuracy: 0.8858\n",
            "Epoch 8/40\n",
            "1719/1719 [==============================] - 5s 3ms/step - loss: 0.0837 - accuracy: 0.9715 - val_loss: 0.7574 - val_accuracy: 0.8858\n",
            "Epoch 9/40\n",
            "1719/1719 [==============================] - 5s 3ms/step - loss: 0.0836 - accuracy: 0.9715 - val_loss: 0.7584 - val_accuracy: 0.8850\n",
            "Epoch 10/40\n",
            "1719/1719 [==============================] - 5s 3ms/step - loss: 0.0836 - accuracy: 0.9718 - val_loss: 0.7517 - val_accuracy: 0.8848\n",
            "Epoch 11/40\n",
            "1719/1719 [==============================] - 5s 3ms/step - loss: 0.0832 - accuracy: 0.9720 - val_loss: 0.7455 - val_accuracy: 0.8846\n",
            "Epoch 12/40\n",
            "1719/1719 [==============================] - 6s 4ms/step - loss: 0.0828 - accuracy: 0.9714 - val_loss: 0.7616 - val_accuracy: 0.8856\n",
            "Epoch 13/40\n",
            "1719/1719 [==============================] - 6s 3ms/step - loss: 0.0822 - accuracy: 0.9721 - val_loss: 0.7545 - val_accuracy: 0.8852\n",
            "Epoch 14/40\n",
            "1719/1719 [==============================] - 6s 4ms/step - loss: 0.0827 - accuracy: 0.9720 - val_loss: 0.7544 - val_accuracy: 0.8860\n",
            "Epoch 15/40\n",
            "1719/1719 [==============================] - 6s 3ms/step - loss: 0.0821 - accuracy: 0.9722 - val_loss: 0.7596 - val_accuracy: 0.8862\n",
            "Epoch 16/40\n",
            "1719/1719 [==============================] - 5s 3ms/step - loss: 0.0822 - accuracy: 0.9723 - val_loss: 0.7632 - val_accuracy: 0.8870\n",
            "Epoch 17/40\n",
            "1719/1719 [==============================] - 5s 3ms/step - loss: 0.0815 - accuracy: 0.9724 - val_loss: 0.7562 - val_accuracy: 0.8850\n",
            "Epoch 18/40\n",
            "1719/1719 [==============================] - 5s 3ms/step - loss: 0.0811 - accuracy: 0.9724 - val_loss: 0.7643 - val_accuracy: 0.8866\n",
            "Epoch 19/40\n",
            "1719/1719 [==============================] - 5s 3ms/step - loss: 0.0811 - accuracy: 0.9726 - val_loss: 0.7653 - val_accuracy: 0.8862\n",
            "Epoch 20/40\n",
            "1719/1719 [==============================] - 5s 3ms/step - loss: 0.0814 - accuracy: 0.9722 - val_loss: 0.7724 - val_accuracy: 0.8866\n",
            "Epoch 21/40\n",
            "1719/1719 [==============================] - 5s 3ms/step - loss: 0.0809 - accuracy: 0.9726 - val_loss: 0.7709 - val_accuracy: 0.8858\n",
            "Epoch 22/40\n",
            "1719/1719 [==============================] - 5s 3ms/step - loss: 0.0807 - accuracy: 0.9724 - val_loss: 0.7644 - val_accuracy: 0.8844\n",
            "Epoch 23/40\n",
            "1719/1719 [==============================] - 5s 3ms/step - loss: 0.0806 - accuracy: 0.9725 - val_loss: 0.7714 - val_accuracy: 0.8834\n",
            "Epoch 24/40\n",
            "1719/1719 [==============================] - 5s 3ms/step - loss: 0.0800 - accuracy: 0.9727 - val_loss: 0.7802 - val_accuracy: 0.8842\n",
            "Epoch 25/40\n",
            "1719/1719 [==============================] - 5s 3ms/step - loss: 0.0798 - accuracy: 0.9727 - val_loss: 0.7777 - val_accuracy: 0.8846\n",
            "Epoch 26/40\n",
            "1719/1719 [==============================] - 5s 3ms/step - loss: 0.0796 - accuracy: 0.9724 - val_loss: 0.7727 - val_accuracy: 0.8870\n",
            "Epoch 27/40\n",
            "1719/1719 [==============================] - 5s 3ms/step - loss: 0.0793 - accuracy: 0.9741 - val_loss: 0.7787 - val_accuracy: 0.8850\n",
            "Epoch 28/40\n",
            "1719/1719 [==============================] - 5s 3ms/step - loss: 0.0793 - accuracy: 0.9730 - val_loss: 0.7843 - val_accuracy: 0.8858\n",
            "Epoch 29/40\n",
            "1719/1719 [==============================] - 5s 3ms/step - loss: 0.0793 - accuracy: 0.9736 - val_loss: 0.7832 - val_accuracy: 0.8840\n",
            "Epoch 30/40\n",
            "1719/1719 [==============================] - 5s 3ms/step - loss: 0.0786 - accuracy: 0.9729 - val_loss: 0.7912 - val_accuracy: 0.8860\n",
            "Epoch 31/40\n",
            "1719/1719 [==============================] - 5s 3ms/step - loss: 0.0786 - accuracy: 0.9736 - val_loss: 0.7832 - val_accuracy: 0.8858\n",
            "Epoch 32/40\n",
            "1719/1719 [==============================] - 5s 3ms/step - loss: 0.0782 - accuracy: 0.9739 - val_loss: 0.7941 - val_accuracy: 0.8848\n",
            "Epoch 33/40\n",
            "1719/1719 [==============================] - 5s 3ms/step - loss: 0.0779 - accuracy: 0.9736 - val_loss: 0.7881 - val_accuracy: 0.8862\n",
            "Epoch 34/40\n",
            "1719/1719 [==============================] - 5s 3ms/step - loss: 0.0775 - accuracy: 0.9742 - val_loss: 0.7945 - val_accuracy: 0.8856\n",
            "Epoch 35/40\n",
            "1719/1719 [==============================] - 5s 3ms/step - loss: 0.0777 - accuracy: 0.9737 - val_loss: 0.7935 - val_accuracy: 0.8858\n",
            "Epoch 36/40\n",
            "1719/1719 [==============================] - 5s 3ms/step - loss: 0.0775 - accuracy: 0.9748 - val_loss: 0.7934 - val_accuracy: 0.8846\n",
            "Epoch 37/40\n",
            "1719/1719 [==============================] - 5s 3ms/step - loss: 0.0768 - accuracy: 0.9742 - val_loss: 0.7971 - val_accuracy: 0.8854\n",
            "Epoch 38/40\n",
            "1719/1719 [==============================] - 5s 3ms/step - loss: 0.0767 - accuracy: 0.9738 - val_loss: 0.8007 - val_accuracy: 0.8848\n",
            "Epoch 39/40\n",
            "1719/1719 [==============================] - 5s 3ms/step - loss: 0.0768 - accuracy: 0.9743 - val_loss: 0.8068 - val_accuracy: 0.8854\n",
            "Epoch 40/40\n",
            "1719/1719 [==============================] - 5s 3ms/step - loss: 0.0763 - accuracy: 0.9743 - val_loss: 0.8026 - val_accuracy: 0.8844\n"
          ],
          "name": "stdout"
        }
      ]
    },
    {
      "cell_type": "code",
      "metadata": {
        "colab": {
          "base_uri": "https://localhost:8080/"
        },
        "id": "Ai8wMIPIMC5o",
        "outputId": "c5e2803a-786f-43bd-b4ba-9c8c5129e482"
      },
      "source": [
        "history9.params"
      ],
      "execution_count": null,
      "outputs": [
        {
          "output_type": "execute_result",
          "data": {
            "text/plain": [
              "{'epochs': 40, 'steps': 1719, 'verbose': 1}"
            ]
          },
          "metadata": {
            "tags": []
          },
          "execution_count": 383
        }
      ]
    },
    {
      "cell_type": "code",
      "metadata": {
        "colab": {
          "base_uri": "https://localhost:8080/",
          "height": 328
        },
        "id": "IZl294oBMDMc",
        "outputId": "11567a72-773e-4a43-b5e0-842d5d2fbfbc"
      },
      "source": [
        "pd.DataFrame(history9.history).plot(figsize=(8, 5))\n",
        "plt.grid(True)\n",
        "plt.gca().set_ylim(0, 1)\n",
        "plt.show()"
      ],
      "execution_count": null,
      "outputs": [
        {
          "output_type": "display_data",
          "data": {
            "image/png": "[encoded data removed]",
            "text/plain": [
              "<Figure size 576x360 with 1 Axes>"
            ]
          },
          "metadata": {
            "tags": [],
            "needs_background": "light"
          }
        }
      ]
    },
    {
      "cell_type": "code",
      "metadata": {
        "colab": {
          "base_uri": "https://localhost:8080/"
        },
        "id": "Enskqn1RMDkY",
        "outputId": "b70e280d-f6b2-4bea-d528-d7b25c584d88"
      },
      "source": [
        "model.evaluate(X_test, y_test)"
      ],
      "execution_count": null,
      "outputs": [
        {
          "output_type": "stream",
          "text": [
            "313/313 [==============================] - 0s 2ms/step - loss: 0.8361 - accuracy: 0.8811\n"
          ],
          "name": "stdout"
        },
        {
          "output_type": "execute_result",
          "data": {
            "text/plain": [
              "[0.8361045122146606, 0.8810999989509583]"
            ]
          },
          "metadata": {
            "tags": []
          },
          "execution_count": 385
        }
      ]
    },
    {
      "cell_type": "code",
      "metadata": {
        "colab": {
          "base_uri": "https://localhost:8080/",
          "height": 635
        },
        "id": "ZSTSKegxJhsP",
        "outputId": "41ddc376-2b1b-4bc1-d8a1-3df5e7a19eb8"
      },
      "source": [
        "pd.DataFrame(history8.history).plot(figsize=(8, 5))\n",
        "pd.DataFrame(history9.history).plot(figsize=(8, 5))\n",
        "\n",
        "plt.grid(True)\n",
        "plt.gca().set_ylim(0, 1)\n",
        "plt.show()"
      ],
      "execution_count": null,
      "outputs": [
        {
          "output_type": "display_data",
          "data": {
            "image/png": "[encoded data removed]",
            "text/plain": [
              "<Figure size 576x360 with 1 Axes>"
            ]
          },
          "metadata": {
            "tags": [],
            "needs_background": "light"
          }
        },
        {
          "output_type": "display_data",
          "data": {
            "image/png": "[encoded data removed]",
            "text/plain": [
              "<Figure size 576x360 with 1 Axes>"
            ]
          },
          "metadata": {
            "tags": [],
            "needs_background": "light"
          }
        }
      ]
    },
    {
      "cell_type": "markdown",
      "metadata": {
        "id": "5si6ZHVrO3mH"
      },
      "source": [
        "# **4) repeat with more layers**"
      ]
    },
    {
      "cell_type": "code",
      "metadata": {
        "id": "PS1EhLDsJhqD"
      },
      "source": [
        "model = keras.models.Sequential()\n",
        "model.add(keras.layers.Flatten(input_shape=[28, 28]))\n",
        "model.add(keras.layers.Dense(200, activation=\"relu\"))\n",
        "model.add(keras.layers.Dense(180, activation=\"softmax\"))\n",
        "model.add((keras.layers.Dropout(0.5)))\n",
        "model.add(keras.layers.Dense(150, activation=\"relu\"))\n",
        "model.add((keras.layers.Dropout(0.5)))\n",
        "model.add(keras.layers.Dense(80, activation=\"relu\"))\n",
        "model.add(keras.layers.Dense(50, activation=\"relu\"))\n",
        "model.add(keras.layers.BatchNormalization())\n",
        "model.add(keras.layers.Dense(10, activation=\"softmax\"))"
      ],
      "execution_count": null,
      "outputs": []
    },
    {
      "cell_type": "code",
      "metadata": {
        "colab": {
          "base_uri": "https://localhost:8080/"
        },
        "id": "MGmpp0alJhmZ",
        "outputId": "931fa259-f32d-4fb6-e43b-5dc262f22163"
      },
      "source": [
        "model.layers"
      ],
      "execution_count": null,
      "outputs": [
        {
          "output_type": "execute_result",
          "data": {
            "text/plain": [
              "[<tensorflow.python.keras.layers.core.Flatten at 0x7f0cd16bd710>,\n",
              " <tensorflow.python.keras.layers.core.Dense at 0x7f0ce5869a90>,\n",
              " <tensorflow.python.keras.layers.core.Dense at 0x7f0ce58698d0>,\n",
              " <tensorflow.python.keras.layers.core.Dropout at 0x7f0ce5869518>,\n",
              " <tensorflow.python.keras.layers.core.Dense at 0x7f0ce58699b0>,\n",
              " <tensorflow.python.keras.layers.core.Dropout at 0x7f0cceafdf28>,\n",
              " <tensorflow.python.keras.layers.core.Dense at 0x7f0cceafdb38>,\n",
              " <tensorflow.python.keras.layers.core.Dense at 0x7f0ce57e0080>,\n",
              " <tensorflow.python.keras.layers.normalization_v2.BatchNormalization at 0x7f0cd17188d0>,\n",
              " <tensorflow.python.keras.layers.core.Dense at 0x7f0cd1718518>]"
            ]
          },
          "metadata": {
            "tags": []
          },
          "execution_count": 388
        }
      ]
    },
    {
      "cell_type": "code",
      "metadata": {
        "id": "U51fhqywPrgv"
      },
      "source": [
        "model.compile(loss=\"sparse_categorical_crossentropy\",\n",
        "              optimizer=\"sgd\",\n",
        "              metrics=[\"accuracy\"])"
      ],
      "execution_count": null,
      "outputs": []
    },
    {
      "cell_type": "code",
      "metadata": {
        "colab": {
          "base_uri": "https://localhost:8080/"
        },
        "id": "76sqoUX5Ptim",
        "outputId": "b39d362b-e184-4e75-9ec0-8831afa7a50d"
      },
      "source": [
        "history11 = model.fit(X_train, y_train, batch_size=32, epochs=30,\n",
        "                    validation_data=(X_valid, y_valid))"
      ],
      "execution_count": null,
      "outputs": [
        {
          "output_type": "stream",
          "text": [
            "Epoch 1/30\n",
            "1719/1719 [==============================] - 7s 4ms/step - loss: 1.7136 - accuracy: 0.3403 - val_loss: 0.9670 - val_accuracy: 0.6062\n",
            "Epoch 2/30\n",
            "1719/1719 [==============================] - 6s 4ms/step - loss: 1.1014 - accuracy: 0.5592 - val_loss: 0.8212 - val_accuracy: 0.6832\n",
            "Epoch 3/30\n",
            "1719/1719 [==============================] - 6s 4ms/step - loss: 0.9648 - accuracy: 0.6210 - val_loss: 0.7071 - val_accuracy: 0.7234\n",
            "Epoch 4/30\n",
            "1719/1719 [==============================] - 6s 3ms/step - loss: 0.8721 - accuracy: 0.6687 - val_loss: 0.6699 - val_accuracy: 0.7532\n",
            "Epoch 5/30\n",
            "1719/1719 [==============================] - 6s 4ms/step - loss: 0.8108 - accuracy: 0.6957 - val_loss: 0.6280 - val_accuracy: 0.7644\n",
            "Epoch 6/30\n",
            "1719/1719 [==============================] - 6s 4ms/step - loss: 0.7696 - accuracy: 0.7142 - val_loss: 0.6144 - val_accuracy: 0.7526\n",
            "Epoch 7/30\n",
            "1719/1719 [==============================] - 6s 4ms/step - loss: 0.7457 - accuracy: 0.7268 - val_loss: 0.6814 - val_accuracy: 0.7234\n",
            "Epoch 8/30\n",
            "1719/1719 [==============================] - 6s 4ms/step - loss: 0.7165 - accuracy: 0.7379 - val_loss: 0.5901 - val_accuracy: 0.7536\n",
            "Epoch 9/30\n",
            "1719/1719 [==============================] - 6s 4ms/step - loss: 0.6944 - accuracy: 0.7465 - val_loss: 0.6106 - val_accuracy: 0.7136\n",
            "Epoch 10/30\n",
            "1719/1719 [==============================] - 6s 4ms/step - loss: 0.6829 - accuracy: 0.7546 - val_loss: 0.5327 - val_accuracy: 0.8192\n",
            "Epoch 11/30\n",
            "1719/1719 [==============================] - 6s 4ms/step - loss: 0.6617 - accuracy: 0.7630 - val_loss: 0.6111 - val_accuracy: 0.7808\n",
            "Epoch 12/30\n",
            "1719/1719 [==============================] - 6s 4ms/step - loss: 0.6441 - accuracy: 0.7700 - val_loss: 0.5401 - val_accuracy: 0.8020\n",
            "Epoch 13/30\n",
            "1719/1719 [==============================] - 6s 4ms/step - loss: 0.6271 - accuracy: 0.7812 - val_loss: 0.5402 - val_accuracy: 0.8008\n",
            "Epoch 14/30\n",
            "1719/1719 [==============================] - 6s 4ms/step - loss: 0.6170 - accuracy: 0.7850 - val_loss: 0.5201 - val_accuracy: 0.8034\n",
            "Epoch 15/30\n",
            "1719/1719 [==============================] - 6s 4ms/step - loss: 0.6061 - accuracy: 0.7900 - val_loss: 0.5486 - val_accuracy: 0.8026\n",
            "Epoch 16/30\n",
            "1719/1719 [==============================] - 6s 4ms/step - loss: 0.5959 - accuracy: 0.7934 - val_loss: 0.5440 - val_accuracy: 0.8066\n",
            "Epoch 17/30\n",
            "1719/1719 [==============================] - 6s 4ms/step - loss: 0.5891 - accuracy: 0.7982 - val_loss: 0.5458 - val_accuracy: 0.7972\n",
            "Epoch 18/30\n",
            "1719/1719 [==============================] - 6s 4ms/step - loss: 0.5741 - accuracy: 0.8018 - val_loss: 0.5228 - val_accuracy: 0.8056\n",
            "Epoch 19/30\n",
            "1719/1719 [==============================] - 6s 4ms/step - loss: 0.5695 - accuracy: 0.8044 - val_loss: 0.5363 - val_accuracy: 0.7906\n",
            "Epoch 20/30\n",
            "1719/1719 [==============================] - 6s 4ms/step - loss: 0.5584 - accuracy: 0.8071 - val_loss: 0.5345 - val_accuracy: 0.8076\n",
            "Epoch 21/30\n",
            "1719/1719 [==============================] - 7s 4ms/step - loss: 0.5562 - accuracy: 0.8108 - val_loss: 0.5224 - val_accuracy: 0.8046\n",
            "Epoch 22/30\n",
            "1719/1719 [==============================] - 7s 4ms/step - loss: 0.5451 - accuracy: 0.8133 - val_loss: 0.5166 - val_accuracy: 0.8256\n",
            "Epoch 23/30\n",
            "1719/1719 [==============================] - 6s 4ms/step - loss: 0.5378 - accuracy: 0.8162 - val_loss: 0.5287 - val_accuracy: 0.7918\n",
            "Epoch 24/30\n",
            "1719/1719 [==============================] - 6s 4ms/step - loss: 0.5373 - accuracy: 0.8181 - val_loss: 0.5170 - val_accuracy: 0.8252\n",
            "Epoch 25/30\n",
            "1719/1719 [==============================] - 6s 4ms/step - loss: 0.5261 - accuracy: 0.8213 - val_loss: 0.5728 - val_accuracy: 0.7308\n",
            "Epoch 26/30\n",
            "1719/1719 [==============================] - 6s 4ms/step - loss: 0.5208 - accuracy: 0.8234 - val_loss: 0.5287 - val_accuracy: 0.7966\n",
            "Epoch 27/30\n",
            "1719/1719 [==============================] - 6s 4ms/step - loss: 0.5169 - accuracy: 0.8253 - val_loss: 0.4984 - val_accuracy: 0.8284\n",
            "Epoch 28/30\n",
            "1719/1719 [==============================] - 6s 4ms/step - loss: 0.5120 - accuracy: 0.8287 - val_loss: 0.5198 - val_accuracy: 0.8104\n",
            "Epoch 29/30\n",
            "1719/1719 [==============================] - 6s 4ms/step - loss: 0.5084 - accuracy: 0.8287 - val_loss: 0.5479 - val_accuracy: 0.7946\n",
            "Epoch 30/30\n",
            "1719/1719 [==============================] - 6s 4ms/step - loss: 0.5021 - accuracy: 0.8315 - val_loss: 0.5117 - val_accuracy: 0.8304\n"
          ],
          "name": "stdout"
        }
      ]
    },
    {
      "cell_type": "code",
      "metadata": {
        "colab": {
          "base_uri": "https://localhost:8080/",
          "height": 328
        },
        "id": "BYI7lCNjP9Kx",
        "outputId": "d31a5d69-c250-4a77-e029-f20714bbfcca"
      },
      "source": [
        "pd.DataFrame(history11.history).plot(figsize=(8, 5))\n",
        "plt.grid(True)\n",
        "plt.gca().set_ylim(0, 1)\n",
        "plt.show()"
      ],
      "execution_count": null,
      "outputs": [
        {
          "output_type": "display_data",
          "data": {
            "image/png": "[encoded data removed]",
            "text/plain": [
              "<Figure size 576x360 with 1 Axes>"
            ]
          },
          "metadata": {
            "tags": [],
            "needs_background": "light"
          }
        }
      ]
    },
    {
      "cell_type": "code",
      "metadata": {
        "colab": {
          "base_uri": "https://localhost:8080/"
        },
        "id": "kh1aWBlVnxsf",
        "outputId": "24ca75ba-8fc7-49e0-f51c-c911f344d6b7"
      },
      "source": [
        "model.evaluate(X_test, y_test)"
      ],
      "execution_count": null,
      "outputs": [
        {
          "output_type": "stream",
          "text": [
            "313/313 [==============================] - 0s 2ms/step - loss: 0.5350 - accuracy: 0.8221\n"
          ],
          "name": "stdout"
        },
        {
          "output_type": "execute_result",
          "data": {
            "text/plain": [
              "[0.5350481271743774, 0.8220999836921692]"
            ]
          },
          "metadata": {
            "tags": []
          },
          "execution_count": 392
        }
      ]
    },
    {
      "cell_type": "markdown",
      "metadata": {
        "id": "v9O8TMl5qcNX"
      },
      "source": [
        ""
      ]
    }
  ]
}